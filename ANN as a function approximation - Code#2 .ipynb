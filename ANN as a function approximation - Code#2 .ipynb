{
 "cells": [
  {
   "cell_type": "markdown",
   "metadata": {},
   "source": [
    "### Introduction\n",
    "\n",
    "This notebook tries to utilize neural network as a function approximation .. \n",
    "\n",
    "Link: https://towardsdatascience.com/the-approximation-power-of-neural-networks-with-python-codes-ddfc250bdb58"
   ]
  },
  {
   "cell_type": "code",
   "execution_count": 36,
   "metadata": {},
   "outputs": [],
   "source": [
    "from pynverse import inversefunc\n",
    "import matplotlib.pyplot as plt\n",
    "\n",
    "import numpy as np\n",
    "\n",
    "%matplotlib inline"
   ]
  },
  {
   "cell_type": "code",
   "execution_count": null,
   "metadata": {},
   "outputs": [],
   "source": []
  },
  {
   "cell_type": "code",
   "execution_count": 49,
   "metadata": {},
   "outputs": [],
   "source": [
    "w = 500\n",
    "upper, lower = 6, -6\n",
    "num = 100\n",
    "\n",
    "def identity_activation(x):\n",
    "    return(x)\n",
    "\n",
    "def solve_for_bias(s, w=w):\n",
    "    return(-w * s)\n",
    "\n",
    "steps = [0,.2,.2,.4,.4,.6,.6,.8,.8,1]\n",
    "bias_hl = np.array([solve_for_bias(s) for s in steps])\n",
    "weights_hl = np.array([w] * len(steps))\n",
    "bias_output = 0\n",
    "weights_output =np.array(np.random.random(10))"
   ]
  },
  {
   "cell_type": "code",
   "execution_count": 50,
   "metadata": {},
   "outputs": [],
   "source": [
    "def sigmoid_activation(x):\n",
    "    if x > upper:\n",
    "        return 1\n",
    "    elif x < lower:\n",
    "        return 0\n",
    "    return 1/(1+np.exp(-x))"
   ]
  },
  {
   "cell_type": "code",
   "execution_count": 51,
   "metadata": {},
   "outputs": [],
   "source": [
    "def nn(input_value):\n",
    "    \n",
    "    Z_hl = input_value * weights_hl + bias_hl\n",
    "    activation_hl = np.array([sigmoid_activation(Z) for Z in Z_hl])\n",
    "    Z_output = np.sum(activation_hl * weights_output) + bias_output\n",
    "    activation_output = identity_activation(Z_output) \n",
    "    \n",
    "    return activation_output"
   ]
  },
  {
   "cell_type": "code",
   "execution_count": 52,
   "metadata": {},
   "outputs": [],
   "source": [
    "x_values = np.linspace(0,1,1000)\n",
    "y_hat = [nn(x) for x in x_values]"
   ]
  },
  {
   "cell_type": "code",
   "execution_count": 53,
   "metadata": {},
   "outputs": [
    {
     "data": {
      "text/plain": [
       "(0, 1)"
      ]
     },
     "execution_count": 53,
     "metadata": {},
     "output_type": "execute_result"
    },
    {
     "data": {
      "image/png": "[encoded data removed]",
      "text/plain": [
       "<matplotlib.figure.Figure at 0x1716459c208>"
      ]
     },
     "metadata": {},
     "output_type": "display_data"
    }
   ],
   "source": [
    "def f(x):\n",
    "    return 0.2 + 0.4*(x**2) + 0.3*x*np.sin(15*x)+ 0.05*np.cos(50*x)\n",
    "\n",
    "y = [f(x) for x in x_values]\n",
    "inv_sigmoid = inversefunc(sigmoid_activation)\n",
    "y_hat = [nn(x) for x in x_values]\n",
    "y_invsig = [inv_sigmoid(i) for i in y]\n",
    "\n",
    "plt.plot(x_values, y_invsig)\n",
    "plt.plot(x_values, y_hat)\n",
    "plt.xlim((0,1))"
   ]
  },
  {
   "cell_type": "code",
   "execution_count": null,
   "metadata": {},
   "outputs": [],
   "source": []
  }
 ],
 "metadata": {
  "kernelspec": {
   "display_name": "Python 3",
   "language": "python",
   "name": "python3"
  },
  "language_info": {
   "codemirror_mode": {
    "name": "ipython",
    "version": 3
   },
   "file_extension": ".py",
   "mimetype": "text/x-python",
   "name": "python",
   "nbconvert_exporter": "python",
   "pygments_lexer": "ipython3",
   "version": "3.6.4"
  }
 },
 "nbformat": 4,
 "nbformat_minor": 2
}
