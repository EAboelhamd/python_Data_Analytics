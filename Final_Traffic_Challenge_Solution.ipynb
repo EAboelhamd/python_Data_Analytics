{
 "cells": [
  {
   "cell_type": "markdown",
   "metadata": {},
   "source": [
    "# This notebook is an implementation for the \"Traffic Prediction Challenge\" \n",
    "## Problem Definition: \n",
    "* The connectivity between the roads allows the traffic jam to be propagated.  \n",
    "* No possibility to know in advance the status of the road you are going to pass on. \n",
    "\n",
    "## Proposed solution: \n",
    "* Build a regression model that predicts the status of the road -hence, the trip duration and average speed- based on set of inputs\n",
    "\n",
    "## Methodology: \n",
    "* The structure of this notebook is based on posing questions and trying to explore through trails and then draw conclusions from this exploration .. \n",
    "\n",
    "### Inputs: \n",
    "\n",
    "1. Day of the week \n",
    "2. Time of the day\n",
    "\n",
    "## Outputs:\n",
    "\n",
    "1. Trip Duration \n",
    "2. Average Speed"
   ]
  },
  {
   "cell_type": "markdown",
   "metadata": {},
   "source": [
    "### - First of all, we gonna import some essential libraries to be used during the implementation "
   ]
  },
  {
   "cell_type": "code",
   "execution_count": 2,
   "metadata": {
    "collapsed": false
   },
   "outputs": [],
   "source": [
    "import tensorflow as tf\n",
    "import numpy as np\n",
    "import matplotlib.pyplot as plt\n",
    "from sklearn.svm import SVR\n",
    "from sklearn.metrics import mean_squared_error\n",
    "%matplotlib inline\n",
    "import csv\n",
    "import datetime\n",
    "import time\n",
    "import copy"
   ]
  },
  {
   "cell_type": "markdown",
   "metadata": {},
   "source": [
    "# Question # 1:\n",
    "## Does this data file contain missing values ?! How this might affact the results ?!"
   ]
  },
  {
   "cell_type": "markdown",
   "metadata": {},
   "source": [
    "### - Reading the data from the excel sheet ...  "
   ]
  },
  {
   "cell_type": "code",
   "execution_count": 3,
   "metadata": {
    "collapsed": true
   },
   "outputs": [],
   "source": [
    "data_before =np.genfromtxt('dataToWorkWith.csv', delimiter=',',skip_header=True, converters = {2: lambda s: datetime.datetime.strptime(s[1:-1],\"%Y-%m-%d %H:%M:%S\")})"
   ]
  },
  {
   "cell_type": "markdown",
   "metadata": {},
   "source": [
    "### - Printting sample of the data, just to check .. "
   ]
  },
  {
   "cell_type": "code",
   "execution_count": 4,
   "metadata": {
    "collapsed": false
   },
   "outputs": [
    {
     "name": "stdout",
     "output_type": "stream",
     "text": [
      "The data looks like ..  \n",
      "\n",
      "[ (20640.0, 119.0, datetime.datetime(2015, 1, 1, 0, 7, 31), 56.0, 19920.0, 20040.0)\n",
      " (20640.0, 160.0, datetime.datetime(2015, 1, 1, 0, 10, 11), 50.0, 20040.0, 20160.0)\n",
      " (20760.0, 125.0, datetime.datetime(2015, 1, 1, 0, 14, 25), 78.0, 52320.0, 19320.0)\n",
      " ...,\n",
      " (19800.0, 87.0, datetime.datetime(2015, 12, 31, 23, 49, 32), 68.0, 6720.0, 6840.0)\n",
      " (31560.0, 276.0, datetime.datetime(2015, 12, 31, 23, 49, 43), 57.0, 36600.0, 52200.0)\n",
      " (19800.0, 150.0, datetime.datetime(2015, 12, 31, 23, 52, 5), 44.0, 6840.0, 6960.0)]\n",
      "[ (20640.0, 119.0, datetime.datetime(2015, 1, 1, 0, 7, 31), 56.0, 19920.0, 20040.0)\n",
      " (20640.0, 160.0, datetime.datetime(2015, 1, 1, 0, 10, 11), 50.0, 20040.0, 20160.0)\n",
      " (20760.0, 125.0, datetime.datetime(2015, 1, 1, 0, 14, 25), 78.0, 52320.0, 19320.0)\n",
      " ...,\n",
      " (19800.0, 87.0, datetime.datetime(2015, 12, 31, 23, 49, 32), 68.0, 6720.0, 6840.0)\n",
      " (31560.0, 276.0, datetime.datetime(2015, 12, 31, 23, 49, 43), 57.0, 36600.0, 52200.0)\n",
      " (19800.0, 150.0, datetime.datetime(2015, 12, 31, 23, 52, 5), 44.0, 6840.0, 6960.0)]\n",
      "[ (20640.0, 119.0, datetime.datetime(2015, 1, 1, 0, 7, 31), 56.0, 19920.0, 20040.0)\n",
      " (20640.0, 160.0, datetime.datetime(2015, 1, 1, 0, 10, 11), 50.0, 20040.0, 20160.0)\n",
      " (20760.0, 125.0, datetime.datetime(2015, 1, 1, 0, 14, 25), 78.0, 52320.0, 19320.0)\n",
      " ...,\n",
      " (19800.0, 87.0, datetime.datetime(2015, 12, 31, 23, 49, 32), 68.0, 6720.0, 6840.0)\n",
      " (31560.0, 276.0, datetime.datetime(2015, 12, 31, 23, 49, 43), 57.0, 36600.0, 52200.0)\n",
      " (19800.0, 150.0, datetime.datetime(2015, 12, 31, 23, 52, 5), 44.0, 6840.0, 6960.0)]\n",
      "[ (20640.0, 119.0, datetime.datetime(2015, 1, 1, 0, 7, 31), 56.0, 19920.0, 20040.0)\n",
      " (20640.0, 160.0, datetime.datetime(2015, 1, 1, 0, 10, 11), 50.0, 20040.0, 20160.0)\n",
      " (20760.0, 125.0, datetime.datetime(2015, 1, 1, 0, 14, 25), 78.0, 52320.0, 19320.0)\n",
      " ...,\n",
      " (19800.0, 87.0, datetime.datetime(2015, 12, 31, 23, 49, 32), 68.0, 6720.0, 6840.0)\n",
      " (31560.0, 276.0, datetime.datetime(2015, 12, 31, 23, 49, 43), 57.0, 36600.0, 52200.0)\n",
      " (19800.0, 150.0, datetime.datetime(2015, 12, 31, 23, 52, 5), 44.0, 6840.0, 6960.0)]\n",
      "[ (20640.0, 119.0, datetime.datetime(2015, 1, 1, 0, 7, 31), 56.0, 19920.0, 20040.0)\n",
      " (20640.0, 160.0, datetime.datetime(2015, 1, 1, 0, 10, 11), 50.0, 20040.0, 20160.0)\n",
      " (20760.0, 125.0, datetime.datetime(2015, 1, 1, 0, 14, 25), 78.0, 52320.0, 19320.0)\n",
      " ...,\n",
      " (19800.0, 87.0, datetime.datetime(2015, 12, 31, 23, 49, 32), 68.0, 6720.0, 6840.0)\n",
      " (31560.0, 276.0, datetime.datetime(2015, 12, 31, 23, 49, 43), 57.0, 36600.0, 52200.0)\n",
      " (19800.0, 150.0, datetime.datetime(2015, 12, 31, 23, 52, 5), 44.0, 6840.0, 6960.0)]\n"
     ]
    }
   ],
   "source": [
    "print \"The data looks like .. \", '\\n'\n",
    "\n",
    "for i in xrange(5):\n",
    "    print(data_before)"
   ]
  },
  {
   "cell_type": "markdown",
   "metadata": {},
   "source": [
    "### Printting the inputs / Outputs separately ... "
   ]
  },
  {
   "cell_type": "code",
   "execution_count": 5,
   "metadata": {
    "collapsed": false
   },
   "outputs": [
    {
     "name": "stdout",
     "output_type": "stream",
     "text": [
      "Sample for the inputs, Data_&_Time of the trip, start_landmark and End_landmark\n",
      "(datetime.datetime(2015, 1, 1, 0, 7, 31), 19920.0, 20040.0)\n",
      "(datetime.datetime(2015, 1, 1, 0, 10, 11), 20040.0, 20160.0)\n",
      "(datetime.datetime(2015, 1, 1, 0, 14, 25), 52320.0, 19320.0)\n",
      "(datetime.datetime(2015, 1, 1, 0, 17, 49), 19440.0, 36480.0)\n",
      "(datetime.datetime(2015, 1, 1, 0, 20, 6), 13560.0, 13440.0)\n",
      "(datetime.datetime(2015, 1, 1, 0, 21, 21), 13440.0, 13320.0)\n",
      "(datetime.datetime(2015, 1, 1, 0, 22, 56), 13200.0, 13080.0)\n",
      "(datetime.datetime(2015, 1, 1, 0, 25, 57), 13080.0, 12960.0)\n",
      "(datetime.datetime(2015, 1, 1, 0, 38, 50), 53400.0, 53520.0)\n",
      "(datetime.datetime(2015, 1, 1, 0, 44, 40), 7560.0, 7680.0)\n",
      "\n",
      "\n",
      "Sample for the outputs, Trip_Duration and Average_Speed\n",
      "(119.0, 56.0)\n",
      "(160.0, 50.0)\n",
      "(125.0, 78.0)\n",
      "(153.0, 66.0)\n",
      "(65.0, 57.0)\n",
      "(74.0, 72.0)\n",
      "(73.0, 94.0)\n",
      "(181.0, 98.0)\n",
      "(41.0, 55.0)\n",
      "(16.0, 45.0)\n"
     ]
    }
   ],
   "source": [
    "# Data Visualization \n",
    "print (\"Sample for the inputs, Data_&_Time of the trip, start_landmark and End_landmark\")\n",
    "for i in xrange(10):\n",
    "    print(data_before[i][2], data_before[i][4], data_before[i][5])\n",
    "\n",
    "print('\\n') \n",
    "print (\"Sample for the outputs, Trip_Duration and Average_Speed\")   \n",
    "for j in xrange(10):\n",
    "    print(data_before[j][1], data_before[j][3])"
   ]
  },
  {
   "cell_type": "code",
   "execution_count": 6,
   "metadata": {
    "collapsed": false
   },
   "outputs": [
    {
     "name": "stdout",
     "output_type": "stream",
     "text": [
      "Number of records before removing duplicates ..  697132\n"
     ]
    }
   ],
   "source": [
    "print \"Number of records before removing duplicates .. \", len(data_before)"
   ]
  },
  {
   "cell_type": "code",
   "execution_count": 8,
   "metadata": {
    "collapsed": false
   },
   "outputs": [
    {
     "name": "stdout",
     "output_type": "stream",
     "text": [
      "plotting avg_speed vs trip_duration for only 7000 records\n",
      "\n",
      "\n",
      "Reverse proportional relationship .. If the speed is high, then the duration will be low\n"
     ]
    },
    {
     "data": {
      "image/png": "[encoded data removed]",
      "text/plain": [
       "<matplotlib.figure.Figure at 0x7f125ba6cfd0>"
      ]
     },
     "metadata": {},
     "output_type": "display_data"
    }
   ],
   "source": [
    "print (\"plotting avg_speed vs trip_duration for only 7000 records\")\n",
    "\n",
    "for i in xrange(7000):\n",
    "    plt.plot(data_before[i][3], data_before[i][1], '*')\n",
    "    \n",
    "plt.xlabel(\"Average Speed\")\n",
    "plt.ylabel(\"Trip Duration\")\n",
    "\n",
    "print('\\n')\n",
    "print(\"Reverse proportional relationship .. If the speed is high, then the duration will be low\")"
   ]
  },
  {
   "cell_type": "markdown",
   "metadata": {},
   "source": [
    "# Comment: \n",
    "This figure might be less informative .. just because all the segments are plotted ..\n",
    "Certainely, plotting the avg_speed vs trip_duration for only one segment will be more informative and will have better represenatation .. but the structure of the data so far is not seen as set of segments .. so, currently, we can't do it ! "
   ]
  },
  {
   "cell_type": "markdown",
   "metadata": {},
   "source": [
    "### The next step is to write a command that remove any duplicates the might exist \n"
   ]
  },
  {
   "cell_type": "code",
   "execution_count": 4,
   "metadata": {
    "collapsed": true
   },
   "outputs": [],
   "source": [
    "with open('dataToWorkWith.csv','r') as in_file, open('removedDuplicatesData.csv','w') as out_file:\n",
    "    seen = set() # set for fast O(1) amortized lookup\n",
    "    for line in in_file:\n",
    "        if line in seen: continue # skip duplicate\n",
    "\n",
    "        seen.add(line)\n",
    "        out_file.write(line)"
   ]
  },
  {
   "cell_type": "markdown",
   "metadata": {},
   "source": [
    "### Reading the new file that contains no duplicates ..."
   ]
  },
  {
   "cell_type": "code",
   "execution_count": 5,
   "metadata": {
    "collapsed": true
   },
   "outputs": [],
   "source": [
    "data =np.genfromtxt('removedDuplicatesData.csv', delimiter=',',skip_header=True, converters = {2: lambda s: datetime.datetime.strptime(s[1:-1],\"%Y-%m-%d %H:%M:%S\")})"
   ]
  },
  {
   "cell_type": "markdown",
   "metadata": {},
   "source": [
    "### Printting out sample of the data ... "
   ]
  },
  {
   "cell_type": "code",
   "execution_count": 6,
   "metadata": {
    "collapsed": false
   },
   "outputs": [
    {
     "name": "stdout",
     "output_type": "stream",
     "text": [
      "Sample for the inputs, Dependent variables\n",
      "(datetime.datetime(2015, 1, 1, 0, 7, 31), 19920.0, 20040.0)\n",
      "(datetime.datetime(2015, 1, 1, 0, 10, 11), 20040.0, 20160.0)\n",
      "(datetime.datetime(2015, 1, 1, 0, 14, 25), 52320.0, 19320.0)\n",
      "(datetime.datetime(2015, 1, 1, 0, 17, 49), 19440.0, 36480.0)\n",
      "(datetime.datetime(2015, 1, 1, 0, 20, 6), 13560.0, 13440.0)\n",
      "(datetime.datetime(2015, 1, 1, 0, 21, 21), 13440.0, 13320.0)\n",
      "(datetime.datetime(2015, 1, 1, 0, 22, 56), 13200.0, 13080.0)\n",
      "(datetime.datetime(2015, 1, 1, 0, 25, 57), 13080.0, 12960.0)\n",
      "(datetime.datetime(2015, 1, 1, 0, 38, 50), 53400.0, 53520.0)\n",
      "(datetime.datetime(2015, 1, 1, 0, 44, 40), 7560.0, 7680.0)\n",
      "\n",
      "\n",
      "Sample for the outputs, independent variables\n",
      "(119.0, 56.0)\n",
      "(160.0, 50.0)\n",
      "(125.0, 78.0)\n",
      "(153.0, 66.0)\n",
      "(65.0, 57.0)\n",
      "(74.0, 72.0)\n",
      "(73.0, 94.0)\n",
      "(181.0, 98.0)\n",
      "(41.0, 55.0)\n",
      "(16.0, 45.0)\n"
     ]
    }
   ],
   "source": [
    "# Data Visualization \n",
    "print (\"Sample for the inputs, Dependent variables\")\n",
    "for i in xrange(10):\n",
    "    print(data[i][2], data[i][4], data[i][5])\n",
    "\n",
    "print('\\n') \n",
    "print (\"Sample for the outputs, independent variables\")   \n",
    "for j in xrange(10):\n",
    "    print(data[j][1], data[j][3])"
   ]
  },
  {
   "cell_type": "code",
   "execution_count": 7,
   "metadata": {
    "collapsed": false
   },
   "outputs": [
    {
     "name": "stdout",
     "output_type": "stream",
     "text": [
      "Number of records before removing duplocates ..  696596\n"
     ]
    }
   ],
   "source": [
    "print \"Number of records before removing duplocates .. \", len(data)"
   ]
  },
  {
   "cell_type": "code",
   "execution_count": 8,
   "metadata": {
    "collapsed": false
   },
   "outputs": [
    {
     "name": "stdout",
     "output_type": "stream",
     "text": [
      "Number of duplicate rows are  536\n"
     ]
    }
   ],
   "source": [
    "print \"Number of duplicate rows are \", len(data_before) - len(data)"
   ]
  },
  {
   "cell_type": "markdown",
   "metadata": {},
   "source": [
    "### Plotting the ouputs (The speed VS the duration) for 7000 roads ...\n",
    "This figure is for 7000 roads from the data .. \n",
    "We aren't divided the road into segments yet, so, we just plot sample for the roads not for a certain segment"
   ]
  },
  {
   "cell_type": "code",
   "execution_count": 55,
   "metadata": {
    "collapsed": false
   },
   "outputs": [
    {
     "name": "stdout",
     "output_type": "stream",
     "text": [
      "\n",
      "\n",
      "Reverse proportional relationship .. If the speed is high, then the duration will be low\n"
     ]
    },
    {
     "data": {
      "image/png": "[encoded data removed]",
      "text/plain": [
       "<matplotlib.figure.Figure at 0x7fcd74b65890>"
      ]
     },
     "metadata": {},
     "output_type": "display_data"
    }
   ],
   "source": [
    "for i in xrange(7000):\n",
    "    plt.plot(data[i][3], data[i][1], '*')\n",
    "    \n",
    "plt.xlabel(\"Average Speed\")\n",
    "plt.ylabel(\"Trip Duration\")\n",
    "\n",
    "print('\\n')\n",
    "print(\"Reverse proportional relationship .. If the speed is high, then the duration will be low\")"
   ]
  },
  {
   "cell_type": "markdown",
   "metadata": {},
   "source": [
    "# Conclusion .. \n",
    "This datafile we are working on contains duplicate rows and removing them will minimize the number of records we are working on hence, minimize the complexity of the problem ! .. \n",
    "\n",
    "As for the effect of the removed records \"graphically\" it seems it doesn't matter .. but this is may be becuase we only plot the 1st 7000 records that may not conatain duplicates ! .. \n",
    "\n",
    "May be if we plot the whole data, before and after the removal .. we may observe the deleted roads in the later graph .. "
   ]
  },
  {
   "cell_type": "markdown",
   "metadata": {},
   "source": [
    "# Question # 2: \n",
    "## What about the roadId column ?! .. shall it be part of the inputs ?! and why ?!"
   ]
  },
  {
   "cell_type": "markdown",
   "metadata": {},
   "source": [
    "The roadId shouldn't be part of the inputs just becuase it doesn't matters due to its uselessness and ineffectiveness in the learning process ..  "
   ]
  },
  {
   "cell_type": "markdown",
   "metadata": {},
   "source": [
    "### Hence, the next step is to consider the data as a dictionary in each road .. \n",
    "and thus, we gonna exclude the \"RoadId\" from the inputs .."
   ]
  },
  {
   "cell_type": "code",
   "execution_count": 10,
   "metadata": {
    "collapsed": false
   },
   "outputs": [
    {
     "name": "stdout",
     "output_type": "stream",
     "text": [
      "The record related to road # 22680 looks like ..  ['65', '2015-01-01 00:20:06', '57', '13560', '13440']\n"
     ]
    }
   ],
   "source": [
    "reader = csv.reader(open('removedDuplicatesData.csv'))\n",
    "\n",
    "input_data = {}\n",
    "for row in reader:\n",
    "    roadID = row[0]\n",
    "    if roadID in input_data:\n",
    "        continue\n",
    "        # duplicate row \n",
    "        pass\n",
    "    input_data[roadID] = row[1:]\n",
    "    \n",
    "print \"The record related to road # 22680 looks like .. \", input_data[\"22680\"]  #Example"
   ]
  },
  {
   "cell_type": "markdown",
   "metadata": {},
   "source": [
    "# Question # 3: \n",
    "## What about the Cross validation concept ?! will it be applied in this implementation ?! what are its advantages ?! "
   ]
  },
  {
   "cell_type": "markdown",
   "metadata": {},
   "source": [
    "Yes, Cross validation (CV) is going to be applied in this implementation due to its advantages in guaranteeing the robustness of the prediction model .. "
   ]
  },
  {
   "cell_type": "markdown",
   "metadata": {},
   "source": [
    "## Advantages of CV:\n",
    "1. It allows working on a certain portion of the data, say 80% just to train the model \n",
    "2. The other 20% are left for the validation .. which is to check if the model already learnt and adjust its paramaters  \n",
    "2. It guarantees the robustness of the proposed prediction model"
   ]
  },
  {
   "cell_type": "markdown",
   "metadata": {
    "collapsed": true
   },
   "source": [
    "## As a prerequisite step, we have to split the data into (Training and Testing) \n",
    "(80, 20) Cross Validation will  be applied .. hence, 80% for training and 20% testing \n",
    "\n",
    "(50, 50) CV will also be applied and their results will be compared to check id the size of the data matters"
   ]
  },
  {
   "cell_type": "code",
   "execution_count": 12,
   "metadata": {
    "collapsed": false
   },
   "outputs": [
    {
     "name": "stdout",
     "output_type": "stream",
     "text": [
      "('len(Training set)', 557276)\n",
      "('len(Testing set)', 139319)\n",
      "('The length of the data after splitting', 696595)\n"
     ]
    }
   ],
   "source": [
    "# ntrain .. 80% of the data as training data\n",
    "train = (len(data)*80)/100\n",
    "ntrain, ntest = data[:train], data[train+1:]\n",
    "\n",
    "print(\"len(Training set)\" ,len(ntrain))\n",
    "print(\"len(Testing set)\" ,len(ntest))\n",
    "print(\"The length of the data after splitting\" ,len(ntest) + len(ntrain))"
   ]
  },
  {
   "cell_type": "markdown",
   "metadata": {},
   "source": [
    "# Question # 4: \n",
    "## Shall we gonna apply the idea of roadId on the training data as well ?! Why ?!\n",
    "Yes, we gonna do. As the training the data is an extact portion from the original data .. hence the reasons behid using the roadId as a dictionary are already valid here .. "
   ]
  },
  {
   "cell_type": "markdown",
   "metadata": {},
   "source": [
    "# Question # 5: \n",
    "## What about the report time ?! Is there any preprocessing that has to be done on ?! \n",
    "\n",
    "Yes, it has to be divided into two seperate columns (Day of the week and hour of the day) .. \n",
    "\n",
    "### Reasons:\n",
    "1. To help in making this column as one of the inputs .. \n",
    "2. The later representation is more informative as it gives us propoer indication regarding the reason of the crowd if we become aware of the day and at which hour the analysis is being done "
   ]
  },
  {
   "cell_type": "markdown",
   "metadata": {},
   "source": [
    "## 1. Training Data:"
   ]
  },
  {
   "cell_type": "code",
   "execution_count": 13,
   "metadata": {
    "collapsed": false
   },
   "outputs": [
    {
     "name": "stdout",
     "output_type": "stream",
     "text": [
      "Sample of Training Data (predicted variables) \n",
      "[[ 119.   56.]\n",
      " [ 160.   50.]\n",
      " [ 125.   78.]\n",
      " ..., \n",
      " [ 129.   76.]\n",
      " [ 223.   67.]\n",
      " [ 187.   81.]]\n",
      "Length of training data 557276\n"
     ]
    }
   ],
   "source": [
    "#reservation\n",
    "#Training data \n",
    "input_data = np.zeros([len(ntrain),2]).astype(np.float32)\n",
    "train_data = np.zeros([len(ntrain),2]).astype(np.float32)\n",
    "\n",
    "# Testing data\n",
    "input_data_test = np.zeros([len(ntest),2]).astype(np.float32)\n",
    "test_data = np.zeros([len(ntest),2]).astype(np.float32)\n",
    "\n",
    "#training data\n",
    "for i in xrange(len(ntrain)):\n",
    "    weekday = data[i][2].weekday()+1\n",
    "    hour = data[i][2].hour+1\n",
    "    input_data[i,:] = [weekday, hour]\n",
    "    train_data[i,:] = [data[i][1], data[i][3]]\n",
    "    \n",
    "print \"Sample of Training Data (predicted variables)\", '\\n', train_data\n",
    "\n",
    "print \"Length of training data\", len(train_data)"
   ]
  },
  {
   "cell_type": "markdown",
   "metadata": {},
   "source": [
    "## 2. Test Data:"
   ]
  },
  {
   "cell_type": "code",
   "execution_count": 18,
   "metadata": {
    "collapsed": false
   },
   "outputs": [
    {
     "name": "stdout",
     "output_type": "stream",
     "text": [
      "Sample of Testing Data \n",
      "[[ 119.   56.]\n",
      " [ 160.   50.]\n",
      " [ 125.   78.]\n",
      " ..., \n",
      " [ 432.   86.]\n",
      " [ 138.   59.]\n",
      " [ 224.   78.]]\n"
     ]
    }
   ],
   "source": [
    "for j in xrange(len(ntest)):\n",
    "    weekday = data[j][2].weekday()+1\n",
    "    hour = data[j][2].hour+1\n",
    "    input_data_test[j,:] = [weekday, hour]\n",
    "    test_data[j,:] = [data[j][1], data[j][3]]\n",
    "    \n",
    "print \"Sample of Testing Data\", '\\n', test_data"
   ]
  },
  {
   "cell_type": "markdown",
   "metadata": {
    "collapsed": false
   },
   "source": [
    "# Question # 6: \n",
    "## Is there a possibility to measure the linear relationship between the independent \"input\" variables ?! \n",
    "YES, through calculating the coorelation coeffecient \"r\" between the (day_of_the_week and hour_of_the_day)"
   ]
  },
  {
   "cell_type": "code",
   "execution_count": 19,
   "metadata": {
    "collapsed": false
   },
   "outputs": [
    {
     "name": "stdout",
     "output_type": "stream",
     "text": [
      "Correlation Matrix between trip Duration and Avg. Speed\n"
     ]
    },
    {
     "data": {
      "text/plain": [
       "array([[ 1.       ,  0.0499616],\n",
       "       [ 0.0499616,  1.       ]])"
      ]
     },
     "execution_count": 19,
     "metadata": {},
     "output_type": "execute_result"
    }
   ],
   "source": [
    "print \"Correlation Matrix between trip Duration and Avg. Speed\"\n",
    "np.corrcoef(input_data[:,0],input_data[:,1])"
   ]
  },
  {
   "cell_type": "markdown",
   "metadata": {},
   "source": [
    "# Comment on the r value .. \n",
    "There is a very weak linear relationship between the (day_of_the_week and hour_of_the_day) .. this is observed from the small value and the +ve sign indicates a directly proportional relationship between these variables \n",
    "\n",
    "### Reason:\n",
    "The small value for r might be due to the fact that the road is not considered yet as a set of segments and there are some preprocessing have to be done."
   ]
  },
  {
   "cell_type": "markdown",
   "metadata": {},
   "source": [
    "# Question # 7:\n",
    "## Can we enhance the value of r ?! Is there a possibility for another preprocessing step to be done ?! \n",
    "\n",
    "YES, we can consider the road as a set of segments .. \n",
    "Hence, the road = roadId + start_landmark + end_landmark \n",
    "and thus we might have two roads with the same Id but different segments .. "
   ]
  },
  {
   "cell_type": "code",
   "execution_count": 14,
   "metadata": {
    "collapsed": true
   },
   "outputs": [],
   "source": [
    "## this function returns the inputs, outputs after considering each road as set of segments .. \n",
    "\n",
    "def get_input_output_data(data):\n",
    "    input_data = {}\n",
    "    output_data = {}\n",
    "    for i in xrange(len(data)):\n",
    "        road_id = int(data[i][0])\n",
    "        start_landmark = int(data[i][4])\n",
    "        end_landmark = int(data[i][5])\n",
    "        segment_Id = str(road_id) + \",\" + str(start_landmark) + \",\" + str(end_landmark)\n",
    "        weekday = data[i][2].weekday()+1\n",
    "        hour = data[i][2].hour+1\n",
    "        if (segment_Id not in input_data):\n",
    "            input_data[segment_Id] = np.empty([0,2]).astype(np.float32)\n",
    "            output_data[segment_Id] = np.empty([0,2]).astype(np.float32)\n",
    "        input_data[segment_Id] = np.append(input_data[segment_Id], [[weekday, hour]],axis=0)\n",
    "        output_data[segment_Id] = np.append(output_data[segment_Id], [[data[i][1], data[i][3]]],axis=0) \n",
    "    return input_data, output_data"
   ]
  },
  {
   "cell_type": "markdown",
   "metadata": {},
   "source": [
    "## let's print the input, output data from certain segment ..\n",
    "i.e. segment \"22680,13440,13320\""
   ]
  },
  {
   "cell_type": "code",
   "execution_count": 15,
   "metadata": {
    "collapsed": false
   },
   "outputs": [
    {
     "name": "stdout",
     "output_type": "stream",
     "text": [
      "input_data:  [ 4.  4.  4. ...,  4.  4.  4.] [  1.   7.  21. ...,  15.  17.  18.]\n",
      "This segment connected to  1381 other segments\n"
     ]
    }
   ],
   "source": [
    "[input_data, output_data] = get_input_output_data(data)\n",
    "print \"input_data: \", input_data[\"22680,13440,13320\"][:,0], input_data[\"22680,13440,13320\"][:,1]\n",
    "\n",
    "print \"This segment connected to \", len(input_data[\"22680,13440,13320\"][:,0]), \"other segments\""
   ]
  },
  {
   "cell_type": "markdown",
   "metadata": {
    "collapsed": false
   },
   "source": [
    "## Comment: \n",
    "It's obvious that most of the trips on this segement occur on Thursday at different hours "
   ]
  },
  {
   "cell_type": "markdown",
   "metadata": {
    "collapsed": true
   },
   "source": [
    "# Conclusion so far .. \n",
    "The preprocessing phase is done .. \n",
    "1. Duplicates are removed ..\n",
    "2. Graphical, Numerical analysis for the data is done for the sake of data understanding ..\n",
    "3. The roads are divided into set of segments to facilitate the analysis and the learning process .. \n",
    "\n",
    "Now the data data is ready for the learning phase .. "
   ]
  },
  {
   "cell_type": "markdown",
   "metadata": {},
   "source": [
    "# Question # 8: \n",
    "## What kind of learning has to be applied ?! which algorithm will be used ?!\n",
    "\n",
    "This is a regression task, as the predicted variable (s) contains numerical values .. \n",
    "For simplcity and as a start, Multiple Linear Regression method will be applied .. "
   ]
  },
  {
   "cell_type": "markdown",
   "metadata": {},
   "source": [
    "# Question # 9:\n",
    "## What are the inputs, outputs for multiple linear regression model ?! \n",
    "\n",
    "### Inputs:\n",
    "1. Day of the week \n",
    "2. Hour of the day \n",
    "\n",
    "### Outputs:\n",
    "Instead of using both (Trip duration and average speed) during the learning process .. we might use either one .. and this is due to the tight relationship between these two variables .. \n",
    "We gonna model using each one seperately then comment on the results of both to proof which one will be more informative and useful in the learning process .."
   ]
  },
  {
   "cell_type": "code",
   "execution_count": 22,
   "metadata": {
    "collapsed": false
   },
   "outputs": [
    {
     "name": "stdout",
     "output_type": "stream",
     "text": [
      "The correlation matrix is  \n",
      "[[ 1.         -0.72674475]\n",
      " [-0.72674475  1.        ]]\n"
     ]
    }
   ],
   "source": [
    "r = np.corrcoef(output_data[\"22680,13440,13320\"][:,0],output_data[\"22680,13440,13320\"][:,1])\n",
    "print \"The correlation matrix is \", '\\n', r"
   ]
  },
  {
   "cell_type": "markdown",
   "metadata": {},
   "source": [
    "## Comment:\n",
    "There is a strong linear relationship between (avg speed and trip duration) with a reverse direction \n",
    "i.e. whenever avg speed increases, trip duration will be decreased  "
   ]
  },
  {
   "cell_type": "markdown",
   "metadata": {},
   "source": [
    "## - Visual Analysis for the relationship between (avg speed and trip duration)"
   ]
  },
  {
   "cell_type": "code",
   "execution_count": 23,
   "metadata": {
    "collapsed": false
   },
   "outputs": [
    {
     "data": {
      "text/plain": [
       "<matplotlib.text.Text at 0x7f1253712510>"
      ]
     },
     "execution_count": 23,
     "metadata": {},
     "output_type": "execute_result"
    },
    {
     "data": {
      "image/png": "[encoded data removed]",
      "text/plain": [
       "<matplotlib.figure.Figure at 0x7f125accd490>"
      ]
     },
     "metadata": {},
     "output_type": "display_data"
    }
   ],
   "source": [
    "plt.plot(output_data[\"22680,13440,13320\"][:,0],output_data[\"22680,13440,13320\"][:,1],'*' )\n",
    "plt.xlabel(\"Avg. Speed\")\n",
    "plt.ylabel(\"Trip Duration\")"
   ]
  },
  {
   "cell_type": "markdown",
   "metadata": {},
   "source": [
    "## - Plotting Avg speed and trip duration seperately "
   ]
  },
  {
   "cell_type": "code",
   "execution_count": 24,
   "metadata": {
    "collapsed": false
   },
   "outputs": [
    {
     "data": {
      "text/plain": [
       "<matplotlib.text.Text at 0x7f124285d0d0>"
      ]
     },
     "execution_count": 24,
     "metadata": {},
     "output_type": "execute_result"
    },
    {
     "data": {
      "image/png": "[encoded data removed]",
      "text/plain": [
       "<matplotlib.figure.Figure at 0x7f125abeea90>"
      ]
     },
     "metadata": {},
     "output_type": "display_data"
    }
   ],
   "source": [
    "plt.plot(output_data[\"22680,13440,13320\"][:,0])\n",
    "plt.xlabel(\"Connected Segments\")\n",
    "plt.ylabel(\"Trip Duration\")"
   ]
  },
  {
   "cell_type": "markdown",
   "metadata": {},
   "source": [
    "## Comment:\n",
    "Low fluctuations .. almost constant .. "
   ]
  },
  {
   "cell_type": "code",
   "execution_count": 25,
   "metadata": {
    "collapsed": false
   },
   "outputs": [
    {
     "data": {
      "text/plain": [
       "<matplotlib.text.Text at 0x7f1264bc1450>"
      ]
     },
     "execution_count": 25,
     "metadata": {},
     "output_type": "execute_result"
    },
    {
     "data": {
      "image/png": "[encoded data removed]",
      "text/plain": [
       "<matplotlib.figure.Figure at 0x7f1253741650>"
      ]
     },
     "metadata": {},
     "output_type": "display_data"
    }
   ],
   "source": [
    "plt.plot(output_data[\"22680,13440,13320\"][:,1])\n",
    "plt.xlabel(\"Connected Segments\")\n",
    "plt.ylabel(\"Avg speed\")"
   ]
  },
  {
   "cell_type": "markdown",
   "metadata": {},
   "source": [
    "## Comment: \n",
    "High fluctuations around a constant mean .. "
   ]
  },
  {
   "cell_type": "markdown",
   "metadata": {},
   "source": [
    "# Conclusion .. \n",
    "The linear relationship between (avg speed and trip duration) is strong and in a reverse direction .. and this is proved numerically and graphically .. \n",
    "The next step is to model using each one seperatley to prove which one is more informative .. "
   ]
  },
  {
   "cell_type": "markdown",
   "metadata": {},
   "source": [
    "# Question # 10:\n",
    "## What about the relationship between the input data ?!! \n",
    "Let's construct the correlation matrix for the two input variables (Hour of the day and day of the week) ..  "
   ]
  },
  {
   "cell_type": "code",
   "execution_count": 33,
   "metadata": {
    "collapsed": false
   },
   "outputs": [
    {
     "name": "stdout",
     "output_type": "stream",
     "text": [
      "The correlation matrix is  \n",
      "[[ 1.         -0.00170525]\n",
      " [-0.00170525  1.        ]]\n"
     ]
    }
   ],
   "source": [
    "r_input = np.corrcoef(input_data[\"22680,13440,13320\"][:,0],input_data[\"22680,13440,13320\"][:,1])\n",
    "print \"The correlation matrix is \", '\\n', r_input"
   ]
  },
  {
   "cell_type": "markdown",
   "metadata": {},
   "source": [
    "# Comment: \n",
    "Weak linear relationship between the input variables and the -ve sign indicates a reverse relationship between them .. "
   ]
  },
  {
   "cell_type": "markdown",
   "metadata": {},
   "source": [
    "## Multiple Linear Regression model .. \n",
    "### Output variable is only (the trip duration) .."
   ]
  },
  {
   "cell_type": "code",
   "execution_count": 27,
   "metadata": {
    "collapsed": true
   },
   "outputs": [],
   "source": [
    "def init_weights(shape):\n",
    "    return tf.Variable(tf.random_normal(shape, stddev=1))"
   ]
  },
  {
   "cell_type": "code",
   "execution_count": 28,
   "metadata": {
    "collapsed": false
   },
   "outputs": [],
   "source": [
    "segmentId = \"22680,13440,13320\" #selected segment to model\n",
    "\n",
    "input_1 = input_data[segmentId][:,0].astype(np.float32)\n",
    "input_2 = input_data[segmentId][:,1].astype(np.float32)\n",
    "\n",
    "input_data_ = [input_1, input_2]\n",
    "input_data_ = np.transpose(input_data_)\n",
    "trip_duration = output_data[segmentId][:,0].astype(np.float32)\n",
    "\n",
    "# #weights\n",
    "W = init_weights([2, 1])\n",
    "b = init_weights([1])\n",
    "# # Construct model\n",
    "model = tf.matmul(input_data_, W) + b\n",
    " \n",
    "# # Cost\n",
    "cost = tf.reduce_mean(tf.square(trip_duration-model))\n",
    "# # Gradient Descent\n",
    "optimizer = tf.train.GradientDescentOptimizer(0.001).minimize(cost)"
   ]
  },
  {
   "cell_type": "code",
   "execution_count": 30,
   "metadata": {
    "collapsed": false
   },
   "outputs": [
    {
     "name": "stdout",
     "output_type": "stream",
     "text": [
      "The Mean Squared error over 10000 iterations\n",
      "(0, 18222.434)\n",
      "(1000, 4559.9023)\n",
      "(2000, 4383.7476)\n",
      "(3000, 4251.604)\n",
      "(4000, 4152.0005)\n",
      "(5000, 4077.4124)\n",
      "(6000, 4021.2041)\n",
      "(7000, 3978.9883)\n",
      "(8000, 3947.1965)\n",
      "(9000, 3923.3743)\n"
     ]
    },
    {
     "data": {
      "image/png": "[encoded data removed]",
      "text/plain": [
       "<matplotlib.figure.Figure at 0x7f125f34e690>"
      ]
     },
     "metadata": {},
     "output_type": "display_data"
    }
   ],
   "source": [
    "sess = tf.Session()\n",
    "init = tf.initialize_all_variables()\n",
    "\n",
    "sess.run(init)\n",
    "\n",
    "print \"The Mean Squared error over 10000 iterations\"\n",
    "for step in xrange(10000):\n",
    "    _, l=sess.run([optimizer,cost])\n",
    "    if step % 1000 == 0:\n",
    "        print(step, l)\n",
    "        plt.plot(step, l, '*')\n",
    "        plt.xlabel(\"Itr number\")\n",
    "        plt.ylabel(\"MSE\")"
   ]
  },
  {
   "cell_type": "markdown",
   "metadata": {},
   "source": [
    "## Multiple Linear Regression model .. \n",
    "### Output variable is only (the Avg Speed) .."
   ]
  },
  {
   "cell_type": "code",
   "execution_count": 31,
   "metadata": {
    "collapsed": true
   },
   "outputs": [],
   "source": [
    "def init_weights(shape):\n",
    "    return tf.Variable(tf.random_normal(shape, stddev=1))"
   ]
  },
  {
   "cell_type": "code",
   "execution_count": 32,
   "metadata": {
    "collapsed": false
   },
   "outputs": [],
   "source": [
    "segmentId = \"22680,13440,13320\" #selected segment to model\n",
    "\n",
    "input_1 = input_data[segmentId][:,0].astype(np.float32)\n",
    "input_2 = input_data[segmentId][:,1].astype(np.float32)\n",
    "\n",
    "input_data_ = [input_1, input_2]\n",
    "input_data_ = np.transpose(input_data_)\n",
    "avg_speed = output_data[segmentId][:,1].astype(np.float32)\n",
    "\n",
    "# #weights\n",
    "W = init_weights([2, 1])\n",
    "b = init_weights([1])\n",
    "# # Construct model\n",
    "model = tf.matmul(input_data_, W) + b\n",
    " \n",
    "# # Cost\n",
    "cost = tf.reduce_mean(tf.square(avg_speed-model))\n",
    "# # Gradient Descent\n",
    "optimizer = tf.train.GradientDescentOptimizer(0.001).minimize(cost)"
   ]
  },
  {
   "cell_type": "code",
   "execution_count": 34,
   "metadata": {
    "collapsed": false
   },
   "outputs": [
    {
     "name": "stdout",
     "output_type": "stream",
     "text": [
      "The Mean Squared error over 10000 iterations\n",
      "(0, 1786.7554)\n",
      "(1000, 283.9118)\n",
      "(2000, 251.42686)\n",
      "(3000, 227.01202)\n",
      "(4000, 208.66615)\n",
      "(5000, 194.88701)\n",
      "(6000, 184.52347)\n",
      "(7000, 176.73973)\n",
      "(8000, 170.88719)\n",
      "(9000, 166.47931)\n"
     ]
    },
    {
     "data": {
      "image/png": "[encoded data removed]",
      "text/plain": [
       "<matplotlib.figure.Figure at 0x7f125b95b390>"
      ]
     },
     "metadata": {},
     "output_type": "display_data"
    }
   ],
   "source": [
    "sess = tf.Session()\n",
    "init = tf.initialize_all_variables()\n",
    "\n",
    "sess.run(init)\n",
    "\n",
    "print \"The Mean Squared error over 10000 iterations\"\n",
    "for step in xrange(10000):\n",
    "    _, l=sess.run([optimizer,cost])\n",
    "    if step % 1000 == 0:\n",
    "        print(step, l)\n",
    "        plt.plot(step, l, '*')\n",
    "        plt.xlabel(\"Itr number\")\n",
    "        plt.ylabel(\"MSE\")\n",
    "\n",
    "w_out, intercept = sess.run([W,b])"
   ]
  },
  {
   "cell_type": "markdown",
   "metadata": {},
   "source": [
    "# Comments: \n",
    "\n",
    "1. trip_duration that has less fluctuations, intially it has less cost value and it also has smaller difference between the costs in the 1st 1000 iteration .. \n",
    "\n",
    "2. While, Avg_speed fluctuates more than trip_duration and decreases rapidely in the 1st 1000 iteration .. then the difference between each two consecutive iteration become smaller ..\n",
    "\n",
    "As for the costs after the 1st 1000 iteration .. it has bigger difference between every two consecutive 1000 iteration runs .. \n",
    "\n",
    "3. after 10000 iterations, avg speed could acheive less cost (mean squared error) than trip_duration due to its high fluctuations .. "
   ]
  },
  {
   "cell_type": "markdown",
   "metadata": {},
   "source": [
    "# Conclusion .. \n",
    "It's better to model using trip_duration as dependent variable as it's more informative and gives better (less) cost values."
   ]
  },
  {
   "cell_type": "markdown",
   "metadata": {},
   "source": [
    "## - Model Evaluation .. \n",
    "### 1. Least squares error .. \n",
    "Already calculated .. \n",
    "\n",
    "### 2. Coefficient of determination .. \n",
    "As this is a linear relationship between the inputs and the output variable .. \n",
    "Then we can safely assume that R_squared = (r)^2 "
   ]
  },
  {
   "cell_type": "code",
   "execution_count": 34,
   "metadata": {
    "collapsed": false
   },
   "outputs": [
    {
     "name": "stdout",
     "output_type": "stream",
     "text": [
      "R_squared =  2.90788029528e-06\n"
     ]
    }
   ],
   "source": [
    "R_squared = np.square(r_input[0,1])\n",
    "print \"R_squared = \", R_squared"
   ]
  },
  {
   "cell_type": "markdown",
   "metadata": {},
   "source": [
    "# Comment:\n",
    "Very very small R_squared value indicates poor prediction model .. \n",
    "This means that in only 2.9x10^-6% of all the vaues of the avg_speed, someone can justify them in terms of the input variables (Day of the week and hour of the day) "
   ]
  },
  {
   "cell_type": "markdown",
   "metadata": {},
   "source": [
    "# Question # 11: \n",
    "## What are the strengths, Limitations of (Linear Regression) model ?!\n",
    "\n",
    "### Strengths: \n",
    "1. Simple \n",
    "2. Easy in its implementation \n",
    "3. Has good performance whenever the relationship between dependent/ Indepedent variables is Linear \n",
    "\n",
    "### Limitations:\n",
    "1. Senstitive to the size of the dataset \n",
    "2. Could't been used to model non-linear relationships\n",
    "3. Suffers from the overfitting problem\n"
   ]
  },
  {
   "cell_type": "markdown",
   "metadata": {},
   "source": [
    "# Question # 12:\n",
    "## Can we do better ?!\n",
    "YES, we can try another prediction model that may obtain less cost values .. \n",
    "We gonna assume that only (Trip_duration) is the dependent variable that will be predicted, just becuase we have just proved its superiority over the avg_speed variable"
   ]
  },
  {
   "cell_type": "markdown",
   "metadata": {},
   "source": [
    "## Advanced Model ==> Support Vector for Regression"
   ]
  },
  {
   "cell_type": "code",
   "execution_count": 35,
   "metadata": {
    "collapsed": false
   },
   "outputs": [
    {
     "data": {
      "text/plain": [
       "SVR(C=1.0, cache_size=200, coef0=0.0, degree=3, epsilon=0.2, gamma=0.0,\n",
       "  kernel='rbf', max_iter=-1, probability=False, random_state=None,\n",
       "  shrinking=True, tol=0.001, verbose=False)"
      ]
     },
     "execution_count": 35,
     "metadata": {},
     "output_type": "execute_result"
    }
   ],
   "source": [
    "segmentId = \"22680,13440,13320\" #selected segment to model\n",
    "avg_speed = output_data[segmentId][:,1].astype(np.float32)\n",
    "\n",
    "input_data_ = [input_data[\"22680,13440,13320\"][:,0], input_data[\"22680,13440,13320\"][:,1]]\n",
    "\n",
    "clf = SVR(C=1.0, epsilon=0.2, kernel = 'rbf')\n",
    "clf.fit(np.transpose(input_data_),avg_speed)"
   ]
  },
  {
   "cell_type": "code",
   "execution_count": 36,
   "metadata": {
    "collapsed": false
   },
   "outputs": [
    {
     "name": "stdout",
     "output_type": "stream",
     "text": [
      "0.249782354303\n"
     ]
    }
   ],
   "source": [
    "score = clf.score(np.transpose(input_data_),avg_speed)\n",
    "print score"
   ]
  },
  {
   "cell_type": "markdown",
   "metadata": {},
   "source": [
    "# Comment: \n",
    "This non_linear model obtained better prediction results than the linear one, and this is observed from the large R_squared value .. \n",
    "This means that the input variables could effectively justify the values of the output variable (avg_speed) in 25% of the time  "
   ]
  },
  {
   "cell_type": "markdown",
   "metadata": {},
   "source": [
    "# Question # 13:\n",
    "## Why Support Vector for Reggression method ?!\n",
    "### Stengths:\n",
    "    1. It has a regularisation parameter, which makes the user think about avoiding over-fitting\n",
    "    2. It uses the kernel trick, so you can build in expert knowledge about the problem via engineering the kernel\n",
    "    3. In general, SVM is defined by a convex optimisation problem (no local minima) for which there are efficient\n",
    "    methods\n",
    " \n",
    "### Limitations:\n",
    "    1. The effectiveness of the results depends on the kernel type\n",
    "    2.  The loss function used for support vector regression doesn't have an obvious statistical intepretation, often expert knowledge of the problem can be encoded in the loss function, i.e. Poisson or Beta or Gaussian"
   ]
  },
  {
   "cell_type": "markdown",
   "metadata": {},
   "source": [
    "# Conclusion ..  \n",
    "\n",
    "So far, the non-linear prediction model outperformed the linear one whil applying on the preprocessed data to predict the avg_speed on a certain segment based only on the (hour of the day and day of the week)"
   ]
  },
  {
   "cell_type": "markdown",
   "metadata": {
    "collapsed": true
   },
   "source": [
    "# Question # 14: \n",
    "## Can we do better ?! \n",
    "## Can we predict the traffic on a road given the avg speed and duration of a certain segment as inputs ?!\n",
    "\n",
    "Yes, we can .. but this need preprocessing steps .. \n",
    "1. We need to find ALL the connected roads for a certain segment .. \n",
    "2. Focus only on segments that follow (after) the mentioned segment .."
   ]
  },
  {
   "cell_type": "markdown",
   "metadata": {},
   "source": [
    "## Find all segments connected to certain segment .. \n",
    "- we are working on the segment \"22680,13440,13320\" \n",
    "- Connected segments are those ones that either starts at the end_landmark of the current segment or ends at the start_landmark of the current segment  "
   ]
  },
  {
   "cell_type": "code",
   "execution_count": 37,
   "metadata": {
    "collapsed": true
   },
   "outputs": [],
   "source": [
    "def get_connected_segmets():\n",
    "    connected_segmets = {}\n",
    "    for segment_id in input_data:\n",
    "        # fetch connected roads as any road starting from its end landmark\n",
    "        # or ending with its start landmark\n",
    "        start_landmark = segment_id.split(',')[1]\n",
    "        end_landmark = segment_id.split(',')[2]\n",
    "        connected_segmets[segment_id] = [];\n",
    "        for other_segment_id in input_data:\n",
    "            if (other_segment_id.split(',')[1] == end_landmark):\n",
    "                connected_segmets[segment_id].append(other_segment_id)\n",
    "            if (other_segment_id.split(',')[2] == start_landmark):\n",
    "                connected_segmets[segment_id].append(other_segment_id)\n",
    "    return connected_segmets"
   ]
  },
  {
   "cell_type": "code",
   "execution_count": 38,
   "metadata": {
    "collapsed": false
   },
   "outputs": [
    {
     "name": "stdout",
     "output_type": "stream",
     "text": [
      "Conneted segments related to the segment['22680,13440,13320'] are: \n",
      "\n"
     ]
    },
    {
     "data": {
      "text/plain": [
       "['22680,13680,13440',\n",
       " '22680,13560,13440',\n",
       " '22560,13320,13560',\n",
       " '22560,13320,13440',\n",
       " '22560,13320,13440']"
      ]
     },
     "execution_count": 38,
     "metadata": {},
     "output_type": "execute_result"
    }
   ],
   "source": [
    "connected_segments = get_connected_segmets()\n",
    "print \"Conneted segments related to the segment['22680,13440,13320'] are:\", '\\n'\n",
    "connected_segments['22680,13440,13320']"
   ]
  },
  {
   "cell_type": "markdown",
   "metadata": {},
   "source": [
    "## Comment: \n",
    "We have 5 segments connected to the segment (22680,13440,13320) ... 4 before this segment and only one after it .. \n",
    "\n",
    "We are more intersed with the prior segments if we gonna predict the traffic of the road .. as these allow us to recommend/ decide another road (s) in case a high traffic is expected to be on the current road ..\n",
    "\n",
    "Hence, we gonna filter only the proir segments .."
   ]
  },
  {
   "cell_type": "code",
   "execution_count": 39,
   "metadata": {
    "collapsed": true
   },
   "outputs": [],
   "source": [
    "# this function returns the connected segments after certain segment\n",
    "def get_subsequent_segments():\n",
    "    connected_segments = {}\n",
    "    # read segements from the input_data\n",
    "    for segment_id in input_data:\n",
    "        # fetch connected roads as any road starting from its end landmark\n",
    "        # or ending with its start landmark\n",
    "        start_landmark = segment_id.split(',')[1]\n",
    "        end_landmark = segment_id.split(',')[2]\n",
    "        connected_segments[segment_id] = []\n",
    "        for subsequent_segment_id in input_data:\n",
    "            if ((subsequent_segment_id.split(',')[1] == end_landmark) & (subsequent_segment_id.split(',')[2] != start_landmark)):\n",
    "                connected_segments[segment_id].append(subsequent_segment_id)\n",
    "    return connected_segments"
   ]
  },
  {
   "cell_type": "code",
   "execution_count": 40,
   "metadata": {
    "collapsed": false
   },
   "outputs": [
    {
     "name": "stdout",
     "output_type": "stream",
     "text": [
      "This function returns all the subsequent segments related to the current segment in a one way road\n",
      "\n",
      "Examples: \n",
      "sub[\"22680,13440,13320\"] are: ['22560,13320,13560']\n"
     ]
    }
   ],
   "source": [
    "sub = get_subsequent_segments()\n",
    "print \"This function returns all the subsequent segments related to the current segment in a one way road\"\n",
    "print '\\n', \"Examples:\",'\\n', 'sub[\"22680,13440,13320\"] are:', sub[\"22680,13440,13320\"]"
   ]
  },
  {
   "cell_type": "markdown",
   "metadata": {},
   "source": [
    "# Question # 15:\n",
    "## What are the new inputs, outputs for the connected segments ?!\n",
    "- List of inputs are: \n",
    "    1. Day of the week for the current segment \n",
    "    2. Hour of the day for the current segment \n",
    "    3. Day of the week for the connected segments\n",
    "    4. Hour of the day for the connected segments\n",
    "    5. Trip duration for the connected segments\n",
    "    6. Avg. speed for the connected segments\n",
    "    \n",
    "    \n",
    "- List of outputs: \n",
    "    1. Trip duration for the primary \"Current\" segment \n",
    "    2. Avg. speed for the primary segment "
   ]
  },
  {
   "cell_type": "markdown",
   "metadata": {},
   "source": [
    "## - Figure out connected segments .. \n",
    "- The set of functions below returns the list of inputs and outputs related to the connected segments .. \n",
    "- The first one just defines the segment as three main terms (road ID, start landmark and end landmark)"
   ]
  },
  {
   "cell_type": "code",
   "execution_count": 41,
   "metadata": {
    "collapsed": true
   },
   "outputs": [],
   "source": [
    "def get_segment_id(data):\n",
    "    road_id = int(data[0])\n",
    "    start_landmark = int(data[4])\n",
    "    end_landmark = int(data[5])\n",
    "    segment_Id = str(road_id) + \",\" + str(start_landmark) + \",\" + str(end_landmark)\n",
    "    return segment_Id"
   ]
  },
  {
   "cell_type": "markdown",
   "metadata": {},
   "source": [
    "## This function returns ALL the connected segments ..\n",
    "before and after the primary segment and even in a two ways road .. "
   ]
  },
  {
   "cell_type": "code",
   "execution_count": 42,
   "metadata": {
    "collapsed": false
   },
   "outputs": [],
   "source": [
    "# only one handeling left .. only following segments need to be seen !\n",
    "def get_input_output_data_with_connectivity(data):\n",
    "    data_grouped_by_hour = {}\n",
    "    \n",
    "    input_data = {}\n",
    "    output_data = {}\n",
    "    for i in xrange(len(data)):\n",
    "        hour_begin_date = datetime.datetime.strptime(data[i][2].strftime(\"%Y-%m-%d %H\"),\"%Y-%m-%d %H\")\n",
    "        hour_ts = int(time.mktime(hour_begin_date.timetuple()))\n",
    "        if (hour_ts not in data_grouped_by_hour):\n",
    "            data_grouped_by_hour[hour_ts] = {}\n",
    "        #again we should do averaging of connected segments data as well\n",
    "        # we're just taking the last record here\n",
    "        data_grouped_by_hour[hour_ts][get_segment_id(data[i])] = data[i]\n",
    "    \n",
    "    for ts in data_grouped_by_hour:\n",
    "        curData = data_grouped_by_hour[ts] # this is the data of the current hour \n",
    "        for segment_id in curData:\n",
    "            # If we're averaging by the hour, then we should do it here\n",
    "            cur_connected_segments = connected_segments[segment_id]\n",
    "            weekday = curData[segment_id][2].weekday()+1\n",
    "            hour = curData[segment_id][2].hour+1\n",
    "            if (segment_id not in input_data):\n",
    "                input_data[segment_id] = np.empty([0,2+2*len(cur_connected_segments)]).astype(np.float32)\n",
    "                output_data[segment_id] = np.empty([0,2]).astype(np.float32)\n",
    "            cur_row_data = [weekday, hour]\n",
    "            for c in xrange(len(cur_connected_segments)):\n",
    "                # we add connected segments values if they exist, otherwise their values will be zeros\n",
    "                other_segment = cur_connected_segments[c]\n",
    "                other_segment_duration = 0\n",
    "                other_segment_speed = 0\n",
    "                if (other_segment in curData):\n",
    "                    other_segment_duration = curData[other_segment][1]\n",
    "                    other_segment_speed = curData[other_segment][3]\n",
    "                cur_row_data.append(other_segment_duration)\n",
    "                cur_row_data.append(other_segment_speed)\n",
    "            input_data[segment_id] = np.append(input_data[segment_id], [cur_row_data],axis=0)\n",
    "            output_data[segment_id] = np.append(output_data[segment_id], [[curData[segment_id][1], curData[segment_id][3]]],axis=0) \n",
    "    return input_data, output_data"
   ]
  },
  {
   "cell_type": "markdown",
   "metadata": {},
   "source": [
    "# Question # 16: \n",
    "## Is it true to work on all the connected segments (before and after) ?! what are the benifits of working only in either ?! \n",
    "It's more logical to focus on the connected segments only (after) the promary segment .. \n",
    "this will help in figure out the crowd segments to avoid them ! .. \n",
    "\n",
    "Hence, the next step is to find out only the subsequant segments \"Coming function\" .."
   ]
  },
  {
   "cell_type": "markdown",
   "metadata": {},
   "source": [
    "## Find the segments only (After) primary segment .. "
   ]
  },
  {
   "cell_type": "code",
   "execution_count": 43,
   "metadata": {
    "collapsed": true
   },
   "outputs": [],
   "source": [
    "# only one handeling left .. only following segments need to be seen !\n",
    "def get_input_output_data_with_connectivity(data):\n",
    "    data_grouped_by_hour = {}\n",
    "    \n",
    "    input_data = {}\n",
    "    output_data = {}\n",
    "    for i in xrange(len(data)):\n",
    "        hour_begin_date = datetime.datetime.strptime(data[i][2].strftime(\"%Y-%m-%d %H\"),\"%Y-%m-%d %H\")\n",
    "        hour_ts = int(time.mktime(hour_begin_date.timetuple()))\n",
    "        if (hour_ts not in data_grouped_by_hour):\n",
    "            data_grouped_by_hour[hour_ts] = {}\n",
    "        #again we should do averaging of connected segments data as well\n",
    "        # we're just taking the last record here\n",
    "        data_grouped_by_hour[hour_ts][get_segment_id(data[i])] = data[i]\n",
    "    \n",
    "    for ts in data_grouped_by_hour:\n",
    "        curData = data_grouped_by_hour[ts] # this is the data of the current hour \n",
    "        for segment_id in curData:\n",
    "            # If we're averaging by the hour, then we should do it here\n",
    "            cur_connected_segments = sub[segment_id]\n",
    "            weekday = curData[segment_id][2].weekday()+1\n",
    "            hour = curData[segment_id][2].hour+1\n",
    "            if (segment_id not in input_data):\n",
    "                input_data[segment_id] = np.empty([0,2+2*len(cur_connected_segments)]).astype(np.float32)\n",
    "                output_data[segment_id] = np.empty([0,2]).astype(np.float32)\n",
    "            cur_row_data = [weekday, hour]\n",
    "            for c in xrange(len(cur_connected_segments)):\n",
    "                # we add connected segments values if they exist, otherwise their values will be zeros\n",
    "                other_segment = cur_connected_segments[c]\n",
    "                other_segment_duration = 0\n",
    "                other_segment_speed = 0\n",
    "                if (other_segment in curData):\n",
    "                    other_segment_duration = curData[other_segment][1]\n",
    "                    other_segment_speed = curData[other_segment][3]\n",
    "                cur_row_data.append(other_segment_duration)\n",
    "                cur_row_data.append(other_segment_speed)\n",
    "            input_data[segment_id] = np.append(input_data[segment_id], [cur_row_data],axis=0)\n",
    "            output_data[segment_id] = np.append(output_data[segment_id], [[curData[segment_id][1], curData[segment_id][3]]],axis=0) \n",
    "    return input_data, output_data"
   ]
  },
  {
   "cell_type": "markdown",
   "metadata": {},
   "source": [
    "## The output of the perivous function looks like .. "
   ]
  },
  {
   "cell_type": "code",
   "execution_count": 44,
   "metadata": {
    "collapsed": false
   },
   "outputs": [
    {
     "name": "stdout",
     "output_type": "stream",
     "text": [
      "Day of the week, hour of the day for the current segments + Day and hour for the connected segments:  \n",
      "[[  3.  19.   0.   0.]\n",
      " [  5.  21.   0.   0.]\n",
      " [  4.  18.   0.   0.]\n",
      " ..., \n",
      " [  5.  16.   0.   0.]\n",
      " [  3.  16.   0.   0.]\n",
      " [  6.  12.   0.   0.]]\n",
      "Trip duration and speed on the connected segments: \n",
      "[[ 107.   49.]\n",
      " [ 121.   43.]\n",
      " [  98.   54.]\n",
      " ..., \n",
      " [ 108.   48.]\n",
      " [  77.   59.]\n",
      " [ 108.   48.]]\n"
     ]
    }
   ],
   "source": [
    "input_data, output_data = get_input_output_data_with_connectivity(data) \n",
    "print \"Day of the week, hour of the day for the current segments + Day and hour for the connected segments: \", '\\n', input_data [\"22680,13440,13320\"]  \n",
    "print \"Trip duration and speed on the connected segments:\", '\\n', output_data[\"22680,13440,13320\"]"
   ]
  },
  {
   "cell_type": "markdown",
   "metadata": {},
   "source": [
    "# Question # 17:\n",
    "## Can we simplify the inputs, outputs before modeling ?!\n",
    "\n",
    "Yes, we already proved that there is a strong -ve linear relationship between tripduration and avg. speed .. \n",
    "Hence, we might use any in the learning phase .. just for simplicity .. \n",
    "As we proved that depending on avg speed is more informative and has less error .. we gonna depend only on avg speed as dependent variable .. \n",
    "But just for confirmation and double checking .. the coming figure is a plot for the avg speed vs trip duration for the connected segments related to the segment \"22680,13440,13320\" that we are working on .."
   ]
  },
  {
   "cell_type": "code",
   "execution_count": 45,
   "metadata": {
    "collapsed": false
   },
   "outputs": [
    {
     "data": {
      "text/plain": [
       "[<matplotlib.lines.Line2D at 0x7fcd7af53a10>]"
      ]
     },
     "execution_count": 45,
     "metadata": {},
     "output_type": "execute_result"
    },
    {
     "data": {
      "image/png": "[encoded data removed]",
      "text/plain": [
       "<matplotlib.figure.Figure at 0x7fcd7e3eadd0>"
      ]
     },
     "metadata": {},
     "output_type": "display_data"
    }
   ],
   "source": [
    "plt.plot(output_data[\"22680,13440,13320\"][:,0],output_data[\"22680,13440,13320\"][:,1],'*' )"
   ]
  },
  {
   "cell_type": "markdown",
   "metadata": {},
   "source": [
    "# Question # 18: \n",
    "## Which learning method gonna be used ?! Why ?!\n",
    "\n",
    "Multiple linear regression is going to be used .. just for simplicity .. \n",
    "\n",
    "- Inputs are: \n",
    "    1. Day of the week for the current segment \n",
    "    2. Hour of the day for the current segment \n",
    "    3. Day of the week for the connected segments\n",
    "    4. Hour of the day for the connected segments\n",
    "    5. Trip duration for the connected segments\n",
    "    6. Avg. speed for the connected segments\n",
    "    \n",
    "    \n",
    "- Outputs: \n",
    "    1. Trip duration for the connected segment "
   ]
  },
  {
   "cell_type": "code",
   "execution_count": 26,
   "metadata": {
    "collapsed": true
   },
   "outputs": [],
   "source": [
    "def init_weights(shape):\n",
    "    return tf.Variable(tf.random_normal(shape, stddev=1))"
   ]
  },
  {
   "cell_type": "code",
   "execution_count": 50,
   "metadata": {
    "collapsed": false
   },
   "outputs": [],
   "source": [
    "segmentId = \"22680,13440,13320\" #selected road to model\n",
    "\n",
    "# i think el nan 3lshan el rows ketera .. I may call hena el fun elli betgeeb el sub bas \n",
    "input_data[segmentId] = input_data[segmentId].astype(np.float32)\n",
    "avg_speed = output_data[segmentId][:,1].astype(np.float32)\n",
    "cur_connected_segments = sub[segmentId]\n",
    "#weights\n",
    "W = init_weights([2+2*len(cur_connected_segments), 1])\n",
    "b = init_weights([1])\n",
    "# Construct model\n",
    "model = tf.matmul(input_data[segmentId], W) + b\n",
    " \n",
    "# Cost\n",
    "cost = tf.reduce_mean(tf.square(avg_speed-model))\n",
    "# Gradient Descent\n",
    "optimizer = tf.train.GradientDescentOptimizer(0.001).minimize(cost)"
   ]
  },
  {
   "cell_type": "markdown",
   "metadata": {},
   "source": [
    "## Output the loss function values and plotting them over every 1000 iteration .. "
   ]
  },
  {
   "cell_type": "code",
   "execution_count": 51,
   "metadata": {
    "collapsed": false
   },
   "outputs": [
    {
     "name": "stdout",
     "output_type": "stream",
     "text": [
      "The Mean Squared error over 10000 iterations\n",
      "(0, 841.23016)\n",
      "(1000, 290.46585)\n",
      "(2000, 256.52856)\n",
      "(3000, 231.15366)\n",
      "(4000, 212.15527)\n",
      "(5000, 197.93874)\n",
      "(6000, 187.3038)\n",
      "(7000, 179.34694)\n",
      "(8000, 173.38133)\n",
      "(9000, 168.93091)\n"
     ]
    },
    {
     "data": {
      "image/png": "[encoded data removed]",
      "text/plain": [
       "<matplotlib.figure.Figure at 0x7f125e3db310>"
      ]
     },
     "metadata": {},
     "output_type": "display_data"
    }
   ],
   "source": [
    "sess = tf.Session()\n",
    "init = tf.initialize_all_variables()\n",
    "\n",
    "sess.run(init)\n",
    "\n",
    "print \"The Mean Squared error over 10000 iterations\"\n",
    "for step in xrange(10000):\n",
    "    _, l=sess.run([optimizer,cost])\n",
    "    if step % 1000 == 0:\n",
    "        print(step, l)\n",
    "        plt.plot(step, l, '*')\n",
    "        plt.xlabel(\"Itr number\")\n",
    "        plt.ylabel(\"MSE\")\n",
    "w_out_2, intercept_2 = sess.run([W,b])"
   ]
  },
  {
   "cell_type": "markdown",
   "metadata": {},
   "source": [
    "# Comment: \n",
    "The last loss function value for this prediction using linear regression model is about 170 .. \n",
    "Although the loss function value decreases every 1000 interations (and it decreases heavely in the first 1000 iter) .. It still larger than the last loss function value generated from the previous prediction model (before taking the connected segments inputs into consideration) .. \n",
    "This might be because of the large number of connected segments related to this segment.. that increases the number of inputs which make the prediction model to be more complex .. \n",
    "\n",
    "let's try another segment and check its connectivity then predict its avg_speed .."
   ]
  },
  {
   "cell_type": "markdown",
   "metadata": {},
   "source": [
    "## Try another segment .. \n",
    "let's try another segment (i.e. 26160,10080,10200) and check the prediction results .."
   ]
  },
  {
   "cell_type": "code",
   "execution_count": 46,
   "metadata": {
    "collapsed": true
   },
   "outputs": [],
   "source": [
    "def init_weights(shape):\n",
    "    return tf.Variable(tf.random_normal(shape, stddev=1))"
   ]
  },
  {
   "cell_type": "code",
   "execution_count": 47,
   "metadata": {
    "collapsed": false
   },
   "outputs": [],
   "source": [
    "segmentId = \"26160,10080,10200\"; #selected road to model\n",
    "\n",
    "# i think el nan 3lshan el rows ketera .. I may call hena el fun elli betgeeb el sub bas \n",
    "input_data[segmentId] = input_data[segmentId].astype(np.float32)\n",
    "avg_speed = output_data[segmentId][:,1].astype(np.float32)\n",
    "cur_connected_segments = sub[segmentId]\n",
    "#weights\n",
    "W = init_weights([2+2*len(cur_connected_segments), 1])\n",
    "b = init_weights([1])\n",
    "# Construct model\n",
    "model = tf.matmul(input_data[segmentId], W) + b\n",
    " \n",
    "# Cost\n",
    "cost = tf.reduce_mean(tf.square(avg_speed-model))\n",
    "# Gradient Descent\n",
    "optimizer = tf.train.GradientDescentOptimizer(0.001).minimize(cost)"
   ]
  },
  {
   "cell_type": "code",
   "execution_count": 49,
   "metadata": {
    "collapsed": false
   },
   "outputs": [
    {
     "name": "stdout",
     "output_type": "stream",
     "text": [
      "The Mean Squared error over 10000 iterations\n",
      "(0, 1525.5632)\n",
      "(100, 536.09821)\n",
      "(200, 523.88507)\n",
      "(300, 517.03302)\n",
      "(400, 511.48486)\n",
      "(500, 505.87918)\n",
      "(600, 500.55789)\n",
      "(700, 495.48825)\n",
      "(800, 490.65967)\n",
      "(900, 485.78445)\n"
     ]
    },
    {
     "data": {
      "image/png": "[encoded data removed]",
      "text/plain": [
       "<matplotlib.figure.Figure at 0x7fcd7e3f7a50>"
      ]
     },
     "metadata": {},
     "output_type": "display_data"
    }
   ],
   "source": [
    "sess = tf.Session()\n",
    "init = tf.initialize_all_variables()\n",
    "\n",
    "sess.run(init)\n",
    "\n",
    "print \"The Mean Squared error over 10000 iterations\"\n",
    "for step in xrange(1000):\n",
    "    _, l=sess.run([optimizer,cost])\n",
    "    if step % 100 == 0:\n",
    "        print(step, l)\n",
    "        plt.plot(step, l, '*')\n",
    "        plt.xlabel(\"Itr number\")\n",
    "        plt.ylabel(\"MSE\")"
   ]
  },
  {
   "cell_type": "markdown",
   "metadata": {},
   "source": [
    "# Comment: \n",
    "Larger number of iterations is also tried here (i.e. 1000) but just been ignored becuase it takes large processing time .. Although it's already tried and gave larger cost function values than the 1st segment .. "
   ]
  },
  {
   "cell_type": "code",
   "execution_count": 138,
   "metadata": {
    "collapsed": false
   },
   "outputs": [
    {
     "name": "stdout",
     "output_type": "stream",
     "text": [
      "Conneted segments related to the segment['26160,10080,10200'] are: \n",
      "\n"
     ]
    },
    {
     "data": {
      "text/plain": [
       "['26040,10200,10080', '26040,10200,10080']"
      ]
     },
     "execution_count": 138,
     "metadata": {},
     "output_type": "execute_result"
    }
   ],
   "source": [
    "connected_segments = get_connected_segmets()\n",
    "print \"Conneted segments related to the segment['26160,10080,10200'] are:\", '\\n'\n",
    "connected_segments['26160,10080,10200']"
   ]
  },
  {
   "cell_type": "code",
   "execution_count": 139,
   "metadata": {
    "collapsed": false
   },
   "outputs": [
    {
     "name": "stdout",
     "output_type": "stream",
     "text": [
      "This function returns all the subsequent segments related to the current segment in a one way road\n",
      "\n",
      "Examples: \n",
      "sub[\"26160,10080,10200\"] are: []\n"
     ]
    }
   ],
   "source": [
    "sub = get_subsequent_segments()\n",
    "print \"This function returns all the subsequent segments related to the current segment in a one way road\"\n",
    "print '\\n', \"Examples:\",'\\n', 'sub[\"26160,10080,10200\"] are:', sub[\"26160,10080,10200\"]"
   ]
  },
  {
   "cell_type": "markdown",
   "metadata": {},
   "source": [
    "# Comment:\n",
    "The second segment has not got any subsequant segments that follow the primary segment .. \n",
    "hence, it has larger cost function value .. that is generated may be from finding other subsequant segments but on different roads .. !"
   ]
  },
  {
   "cell_type": "markdown",
   "metadata": {},
   "source": [
    "# Try one more segment ..  \n",
    "Let's select one more segment and find the number of its connected segments .. then run the prediction model .. \n",
    "i.e. assume the segment (600,6120,6000) is selected .. "
   ]
  },
  {
   "cell_type": "code",
   "execution_count": 50,
   "metadata": {
    "collapsed": false
   },
   "outputs": [
    {
     "name": "stdout",
     "output_type": "stream",
     "text": [
      "Conneted segments related to the segment['600,6120,6000'] are: \n",
      "\n"
     ]
    },
    {
     "data": {
      "text/plain": [
       "['720,6000,6120', '720,6000,6120', '720,5760,6120', '600,6000,5760']"
      ]
     },
     "execution_count": 50,
     "metadata": {},
     "output_type": "execute_result"
    }
   ],
   "source": [
    "connected_segments = get_connected_segmets()\n",
    "print \"Conneted segments related to the segment['600,6120,6000'] are:\", '\\n'\n",
    "connected_segments['600,6120,6000']"
   ]
  },
  {
   "cell_type": "code",
   "execution_count": 51,
   "metadata": {
    "collapsed": false
   },
   "outputs": [
    {
     "name": "stdout",
     "output_type": "stream",
     "text": [
      "This function returns all the subsequent segments related to the current segment in a one way road\n",
      "\n",
      "Examples: \n",
      "sub[\"600,6120,6000\"] are: ['600,6000,5760']\n"
     ]
    }
   ],
   "source": [
    "sub = get_subsequent_segments()\n",
    "print \"This function returns all the subsequent segments related to the current segment in a one way road\"\n",
    "print '\\n', \"Examples:\",'\\n', 'sub[\"600,6120,6000\"] are:', sub[\"600,6120,6000\"]"
   ]
  },
  {
   "cell_type": "code",
   "execution_count": 52,
   "metadata": {
    "collapsed": true
   },
   "outputs": [],
   "source": [
    "def init_weights(shape):\n",
    "    return tf.Variable(tf.random_normal(shape, stddev=1))"
   ]
  },
  {
   "cell_type": "code",
   "execution_count": 53,
   "metadata": {
    "collapsed": true
   },
   "outputs": [],
   "source": [
    "segmentId = \"600,6120,6000\"; #selected road to model\n",
    "\n",
    "# i think el nan 3lshan el rows ketera .. I may call hena el fun elli betgeeb el sub bas \n",
    "input_data[segmentId] = input_data[segmentId].astype(np.float32)\n",
    "avg_speed = output_data[segmentId][:,1].astype(np.float32)\n",
    "cur_connected_segments = sub[segmentId]\n",
    "#weights\n",
    "W = init_weights([2+2*len(cur_connected_segments), 1])\n",
    "b = init_weights([1])\n",
    "# Construct model\n",
    "model = tf.matmul(input_data[segmentId], W) + b\n",
    " \n",
    "# Cost\n",
    "cost = tf.reduce_mean(tf.square(avg_speed-model))\n",
    "# Gradient Descent\n",
    "optimizer = tf.train.GradientDescentOptimizer(0.001).minimize(cost)"
   ]
  },
  {
   "cell_type": "code",
   "execution_count": 54,
   "metadata": {
    "collapsed": false
   },
   "outputs": [
    {
     "name": "stdout",
     "output_type": "stream",
     "text": [
      "The Mean Squared error over 10000 iterations\n",
      "(0, 11465.567)\n",
      "(100, nan)\n",
      "(200, nan)\n",
      "(300, nan)\n",
      "(400, nan)\n",
      "(500, nan)\n",
      "(600, nan)\n",
      "(700, nan)\n",
      "(800, nan)\n",
      "(900, nan)\n"
     ]
    }
   ],
   "source": [
    "sess = tf.Session()\n",
    "init = tf.initialize_all_variables()\n",
    "\n",
    "sess.run(init)\n",
    "\n",
    "print \"The Mean Squared error over 10000 iterations\"\n",
    "for step in xrange(1000):\n",
    "    _, l=sess.run([optimizer,cost])\n",
    "    if step % 100 == 0:\n",
    "        print(step, l)"
   ]
  },
  {
   "cell_type": "markdown",
   "metadata": {},
   "source": [
    "# Comment:\n",
    "The prediction model generates 'nan' as it doesn't have any subsequant connected segments .. neither on the same road nor on a different one ..  \n",
    "that's why the prediction model couldn't find results !! .. and hence the cost function is nan ! "
   ]
  },
  {
   "cell_type": "markdown",
   "metadata": {},
   "source": [
    "# Conclusion: \n",
    "\n",
    "- The more connected segments \"after\" the primary segment ..the more the learning process for the prediction model .. then better results can be generated .. and less cost function values can be obtained ! .. and this is proved by apply the prediction model on 3 different segments .. !\n",
    "\n",
    "\n",
    "- The implementation for this part guarntees working on only one way in a 2-ways road .. and this is more logical to analyze only one way (forward one) in a two ways road .. "
   ]
  },
  {
   "cell_type": "markdown",
   "metadata": {},
   "source": [
    "# - Model Evaluation:\n",
    "\n",
    "## Correlation Coeffecient for the independent variables .."
   ]
  },
  {
   "cell_type": "code",
   "execution_count": 82,
   "metadata": {
    "collapsed": false
   },
   "outputs": [
    {
     "name": "stdout",
     "output_type": "stream",
     "text": [
      "The correlation matrix is  \n",
      "[[ 1.          0.99653233  0.99777861 ...,  0.98692553  0.99953451\n",
      "   0.93626775]\n",
      " [ 0.99653233  1.          0.99986162 ...,  0.99691416  0.99860695\n",
      "   0.96225045]\n",
      " [ 0.99777861  0.99986162  1.         ...,  0.99547033  0.99934654\n",
      "   0.95758968]\n",
      " ..., \n",
      " [ 0.98692553  0.99691416  0.99547033 ...,  1.          0.99138338\n",
      "   0.98064593]\n",
      " [ 0.99953451  0.99860695  0.99934654 ...,  0.99138338  1.          0.94654913]\n",
      " [ 0.93626775  0.96225045  0.95758968 ...,  0.98064593  0.94654913  1.        ]]\n"
     ]
    }
   ],
   "source": [
    "r_input = np.corrcoef(input_data[\"22680,13440,13320\"])\n",
    "print \"The correlation matrix is \", '\\n', r_input"
   ]
  },
  {
   "cell_type": "markdown",
   "metadata": {},
   "source": [
    "## Comment .. \n",
    "There are very strong linear relationship between the independent variables in the 2nd model .. \n",
    "again, these independent variables are: \n",
    "    1. Day of the week for the current segment \n",
    "    2. Hour of the day for the current segment \n",
    "    3. Day of the week for the connected segments\n",
    "    4. Hour of the day for the connected segments\n",
    "    5. Trip duration for the connected segments\n",
    "    6. Avg. speed for the connected segments"
   ]
  },
  {
   "cell_type": "markdown",
   "metadata": {},
   "source": [
    "# Model Evaluation .. \n",
    "Calculating R_Squared for the linear model .. \n",
    "as this is a linear model .. we may assume that R_squared = (r)^2 .. "
   ]
  },
  {
   "cell_type": "code",
   "execution_count": 88,
   "metadata": {
    "collapsed": false
   },
   "outputs": [
    {
     "name": "stdout",
     "output_type": "stream",
     "text": [
      "R_squared =  0.99307668384\n"
     ]
    }
   ],
   "source": [
    "R_squared = np.square(r_input[0,1])\n",
    "print \"R_squared = \", R_squared"
   ]
  },
  {
   "cell_type": "markdown",
   "metadata": {},
   "source": [
    "# Question # 19:\n",
    "## Can we obtain better prediction results ?!! \n",
    "Yes, we can .. may be by applying another (more advanced) prediction model .. \n",
    "and hence, we gonna try \"Support Vector for regression\" model .. for simplicity, the built in model from sklearn library is used .. \n",
    "and back to work on the segement that gave the least cost error function values (22680,13440,13320) "
   ]
  },
  {
   "cell_type": "code",
   "execution_count": 86,
   "metadata": {
    "collapsed": false
   },
   "outputs": [
    {
     "data": {
      "text/plain": [
       "SVR(C=1.0, cache_size=200, coef0=0.0, degree=3, epsilon=0.2, gamma=0.0,\n",
       "  kernel='rbf', max_iter=-1, probability=False, random_state=None,\n",
       "  shrinking=True, tol=0.001, verbose=False)"
      ]
     },
     "execution_count": 86,
     "metadata": {},
     "output_type": "execute_result"
    }
   ],
   "source": [
    "segmentId = \"22680,13440,13320\" #selected segment to model\n",
    "avg_speed = output_data[segmentId][:,1].astype(np.float32)\n",
    "\n",
    "clf = SVR(C=1.0, epsilon=0.2, kernel = 'rbf')\n",
    "clf.fit(input_data[segmentId],avg_speed)"
   ]
  },
  {
   "cell_type": "code",
   "execution_count": 87,
   "metadata": {
    "collapsed": false
   },
   "outputs": [
    {
     "name": "stdout",
     "output_type": "stream",
     "text": [
      "The R_Squared value is:  0.259210076918\n"
     ]
    }
   ],
   "source": [
    "score = clf.score(input_data[\"22680,13440,13320\"],avg_speed)\n",
    "print \"The R_Squared value is: \", score"
   ]
  },
  {
   "cell_type": "markdown",
   "metadata": {},
   "source": [
    "# Conclusion:\n",
    "So far we built to prediction models .. \n",
    "1. Predict the avg_speed for a cartain segment based on its (Hour of the day, day of the week) values .. \n",
    "2. Predict the avg_speed for a primary segment based on ( its (Hour of the day, day of the week) values as well as the hour of the day, day of the week, avg_speed and trip_duration of its connected segments) .. \n",
    "\n",
    "Two prediction models are applied .. \n",
    "1. Linear Regression \n",
    "2. Suport Vector for Regression .. \n",
    "\n",
    "The non_linear model outperformed the linear one in the 1st prediction problem .. while the reverse occured in the 2nd one"
   ]
  },
  {
   "cell_type": "markdown",
   "metadata": {},
   "source": [
    "# Question # 20: \n",
    "## What about applying these models on a test data !! .. \n",
    "Currently, it's illogical to do that !! .. \n",
    "first of all, we have to validate the results of these linear, non_linear models through applying them on unseen data and evlauate thier performance .. \n",
    "\n",
    "This is what we gonna do in the next step .."
   ]
  },
  {
   "cell_type": "markdown",
   "metadata": {
    "collapsed": true
   },
   "source": [
    "to be done .. \n",
    "validation .. \n",
    "time as input "
   ]
  },
  {
   "cell_type": "markdown",
   "metadata": {},
   "source": [
    "# - Validatation phase:"
   ]
  },
  {
   "cell_type": "markdown",
   "metadata": {},
   "source": [
    "## 1. First Prediction Task: \n",
    "\n",
    "### 1.1. Linear Regression .. "
   ]
  },
  {
   "cell_type": "code",
   "execution_count": 40,
   "metadata": {
    "collapsed": false
   },
   "outputs": [
    {
     "name": "stdout",
     "output_type": "stream",
     "text": [
      "The mean squared error for the validation set when applying Linear Regression is:  8401.6\n"
     ]
    }
   ],
   "source": [
    "Y_model = np.matmul(input_data_test, w_out) + intercept\n",
    "MSE = np.square(np.mean(Y_model - test_data))\n",
    "print \"The mean squared error for the validation set when applying Linear Regression is: \", MSE"
   ]
  },
  {
   "cell_type": "markdown",
   "metadata": {},
   "source": [
    "## Comment:\n",
    "The mean squared error for linear regression is 8410.6, by applying the linear regression model using the optimal values for the (weights and intercept) .. \n",
    "It's obvious that the mean squared error value for the validation process is higher the highest value for the training phase .. and this is a little bit weired as it indicates bad performance for the linear model on the unseen (validation) set ..  \n",
    "\n",
    "let's try to check the performance of non-linear model .. !"
   ]
  },
  {
   "cell_type": "markdown",
   "metadata": {},
   "source": [
    "## 2. Second Prediction Task: \n"
   ]
  },
  {
   "cell_type": "markdown",
   "metadata": {},
   "source": [
    "### 2.1.  Linear Regression: "
   ]
  },
  {
   "cell_type": "code",
   "execution_count": 42,
   "metadata": {
    "collapsed": false
   },
   "outputs": [
    {
     "name": "stdout",
     "output_type": "stream",
     "text": [
      "The mean squared error for the validation set when applying Linear Regression is:  8357.84\n"
     ]
    }
   ],
   "source": [
    "Y_model_2 = np.matmul(input_data_test, w_out_2) + intercept_2\n",
    "MSE = np.square(np.mean(Y_model_2 - test_data))\n",
    "print \"The mean squared error for the validation set when applying Linear Regression is: \", MSE"
   ]
  },
  {
   "cell_type": "markdown",
   "metadata": {},
   "source": [
    "## Comment:\n",
    "The loss function for linear regression model in the 2nd prediction phase is better than tht one in the 1st prediction task (As it gives less mean squared error) "
   ]
  },
  {
   "cell_type": "markdown",
   "metadata": {},
   "source": [
    "# Final Conclusion: \n",
    "    - This notebook is an implementation for the traffic prediction challenge ..\n",
    "    - This chellenge has two main phases, each of which is a prediction problem .. \n",
    "    - Data is divided into (training and validation) datasets using 80, 20 CV \n",
    "    - Preprocessing phase is done, where duplicate rows have been removed, hour of the day and day of the week is \n",
    "    extracted from the date, time column \n",
    "    - RoadID wasn't considered as one of the inputs \n",
    "    - The road is divided into set of segments and each segment is analysed seperately \n",
    "    \n",
    "    \n",
    "## 1st Prediction Problem: \n",
    "\n",
    "### Inputs: \n",
    "\n",
    "    1. Day of the week \n",
    "    2. Time of the day\n",
    "\n",
    "### Outputs:\n",
    "\n",
    "    1. Trip Duration \n",
    "    2. Average Speed\n",
    "    \n",
    "## 2nd Prediction problem:\n",
    "\n",
    "### Inputs: \n",
    "\n",
    "    1. Day of the week for the current segment \n",
    "    2. Hour of the day for the current segment \n",
    "    3. Day of the week for the connected segments\n",
    "    4. Hour of the day for the connected segments\n",
    "    5. Trip duration for the connected segments\n",
    "    6. Avg. speed for the connected segments\n",
    "\n",
    "### Outputs: \n",
    "\n",
    "     1. Avg. Speed for a primary segment\n",
    "     \n",
    "- Two prediction models are used (Linear Regression, SVR)    \n",
    "\n",
    "\n",
    "- As a result, the non_linear model (SVR) outperformed the linear one in the 2nd problem .. \n",
    "\n",
    "\n",
    "- While the reverse occured in the 2nd prediction problem .. the linear model performed better than the non_linear one.. this might occur becuase of reducing the data size, by working on only the subsequant segments of the primary segment, focusing on only one way in the two ways road, instead on working on all connected segments without taking into consideration the way of the road (if it is two way road or only one way) .. "
   ]
  },
  {
   "cell_type": "code",
   "execution_count": null,
   "metadata": {
    "collapsed": true
   },
   "outputs": [],
   "source": []
  }
 ],
 "metadata": {
  "kernelspec": {
   "display_name": "Python 2",
   "language": "python",
   "name": "python2"
  },
  "language_info": {
   "codemirror_mode": {
    "name": "ipython",
    "version": 2
   },
   "file_extension": ".py",
   "mimetype": "text/x-python",
   "name": "python",
   "nbconvert_exporter": "python",
   "pygments_lexer": "ipython2",
   "version": "2.7.6"
  }
 },
 "nbformat": 4,
 "nbformat_minor": 0
}
