{
 "cells": [
  {
   "cell_type": "markdown",
   "metadata": {},
   "source": [
    "# Introduction: \n",
    "\n",
    "- This notebook contains implementation trails for \"Santander Customer Satisfaction\" Kaggle Competition .. \n",
    "- The dataset related to this chellenge is (imbalanced dataset) such that more than 97% of the data represent (Satisfied customers)\n",
    "\n",
    "### Problem: \n",
    "The existance of unsatisfied customers .. !\n",
    "\n",
    "### Requirment:\n",
    "Calculate the probability that each customer in te test set is an (Unsatisfied Customer) \n",
    "\n",
    "### Variables: \n",
    "1. 369 independent variables \n",
    "2. One output (Depdendent variable) represents Customer Satisfaction (0 is satisfied and 1 for Unsatisfied customers)\n",
    "\n",
    "### Implementation Steps:\n",
    "1. Data Preprocessing ..\n",
    "2. Feature Reduction ..\n",
    "3. Learning Task ..\n",
    "\n",
    "### Type of Learning task:\n",
    "It's a classification task as the output variable either zero ot one "
   ]
  },
  {
   "cell_type": "markdown",
   "metadata": {},
   "source": [
    "# Document Structure .. \n",
    "The structure of this document is as follows ..\n",
    "1. Loading data from the file \n",
    "2. Data understanding phase .. \n",
    "    It contains statistical analysis and data preprocessing steps for the matter of understanding the data \n",
    "3. Feature Reduction\n",
    "4. Learning Phase \n",
    "    The learning process occurs through applying three classification methods (Logistic Regression, ANN, and Decision Tree) \n",
    "5. Further Preprocessing steps for the sake of deeper understanding \n",
    "6. Under_Sampling \n",
    "7. The learning phase again on the under_sampled data points\n",
    "8. Conclusion and future work "
   ]
  },
  {
   "cell_type": "markdown",
   "metadata": {},
   "source": [
    "### - Import statements .. "
   ]
  },
  {
   "cell_type": "code",
   "execution_count": 107,
   "metadata": {
    "collapsed": false
   },
   "outputs": [],
   "source": [
    "import tensorflow as tf\n",
    "import numpy as np\n",
    "import pandas as pd\n",
    "import matplotlib.pyplot as plt\n",
    "from sklearn.linear_model import LogisticRegression\n",
    "from sklearn.metrics import roc_curve, auc\n",
    "from sklearn.linear_model import LinearRegression\n",
    "\n",
    "from sklearn.metrics import precision_recall_fscore_support\n",
    "from sklearn.feature_selection import SelectPercentile\n",
    "from sklearn.feature_selection import f_classif,chi2\n",
    "from sklearn.preprocessing import Binarizer, scale\n",
    "from sklearn.metrics import confusion_matrix\n",
    "from sklearn.metrics import classification_report\n",
    "from sklearn import tree\n",
    "\n",
    "from scipy.stats.stats import pearsonr\n",
    "from sklearn.decomposition import PCA\n",
    "\n",
    "%matplotlib inline\n",
    "import csv\n",
    "import datetime\n",
    "import time\n",
    "import math\n",
    "from IPython.display import display, Image\n",
    "# import seaborn as sns"
   ]
  },
  {
   "cell_type": "markdown",
   "metadata": {},
   "source": [
    "# 1. Data Preprocessing:"
   ]
  },
  {
   "cell_type": "markdown",
   "metadata": {},
   "source": [
    "### - Reading Data from the training data file .. "
   ]
  },
  {
   "cell_type": "code",
   "execution_count": 108,
   "metadata": {
    "collapsed": true
   },
   "outputs": [],
   "source": [
    "data =np.genfromtxt('train.csv', delimiter=',',skip_header=True)"
   ]
  },
  {
   "cell_type": "markdown",
   "metadata": {},
   "source": [
    "### - Print statements for the data ..   "
   ]
  },
  {
   "cell_type": "code",
   "execution_count": 109,
   "metadata": {
    "collapsed": false
   },
   "outputs": [
    {
     "name": "stdout",
     "output_type": "stream",
     "text": [
      "Size of the data ..  (76020, 371)\n"
     ]
    }
   ],
   "source": [
    "print \"Size of the data .. \", data.shape"
   ]
  },
  {
   "cell_type": "markdown",
   "metadata": {},
   "source": [
    "### Comment: \n",
    "\n",
    "- There are 369 independent variables in the dataset and 1 output variable .. \n",
    "- The customer ID variable is ignored .. \n",
    "- The starting index is Zero .. "
   ]
  },
  {
   "cell_type": "code",
   "execution_count": 110,
   "metadata": {
    "collapsed": false
   },
   "outputs": [
    {
     "name": "stdout",
     "output_type": "stream",
     "text": [
      "The data looks like ..  \n",
      "\n",
      "[[  1.00000000e+00   2.00000000e+00   2.30000000e+01 ...,   0.00000000e+00\n",
      "    3.92051700e+04   0.00000000e+00]\n",
      " [  3.00000000e+00   2.00000000e+00   3.40000000e+01 ...,   0.00000000e+00\n",
      "    4.92780300e+04   0.00000000e+00]\n",
      " [  4.00000000e+00   2.00000000e+00   2.30000000e+01 ...,   0.00000000e+00\n",
      "    6.73337700e+04   0.00000000e+00]\n",
      " ..., \n",
      " [  1.51835000e+05   2.00000000e+00   2.30000000e+01 ...,   0.00000000e+00\n",
      "    7.40281500e+04   0.00000000e+00]\n",
      " [  1.51836000e+05   2.00000000e+00   2.50000000e+01 ...,   0.00000000e+00\n",
      "    8.42781600e+04   0.00000000e+00]\n",
      " [  1.51838000e+05   2.00000000e+00   4.60000000e+01 ...,   0.00000000e+00\n",
      "    1.17310979e+05   0.00000000e+00]]\n",
      "[[  1.00000000e+00   2.00000000e+00   2.30000000e+01 ...,   0.00000000e+00\n",
      "    3.92051700e+04   0.00000000e+00]\n",
      " [  3.00000000e+00   2.00000000e+00   3.40000000e+01 ...,   0.00000000e+00\n",
      "    4.92780300e+04   0.00000000e+00]\n",
      " [  4.00000000e+00   2.00000000e+00   2.30000000e+01 ...,   0.00000000e+00\n",
      "    6.73337700e+04   0.00000000e+00]\n",
      " ..., \n",
      " [  1.51835000e+05   2.00000000e+00   2.30000000e+01 ...,   0.00000000e+00\n",
      "    7.40281500e+04   0.00000000e+00]\n",
      " [  1.51836000e+05   2.00000000e+00   2.50000000e+01 ...,   0.00000000e+00\n",
      "    8.42781600e+04   0.00000000e+00]\n",
      " [  1.51838000e+05   2.00000000e+00   4.60000000e+01 ...,   0.00000000e+00\n",
      "    1.17310979e+05   0.00000000e+00]]\n",
      "[[  1.00000000e+00   2.00000000e+00   2.30000000e+01 ...,   0.00000000e+00\n",
      "    3.92051700e+04   0.00000000e+00]\n",
      " [  3.00000000e+00   2.00000000e+00   3.40000000e+01 ...,   0.00000000e+00\n",
      "    4.92780300e+04   0.00000000e+00]\n",
      " [  4.00000000e+00   2.00000000e+00   2.30000000e+01 ...,   0.00000000e+00\n",
      "    6.73337700e+04   0.00000000e+00]\n",
      " ..., \n",
      " [  1.51835000e+05   2.00000000e+00   2.30000000e+01 ...,   0.00000000e+00\n",
      "    7.40281500e+04   0.00000000e+00]\n",
      " [  1.51836000e+05   2.00000000e+00   2.50000000e+01 ...,   0.00000000e+00\n",
      "    8.42781600e+04   0.00000000e+00]\n",
      " [  1.51838000e+05   2.00000000e+00   4.60000000e+01 ...,   0.00000000e+00\n",
      "    1.17310979e+05   0.00000000e+00]]\n"
     ]
    }
   ],
   "source": [
    "print \"The data looks like .. \", '\\n'\n",
    "\n",
    "for i in xrange(3):\n",
    "    print(data)"
   ]
  },
  {
   "cell_type": "markdown",
   "metadata": {},
   "source": [
    "### Comment: \n",
    "The priveous display for the data is not informative .. ! \n",
    "We still need a better way of displaying .. \n",
    "Let's try Pandas library ;) "
   ]
  },
  {
   "cell_type": "markdown",
   "metadata": {},
   "source": [
    "- We need to open the file as Pandas DataFrame .. "
   ]
  },
  {
   "cell_type": "code",
   "execution_count": 111,
   "metadata": {
    "collapsed": true
   },
   "outputs": [],
   "source": [
    "train = pd.read_csv(\"train.csv\")"
   ]
  },
  {
   "cell_type": "markdown",
   "metadata": {},
   "source": [
    "-  Display the 1st 5 columns .. "
   ]
  },
  {
   "cell_type": "code",
   "execution_count": 112,
   "metadata": {
    "collapsed": false
   },
   "outputs": [
    {
     "data": {
      "text/html": [
       "<div style=\"max-height:1000px;max-width:1500px;overflow:auto;\">\n",
       "<table border=\"1\" class=\"dataframe\">\n",
       "  <thead>\n",
       "    <tr style=\"text-align: right;\">\n",
       "      <th></th>\n",
       "      <th>ID</th>\n",
       "      <th>var3</th>\n",
       "      <th>var15</th>\n",
       "      <th>imp_ent_var16_ult1</th>\n",
       "      <th>imp_op_var39_comer_ult1</th>\n",
       "      <th>imp_op_var39_comer_ult3</th>\n",
       "      <th>imp_op_var40_comer_ult1</th>\n",
       "      <th>imp_op_var40_comer_ult3</th>\n",
       "      <th>imp_op_var40_efect_ult1</th>\n",
       "      <th>imp_op_var40_efect_ult3</th>\n",
       "      <th>imp_op_var40_ult1</th>\n",
       "      <th>imp_op_var41_comer_ult1</th>\n",
       "      <th>imp_op_var41_comer_ult3</th>\n",
       "      <th>imp_op_var41_efect_ult1</th>\n",
       "      <th>imp_op_var41_efect_ult3</th>\n",
       "      <th>imp_op_var41_ult1</th>\n",
       "      <th>imp_op_var39_efect_ult1</th>\n",
       "      <th>imp_op_var39_efect_ult3</th>\n",
       "      <th>imp_op_var39_ult1</th>\n",
       "      <th>imp_sal_var16_ult1</th>\n",
       "      <th></th>\n",
       "    </tr>\n",
       "  </thead>\n",
       "  <tbody>\n",
       "    <tr>\n",
       "      <th>0</th>\n",
       "      <td>  1</td>\n",
       "      <td> 2</td>\n",
       "      <td> 23</td>\n",
       "      <td> 0</td>\n",
       "      <td>   0</td>\n",
       "      <td>   0</td>\n",
       "      <td> 0</td>\n",
       "      <td> 0</td>\n",
       "      <td> 0</td>\n",
       "      <td> 0</td>\n",
       "      <td> 0</td>\n",
       "      <td>   0</td>\n",
       "      <td>   0</td>\n",
       "      <td> 0</td>\n",
       "      <td> 0</td>\n",
       "      <td>   0</td>\n",
       "      <td> 0</td>\n",
       "      <td> 0</td>\n",
       "      <td>   0</td>\n",
       "      <td> 0</td>\n",
       "      <td>...</td>\n",
       "    </tr>\n",
       "    <tr>\n",
       "      <th>1</th>\n",
       "      <td>  3</td>\n",
       "      <td> 2</td>\n",
       "      <td> 34</td>\n",
       "      <td> 0</td>\n",
       "      <td>   0</td>\n",
       "      <td>   0</td>\n",
       "      <td> 0</td>\n",
       "      <td> 0</td>\n",
       "      <td> 0</td>\n",
       "      <td> 0</td>\n",
       "      <td> 0</td>\n",
       "      <td>   0</td>\n",
       "      <td>   0</td>\n",
       "      <td> 0</td>\n",
       "      <td> 0</td>\n",
       "      <td>   0</td>\n",
       "      <td> 0</td>\n",
       "      <td> 0</td>\n",
       "      <td>   0</td>\n",
       "      <td> 0</td>\n",
       "      <td>...</td>\n",
       "    </tr>\n",
       "    <tr>\n",
       "      <th>2</th>\n",
       "      <td>  4</td>\n",
       "      <td> 2</td>\n",
       "      <td> 23</td>\n",
       "      <td> 0</td>\n",
       "      <td>   0</td>\n",
       "      <td>   0</td>\n",
       "      <td> 0</td>\n",
       "      <td> 0</td>\n",
       "      <td> 0</td>\n",
       "      <td> 0</td>\n",
       "      <td> 0</td>\n",
       "      <td>   0</td>\n",
       "      <td>   0</td>\n",
       "      <td> 0</td>\n",
       "      <td> 0</td>\n",
       "      <td>   0</td>\n",
       "      <td> 0</td>\n",
       "      <td> 0</td>\n",
       "      <td>   0</td>\n",
       "      <td> 0</td>\n",
       "      <td>...</td>\n",
       "    </tr>\n",
       "    <tr>\n",
       "      <th>3</th>\n",
       "      <td>  8</td>\n",
       "      <td> 2</td>\n",
       "      <td> 37</td>\n",
       "      <td> 0</td>\n",
       "      <td> 195</td>\n",
       "      <td> 195</td>\n",
       "      <td> 0</td>\n",
       "      <td> 0</td>\n",
       "      <td> 0</td>\n",
       "      <td> 0</td>\n",
       "      <td> 0</td>\n",
       "      <td> 195</td>\n",
       "      <td> 195</td>\n",
       "      <td> 0</td>\n",
       "      <td> 0</td>\n",
       "      <td> 195</td>\n",
       "      <td> 0</td>\n",
       "      <td> 0</td>\n",
       "      <td> 195</td>\n",
       "      <td> 0</td>\n",
       "      <td>...</td>\n",
       "    </tr>\n",
       "    <tr>\n",
       "      <th>4</th>\n",
       "      <td> 10</td>\n",
       "      <td> 2</td>\n",
       "      <td> 39</td>\n",
       "      <td> 0</td>\n",
       "      <td>   0</td>\n",
       "      <td>   0</td>\n",
       "      <td> 0</td>\n",
       "      <td> 0</td>\n",
       "      <td> 0</td>\n",
       "      <td> 0</td>\n",
       "      <td> 0</td>\n",
       "      <td>   0</td>\n",
       "      <td>   0</td>\n",
       "      <td> 0</td>\n",
       "      <td> 0</td>\n",
       "      <td>   0</td>\n",
       "      <td> 0</td>\n",
       "      <td> 0</td>\n",
       "      <td>   0</td>\n",
       "      <td> 0</td>\n",
       "      <td>...</td>\n",
       "    </tr>\n",
       "  </tbody>\n",
       "</table>\n",
       "<p>5 rows × 371 columns</p>\n",
       "</div>"
      ],
      "text/plain": [
       "   ID  var3  var15  imp_ent_var16_ult1  imp_op_var39_comer_ult1  \\\n",
       "0   1     2     23                   0                        0   \n",
       "1   3     2     34                   0                        0   \n",
       "2   4     2     23                   0                        0   \n",
       "3   8     2     37                   0                      195   \n",
       "4  10     2     39                   0                        0   \n",
       "\n",
       "   imp_op_var39_comer_ult3  imp_op_var40_comer_ult1  imp_op_var40_comer_ult3  \\\n",
       "0                        0                        0                        0   \n",
       "1                        0                        0                        0   \n",
       "2                        0                        0                        0   \n",
       "3                      195                        0                        0   \n",
       "4                        0                        0                        0   \n",
       "\n",
       "   imp_op_var40_efect_ult1  imp_op_var40_efect_ult3  imp_op_var40_ult1  \\\n",
       "0                        0                        0                  0   \n",
       "1                        0                        0                  0   \n",
       "2                        0                        0                  0   \n",
       "3                        0                        0                  0   \n",
       "4                        0                        0                  0   \n",
       "\n",
       "   imp_op_var41_comer_ult1  imp_op_var41_comer_ult3  imp_op_var41_efect_ult1  \\\n",
       "0                        0                        0                        0   \n",
       "1                        0                        0                        0   \n",
       "2                        0                        0                        0   \n",
       "3                      195                      195                        0   \n",
       "4                        0                        0                        0   \n",
       "\n",
       "   imp_op_var41_efect_ult3  imp_op_var41_ult1  imp_op_var39_efect_ult1  \\\n",
       "0                        0                  0                        0   \n",
       "1                        0                  0                        0   \n",
       "2                        0                  0                        0   \n",
       "3                        0                195                        0   \n",
       "4                        0                  0                        0   \n",
       "\n",
       "   imp_op_var39_efect_ult3  imp_op_var39_ult1  imp_sal_var16_ult1      \n",
       "0                        0                  0                   0 ...  \n",
       "1                        0                  0                   0 ...  \n",
       "2                        0                  0                   0 ...  \n",
       "3                        0                195                   0 ...  \n",
       "4                        0                  0                   0 ...  \n",
       "\n",
       "[5 rows x 371 columns]"
      ]
     },
     "execution_count": 112,
     "metadata": {},
     "output_type": "execute_result"
    }
   ],
   "source": [
    "train.head()"
   ]
  },
  {
   "cell_type": "markdown",
   "metadata": {},
   "source": [
    "## Comment: \n",
    "Again, 371 column including the customer_Id and starting from 1 .. "
   ]
  },
  {
   "cell_type": "markdown",
   "metadata": {},
   "source": [
    "### - Displaying the percentage of satisfied and unstisfied customers .. "
   ]
  },
  {
   "cell_type": "code",
   "execution_count": 115,
   "metadata": {
    "collapsed": false
   },
   "outputs": [
    {
     "name": "stdout",
     "output_type": "stream",
     "text": [
      "The percentages of each class:\n"
     ]
    },
    {
     "name": "stderr",
     "output_type": "stream",
     "text": [
      "/usr/lib/python2.7/dist-packages/pandas/core/series.py:1807: DeprecationWarning: numpy boolean negative, the `-` operator, is deprecated, use the `~` operator or the logical_not function instead.\n",
      "  good = -bad\n"
     ]
    },
    {
     "data": {
      "text/html": [
       "<div style=\"max-height:1000px;max-width:1500px;overflow:auto;\">\n",
       "<table border=\"1\" class=\"dataframe\">\n",
       "  <thead>\n",
       "    <tr style=\"text-align: right;\">\n",
       "      <th></th>\n",
       "      <th>0</th>\n",
       "      <th>Percentage</th>\n",
       "    </tr>\n",
       "  </thead>\n",
       "  <tbody>\n",
       "    <tr>\n",
       "      <th>0</th>\n",
       "      <td> 73012</td>\n",
       "      <td> 96.043147</td>\n",
       "    </tr>\n",
       "    <tr>\n",
       "      <th>1</th>\n",
       "      <td>  3008</td>\n",
       "      <td>  3.956853</td>\n",
       "    </tr>\n",
       "  </tbody>\n",
       "</table>\n",
       "<p>2 rows × 2 columns</p>\n",
       "</div>"
      ],
      "text/plain": [
       "       0  Percentage\n",
       "0  73012   96.043147\n",
       "1   3008    3.956853\n",
       "\n",
       "[2 rows x 2 columns]"
      ]
     },
     "execution_count": 115,
     "metadata": {},
     "output_type": "execute_result"
    }
   ],
   "source": [
    "df = pd.DataFrame(train.TARGET.value_counts())\n",
    "df['Percentage'] = 100*df[0]/train.shape[0]\n",
    "\n",
    "print \"The percentages of each class:\"\n",
    "df"
   ]
  },
  {
   "cell_type": "markdown",
   "metadata": {},
   "source": [
    "## Comment:\n",
    "There is about 96% of the customer base belong to the satisfied customers class .. while the rest (about 4%) belong to the unsatisfied ones .."
   ]
  },
  {
   "cell_type": "markdown",
   "metadata": {},
   "source": [
    "### The sparsity of the rows .. \n",
    "The file contains lots of zeros .. In fact, I don't know whether these zeros are the real values for its corresponding veriable or they represent missing values .. !! \n",
    "\n",
    "That's why counting the number of zeros in each row may be benificial in the analysis later on .."
   ]
  },
  {
   "cell_type": "code",
   "execution_count": 116,
   "metadata": {
    "collapsed": false,
    "scrolled": false
   },
   "outputs": [
    {
     "name": "stdout",
     "output_type": "stream",
     "text": [
      "Row Vs count of their zeros ..\n"
     ]
    },
    {
     "data": {
      "text/plain": [
       "0     355\n",
       "1     329\n",
       "2     340\n",
       "3     309\n",
       "4     319\n",
       "5     355\n",
       "6     340\n",
       "7     341\n",
       "8     355\n",
       "9     346\n",
       "10    321\n",
       "11    355\n",
       "12    336\n",
       "13    313\n",
       "14    275\n",
       "...\n",
       "76005    318\n",
       "76006    295\n",
       "76007    355\n",
       "76008    338\n",
       "76009    308\n",
       "76010    355\n",
       "76011    286\n",
       "76012    316\n",
       "76013    310\n",
       "76014    300\n",
       "76015    355\n",
       "76016    324\n",
       "76017    341\n",
       "76018    340\n",
       "76019    355\n",
       "Name: n0, Length: 76020, dtype: int64"
      ]
     },
     "execution_count": 116,
     "metadata": {},
     "output_type": "execute_result"
    }
   ],
   "source": [
    "print \"Row Vs count of their zeros ..\"\n",
    "X = train.iloc[:,:-1]\n",
    "\n",
    "X['n0'] = (X==0).sum(axis=1)\n",
    "train['n0'] = X['n0']\n",
    "train['n0']"
   ]
  },
  {
   "cell_type": "markdown",
   "metadata": {},
   "source": [
    "## - Checking the duplicates .. \n",
    "This file may contian duplicate records for the same customer .. \n",
    "To check this .. we gonna check the number of rows in the file before and after writting the code for removing duplicates .. "
   ]
  },
  {
   "cell_type": "code",
   "execution_count": 117,
   "metadata": {
    "collapsed": true
   },
   "outputs": [],
   "source": [
    "with open('train.csv','r') as in_file, open('train_no_duplicates.csv','w') as out_file:\n",
    "    seen = set() # set for fast O(1) amortized lookup\n",
    "    for line in in_file:\n",
    "        if line in seen: continue # skip duplicate\n",
    "\n",
    "        seen.add(line)\n",
    "        out_file.write(line)"
   ]
  },
  {
   "cell_type": "markdown",
   "metadata": {},
   "source": [
    "### Reading the new file (Duplicates removed) .. "
   ]
  },
  {
   "cell_type": "code",
   "execution_count": 13,
   "metadata": {
    "collapsed": true
   },
   "outputs": [],
   "source": [
    "train = pd.read_csv(\"train_no_duplicates.csv\")"
   ]
  },
  {
   "cell_type": "code",
   "execution_count": 14,
   "metadata": {
    "collapsed": false
   },
   "outputs": [
    {
     "data": {
      "text/plain": [
       "(76020, 371)"
      ]
     },
     "execution_count": 14,
     "metadata": {},
     "output_type": "execute_result"
    }
   ],
   "source": [
    "np.shape(train)"
   ]
  },
  {
   "cell_type": "markdown",
   "metadata": {},
   "source": [
    "### Comment:\n",
    "Same number of rows .. then no duplicates in this data .. !"
   ]
  },
  {
   "cell_type": "markdown",
   "metadata": {},
   "source": [
    "# 1. Data Exploration Phase .. "
   ]
  },
  {
   "cell_type": "markdown",
   "metadata": {},
   "source": [
    "- As the challenge contains huge number of features (about 369).. it'll be diffecult to perform statistical analysis over all of them .. hence we gonna select some features that are proved by other compitators in the challenge that they are significant and effective .. \n",
    "\n",
    "- We mainly gonna focus on the non_sparse variables .. to obtain understandable, actionable and useful insights from .. "
   ]
  },
  {
   "cell_type": "markdown",
   "metadata": {},
   "source": [
    "# - Var38 .."
   ]
  },
  {
   "cell_type": "markdown",
   "metadata": {},
   "source": [
    "According to https://www.kaggle.com/cast42/santander-customer-satisfaction/xgboost-with-early-stopping/code var38 has an importance in determining the level of satisfaction of the customers .. hence, it's important to check some statistical analysis related to this variable .."
   ]
  },
  {
   "cell_type": "code",
   "execution_count": 125,
   "metadata": {
    "collapsed": false
   },
   "outputs": [
    {
     "name": "stderr",
     "output_type": "stream",
     "text": [
      "/usr/lib/python2.7/dist-packages/pandas/core/common.py:276: DeprecationWarning: numpy boolean negative, the `-` operator, is deprecated, use the `~` operator or the logical_not function instead.\n",
      "  return -res\n",
      "/usr/lib/python2.7/dist-packages/pandas/core/common.py:276: DeprecationWarning: numpy boolean negative, the `-` operator, is deprecated, use the `~` operator or the logical_not function instead.\n",
      "  return -res\n",
      "/usr/lib/python2.7/dist-packages/pandas/core/common.py:276: DeprecationWarning: numpy boolean negative, the `-` operator, is deprecated, use the `~` operator or the logical_not function instead.\n",
      "  return -res\n",
      "/usr/lib/python2.7/dist-packages/pandas/core/common.py:276: DeprecationWarning: numpy boolean negative, the `-` operator, is deprecated, use the `~` operator or the logical_not function instead.\n",
      "  return -res\n"
     ]
    },
    {
     "data": {
      "text/plain": [
       "count       76020.000000\n",
       "mean       117235.809430\n",
       "std        182664.598503\n",
       "min          5163.750000\n",
       "25%         67870.612500\n",
       "50%        106409.160000\n",
       "75%        118756.252500\n",
       "max      22034738.760000\n",
       "Name: var38, dtype: float64"
      ]
     },
     "execution_count": 125,
     "metadata": {},
     "output_type": "execute_result"
    }
   ],
   "source": [
    "train.var38.describe()"
   ]
  },
  {
   "cell_type": "markdown",
   "metadata": {},
   "source": [
    "Let's check how this variable changes when the customers are unhappy .. "
   ]
  },
  {
   "cell_type": "code",
   "execution_count": 124,
   "metadata": {
    "collapsed": false
   },
   "outputs": [
    {
     "name": "stderr",
     "output_type": "stream",
     "text": [
      "/usr/lib/python2.7/dist-packages/pandas/core/common.py:276: DeprecationWarning: numpy boolean negative, the `-` operator, is deprecated, use the `~` operator or the logical_not function instead.\n",
      "  return -res\n",
      "/usr/lib/python2.7/dist-packages/pandas/core/common.py:276: DeprecationWarning: numpy boolean negative, the `-` operator, is deprecated, use the `~` operator or the logical_not function instead.\n",
      "  return -res\n",
      "/usr/lib/python2.7/dist-packages/pandas/core/common.py:276: DeprecationWarning: numpy boolean negative, the `-` operator, is deprecated, use the `~` operator or the logical_not function instead.\n",
      "  return -res\n",
      "/usr/lib/python2.7/dist-packages/pandas/core/common.py:276: DeprecationWarning: numpy boolean negative, the `-` operator, is deprecated, use the `~` operator or the logical_not function instead.\n",
      "  return -res\n"
     ]
    },
    {
     "data": {
      "text/plain": [
       "count       3008.000000\n",
       "mean       99678.280590\n",
       "std       106309.811490\n",
       "min        11136.630000\n",
       "25%        57160.942500\n",
       "50%        86219.970000\n",
       "75%       117310.979016\n",
       "max      3988595.100000\n",
       "Name: var38, dtype: float64"
      ]
     },
     "execution_count": 124,
     "metadata": {},
     "output_type": "execute_result"
    }
   ],
   "source": [
    "train.loc[train['TARGET']==1, 'var38'].describe()"
   ]
  },
  {
   "cell_type": "markdown",
   "metadata": {},
   "source": [
    "What about its values when the customers are happy .."
   ]
  },
  {
   "cell_type": "code",
   "execution_count": 18,
   "metadata": {
    "collapsed": false
   },
   "outputs": [
    {
     "name": "stderr",
     "output_type": "stream",
     "text": [
      "/usr/lib/python2.7/dist-packages/pandas/core/common.py:276: DeprecationWarning: numpy boolean negative, the `-` operator, is deprecated, use the `~` operator or the logical_not function instead.\n",
      "  return -res\n",
      "/usr/lib/python2.7/dist-packages/pandas/core/common.py:276: DeprecationWarning: numpy boolean negative, the `-` operator, is deprecated, use the `~` operator or the logical_not function instead.\n",
      "  return -res\n",
      "/usr/lib/python2.7/dist-packages/pandas/core/common.py:276: DeprecationWarning: numpy boolean negative, the `-` operator, is deprecated, use the `~` operator or the logical_not function instead.\n",
      "  return -res\n",
      "/usr/lib/python2.7/dist-packages/pandas/core/common.py:276: DeprecationWarning: numpy boolean negative, the `-` operator, is deprecated, use the `~` operator or the logical_not function instead.\n",
      "  return -res\n"
     ]
    },
    {
     "data": {
      "text/plain": [
       "count       73012.000000\n",
       "mean       117959.156918\n",
       "std        185100.867998\n",
       "min          5163.750000\n",
       "25%         68432.737500\n",
       "50%        107207.820000\n",
       "75%        119742.270000\n",
       "max      22034738.760000\n",
       "Name: var38, dtype: float64"
      ]
     },
     "execution_count": 18,
     "metadata": {},
     "output_type": "execute_result"
    }
   ],
   "source": [
    "train.loc[train['TARGET']==0, 'var38'].describe()"
   ]
  },
  {
   "cell_type": "markdown",
   "metadata": {},
   "source": [
    "## Comment:\n",
    "It's obvious that the mean and standard deviation of the variable when the customers are satisfied are higher than when they are unsatisfied .. "
   ]
  },
  {
   "cell_type": "markdown",
   "metadata": {},
   "source": [
    "## Graphical Representation .. \n",
    "### Histogram .. "
   ]
  },
  {
   "cell_type": "code",
   "execution_count": 19,
   "metadata": {
    "collapsed": false
   },
   "outputs": [
    {
     "name": "stderr",
     "output_type": "stream",
     "text": [
      "/usr/lib/python2.7/dist-packages/pandas/core/common.py:276: DeprecationWarning: numpy boolean negative, the `-` operator, is deprecated, use the `~` operator or the logical_not function instead.\n",
      "  return -res\n"
     ]
    },
    {
     "data": {
      "text/plain": [
       "<matplotlib.text.Text at 0x7f06d35f9850>"
      ]
     },
     "execution_count": 19,
     "metadata": {},
     "output_type": "execute_result"
    },
    {
     "data": {
      "image/png": "[encoded data removed]",
      "text/plain": [
       "<matplotlib.figure.Figure at 0x7f06d356a890>"
      ]
     },
     "metadata": {},
     "output_type": "display_data"
    }
   ],
   "source": [
    "train.var38.hist(bins=110)\n",
    "plt.xlabel(\"Log values\")\n",
    "plt.ylabel(\"Frequancy\")"
   ]
  },
  {
   "cell_type": "code",
   "execution_count": 20,
   "metadata": {
    "collapsed": false
   },
   "outputs": [
    {
     "name": "stdout",
     "output_type": "stream",
     "text": [
      "('Variable data:', '\\n')\n"
     ]
    },
    {
     "data": {
      "text/plain": [
       "<bound method Series.nonzero of 0      39205.170000\n",
       "1      49278.030000\n",
       "2      67333.770000\n",
       "3      64007.970000\n",
       "4     117310.979016\n",
       "5      87975.750000\n",
       "6      94956.660000\n",
       "7     251638.950000\n",
       "8     101962.020000\n",
       "9     356463.060000\n",
       "10    125424.060000\n",
       "11     75368.520000\n",
       "12    122220.090000\n",
       "13    118436.970000\n",
       "14     95294.130000\n",
       "...\n",
       "76005     64250.460000\n",
       "76006    117310.979016\n",
       "76007     83667.150000\n",
       "76008     73056.000000\n",
       "76009    176712.420000\n",
       "76010    165616.320000\n",
       "76011    128887.380000\n",
       "76012    117310.979016\n",
       "76013     31405.080000\n",
       "76014     90214.170000\n",
       "76015     60926.490000\n",
       "76016    118634.520000\n",
       "76017     74028.150000\n",
       "76018     84278.160000\n",
       "76019    117310.979016\n",
       "Name: var38, Length: 76020, dtype: float64>"
      ]
     },
     "execution_count": 20,
     "metadata": {},
     "output_type": "execute_result"
    }
   ],
   "source": [
    "print (\"Variable data:\", '\\n')\n",
    "train.var38.nonzero"
   ]
  },
  {
   "cell_type": "markdown",
   "metadata": {},
   "source": [
    "## Comment: \n",
    "- Are the variable contains no zeros, as its nonzero elements length equals to the length of the whole dataset .. \n",
    "\n",
    "- However, the histogram representation is a little bit unclear and skewness is abviously seen .. this might be becuase it's drawn on large scale for the x-axis (10^7) where most of the data points have small values ..\n",
    "\n",
    "- The skewness of this variable could be reduced if we look at from a different prespective .. i.e. taking the log for its elements .. \n"
   ]
  },
  {
   "cell_type": "code",
   "execution_count": 21,
   "metadata": {
    "collapsed": false
   },
   "outputs": [
    {
     "name": "stderr",
     "output_type": "stream",
     "text": [
      "/usr/lib/python2.7/dist-packages/pandas/core/common.py:276: DeprecationWarning: numpy boolean negative, the `-` operator, is deprecated, use the `~` operator or the logical_not function instead.\n",
      "  return -res\n"
     ]
    },
    {
     "data": {
      "text/plain": [
       "<matplotlib.text.Text at 0x7f06d3357490>"
      ]
     },
     "execution_count": 21,
     "metadata": {},
     "output_type": "execute_result"
    },
    {
     "data": {
      "image/png": "[encoded data removed]",
      "text/plain": [
       "<matplotlib.figure.Figure at 0x7f06d32bd610>"
      ]
     },
     "metadata": {},
     "output_type": "display_data"
    }
   ],
   "source": [
    "train.var38.map(np.log).hist(bins=110)\n",
    "plt.xlabel(\"Log values\")\n",
    "plt.ylabel(\"Frequancy\")"
   ]
  },
  {
   "cell_type": "markdown",
   "metadata": {},
   "source": [
    "## Comment:\n",
    "- Skewness is elemented and a normal shape is appeared .. \n",
    "\n",
    "- There is a value that repeated frequanctly than the other data points .. this is obviously seen from the histogram .. \n",
    "\n",
    "- What is this frequantly occured value and what if it's removed ?!!"
   ]
  },
  {
   "cell_type": "code",
   "execution_count": 22,
   "metadata": {
    "collapsed": false
   },
   "outputs": [
    {
     "name": "stderr",
     "output_type": "stream",
     "text": [
      "/usr/lib/python2.7/dist-packages/pandas/core/series.py:1807: DeprecationWarning: numpy boolean negative, the `-` operator, is deprecated, use the `~` operator or the logical_not function instead.\n",
      "  good = -bad\n"
     ]
    },
    {
     "data": {
      "text/plain": [
       "117310.979016    14868\n",
       "451931.220000       16\n",
       "463625.160000       12\n",
       "104563.800000       11\n",
       "288997.440000       11\n",
       "236690.340000        8\n",
       "128318.520000        7\n",
       "125722.440000        7\n",
       "104644.410000        7\n",
       "329603.970000        7\n",
       "67088.310000         7\n",
       "105260.880000        6\n",
       "100466.730000        6\n",
       "163432.470000        6\n",
       "70813.800000         6\n",
       "...\n",
       "604016.37    1\n",
       "35197.68     1\n",
       "125830.26    1\n",
       "81818.31     1\n",
       "68795.01     1\n",
       "38363.13     1\n",
       "271915.29    1\n",
       "152038.59    1\n",
       "80511.42     1\n",
       "169035.57    1\n",
       "145910.37    1\n",
       "317976.42    1\n",
       "125150.46    1\n",
       "46617.09     1\n",
       "19546.50     1\n",
       "Length: 57736, dtype: int64"
      ]
     },
     "execution_count": 22,
     "metadata": {},
     "output_type": "execute_result"
    }
   ],
   "source": [
    "train.var38.value_counts()"
   ]
  },
  {
   "cell_type": "markdown",
   "metadata": {},
   "source": [
    "## Comment: \n",
    "The most frequant value is \"117310.979016\" that occurs \"14868\" times .. "
   ]
  },
  {
   "cell_type": "code",
   "execution_count": 23,
   "metadata": {
    "collapsed": false
   },
   "outputs": [
    {
     "name": "stderr",
     "output_type": "stream",
     "text": [
      "/usr/lib/python2.7/dist-packages/pandas/core/common.py:276: DeprecationWarning: numpy boolean negative, the `-` operator, is deprecated, use the `~` operator or the logical_not function instead.\n",
      "  return -res\n"
     ]
    },
    {
     "data": {
      "text/plain": [
       "<matplotlib.axes.AxesSubplot at 0x7f06d2ebef10>"
      ]
     },
     "execution_count": 23,
     "metadata": {},
     "output_type": "execute_result"
    },
    {
     "data": {
      "image/png": "[encoded data removed]",
      "text/plain": [
       "<matplotlib.figure.Figure at 0x7f06d351b610>"
      ]
     },
     "metadata": {},
     "output_type": "display_data"
    }
   ],
   "source": [
    "train.loc[~np.isclose(train.var38, 117310.979016), 'var38'].map(np.log).hist(bins=100)"
   ]
  },
  {
   "cell_type": "markdown",
   "metadata": {},
   "source": [
    "## Comment:\n",
    "Removing the most frequant value has significant effect on normlizing the shape of the histogram .. "
   ]
  },
  {
   "cell_type": "markdown",
   "metadata": {},
   "source": [
    "# - Var15 \n",
    "\n",
    "- This is one of the most significant variables as proved in https://www.kaggle.com/c/santander-customer-satisfaction/forums/t/19291/data-dictionary/110414#post110414\n",
    "\n"
   ]
  },
  {
   "cell_type": "code",
   "execution_count": 24,
   "metadata": {
    "collapsed": false
   },
   "outputs": [
    {
     "name": "stdout",
     "output_type": "stream",
     "text": [
      "Statistical Analysis for Var15:  \n",
      "\n"
     ]
    },
    {
     "name": "stderr",
     "output_type": "stream",
     "text": [
      "/usr/lib/python2.7/dist-packages/pandas/core/common.py:276: DeprecationWarning: numpy boolean negative, the `-` operator, is deprecated, use the `~` operator or the logical_not function instead.\n",
      "  return -res\n",
      "/usr/lib/python2.7/dist-packages/pandas/core/common.py:276: DeprecationWarning: numpy boolean negative, the `-` operator, is deprecated, use the `~` operator or the logical_not function instead.\n",
      "  return -res\n",
      "/usr/lib/python2.7/dist-packages/pandas/core/common.py:276: DeprecationWarning: numpy boolean negative, the `-` operator, is deprecated, use the `~` operator or the logical_not function instead.\n",
      "  return -res\n",
      "/usr/lib/python2.7/dist-packages/pandas/core/common.py:276: DeprecationWarning: numpy boolean negative, the `-` operator, is deprecated, use the `~` operator or the logical_not function instead.\n",
      "  return -res\n"
     ]
    },
    {
     "data": {
      "text/plain": [
       "count    76020.000000\n",
       "mean        33.212865\n",
       "std         12.956486\n",
       "min          5.000000\n",
       "25%         23.000000\n",
       "50%         28.000000\n",
       "75%         40.000000\n",
       "max        105.000000\n",
       "Name: var15, dtype: float64"
      ]
     },
     "execution_count": 24,
     "metadata": {},
     "output_type": "execute_result"
    }
   ],
   "source": [
    "print \"Statistical Analysis for Var15: \", '\\n'\n",
    "train['var15'].describe() "
   ]
  },
  {
   "cell_type": "code",
   "execution_count": 25,
   "metadata": {
    "collapsed": false
   },
   "outputs": [
    {
     "name": "stdout",
     "output_type": "stream",
     "text": [
      "Histogram .. \n",
      "\n"
     ]
    },
    {
     "name": "stderr",
     "output_type": "stream",
     "text": [
      "/usr/lib/python2.7/dist-packages/pandas/core/common.py:276: DeprecationWarning: numpy boolean negative, the `-` operator, is deprecated, use the `~` operator or the logical_not function instead.\n",
      "  return -res\n"
     ]
    },
    {
     "data": {
      "text/plain": [
       "<matplotlib.axes.AxesSubplot at 0x7f06d2bd8bd0>"
      ]
     },
     "execution_count": 25,
     "metadata": {},
     "output_type": "execute_result"
    },
    {
     "data": {
      "image/png": "[encoded data removed]",
      "text/plain": [
       "<matplotlib.figure.Figure at 0x7f06d2be2090>"
      ]
     },
     "metadata": {},
     "output_type": "display_data"
    }
   ],
   "source": [
    "print \"Histogram ..\", '\\n'\n",
    "train['var15'].hist(bins=100)"
   ]
  },
  {
   "cell_type": "markdown",
   "metadata": {},
   "source": [
    "## Comment:\n",
    "- Skewed variable !! .. \n",
    "- Let's print the most frequant value and check the skewness when it is removed .. "
   ]
  },
  {
   "cell_type": "code",
   "execution_count": 26,
   "metadata": {
    "collapsed": false
   },
   "outputs": [
    {
     "name": "stderr",
     "output_type": "stream",
     "text": [
      "/usr/lib/python2.7/dist-packages/pandas/core/series.py:1807: DeprecationWarning: numpy boolean negative, the `-` operator, is deprecated, use the `~` operator or the logical_not function instead.\n",
      "  good = -bad\n"
     ]
    },
    {
     "data": {
      "text/plain": [
       "23    20170\n",
       "24     6232\n",
       "25     4217\n",
       "26     3270\n",
       "27     2861\n",
       "28     2173\n",
       "31     1798\n",
       "29     1727\n",
       "30     1640\n",
       "32     1592\n",
       "36     1546\n",
       "35     1536\n",
       "34     1489\n",
       "37     1401\n",
       "38     1390\n",
       "...\n",
       "13     11\n",
       "12     11\n",
       "20      9\n",
       "8       9\n",
       "96      7\n",
       "7       6\n",
       "95      6\n",
       "99      6\n",
       "100     6\n",
       "102     4\n",
       "97      3\n",
       "104     2\n",
       "98      1\n",
       "105     1\n",
       "101     1\n",
       "Length: 100, dtype: int64"
      ]
     },
     "execution_count": 26,
     "metadata": {},
     "output_type": "execute_result"
    }
   ],
   "source": [
    "train.var15.value_counts()"
   ]
  },
  {
   "cell_type": "markdown",
   "metadata": {},
   "source": [
    "## Comment:\n",
    "The most frequant value is 23 that occurs 20170 times .. "
   ]
  },
  {
   "cell_type": "code",
   "execution_count": 27,
   "metadata": {
    "collapsed": false
   },
   "outputs": [
    {
     "name": "stderr",
     "output_type": "stream",
     "text": [
      "/usr/lib/python2.7/dist-packages/pandas/core/common.py:276: DeprecationWarning: numpy boolean negative, the `-` operator, is deprecated, use the `~` operator or the logical_not function instead.\n",
      "  return -res\n"
     ]
    },
    {
     "data": {
      "text/plain": [
       "<matplotlib.axes.AxesSubplot at 0x7f06d2b0e750>"
      ]
     },
     "execution_count": 27,
     "metadata": {},
     "output_type": "execute_result"
    },
    {
     "data": {
      "image/png": "[encoded data removed]",
      "text/plain": [
       "<matplotlib.figure.Figure at 0x7f06d2bd8d50>"
      ]
     },
     "metadata": {},
     "output_type": "display_data"
    }
   ],
   "source": [
    "train.loc[~np.isclose(train.var15, 23), 'var15'].hist(bins=100)"
   ]
  },
  {
   "cell_type": "markdown",
   "metadata": {},
   "source": [
    "## Comment:\n",
    "- The skewness is still there !! .. \n",
    "- What about taking the log for this variable to shrick the gaps between its values .. "
   ]
  },
  {
   "cell_type": "code",
   "execution_count": 28,
   "metadata": {
    "collapsed": false
   },
   "outputs": [
    {
     "name": "stderr",
     "output_type": "stream",
     "text": [
      "/usr/lib/python2.7/dist-packages/pandas/core/common.py:276: DeprecationWarning: numpy boolean negative, the `-` operator, is deprecated, use the `~` operator or the logical_not function instead.\n",
      "  return -res\n"
     ]
    },
    {
     "data": {
      "text/plain": [
       "<matplotlib.text.Text at 0x7f06d26c7890>"
      ]
     },
     "execution_count": 28,
     "metadata": {},
     "output_type": "execute_result"
    },
    {
     "data": {
      "image/png": "[encoded data removed]",
      "text/plain": [
       "<matplotlib.figure.Figure at 0x7f06d26291d0>"
      ]
     },
     "metadata": {},
     "output_type": "display_data"
    }
   ],
   "source": [
    "train.var15.map(np.log).hist(bins=110)\n",
    "plt.xlabel(\"Log values\")\n",
    "plt.ylabel(\"Frequancy\")"
   ]
  },
  {
   "cell_type": "code",
   "execution_count": 29,
   "metadata": {
    "collapsed": false
   },
   "outputs": [
    {
     "name": "stderr",
     "output_type": "stream",
     "text": [
      "/usr/lib/python2.7/dist-packages/pandas/core/common.py:276: DeprecationWarning: numpy boolean negative, the `-` operator, is deprecated, use the `~` operator or the logical_not function instead.\n",
      "  return -res\n"
     ]
    },
    {
     "data": {
      "text/plain": [
       "<matplotlib.axes.AxesSubplot at 0x7f06d25a87d0>"
      ]
     },
     "execution_count": 29,
     "metadata": {},
     "output_type": "execute_result"
    },
    {
     "data": {
      "image/png": "[encoded data removed]",
      "text/plain": [
       "<matplotlib.figure.Figure at 0x7f06d2ed2610>"
      ]
     },
     "metadata": {},
     "output_type": "display_data"
    }
   ],
   "source": [
    "train.loc[~np.isclose(train.var15, 23), 'var15'].map(np.log).hist(bins=100)"
   ]
  },
  {
   "cell_type": "markdown",
   "metadata": {},
   "source": [
    "## Comment:\n",
    "The skewness is still there, but the gaps between these data points are somehow minimized ! "
   ]
  },
  {
   "cell_type": "markdown",
   "metadata": {},
   "source": [
    "# Var36 .."
   ]
  },
  {
   "cell_type": "code",
   "execution_count": 30,
   "metadata": {
    "collapsed": false
   },
   "outputs": [
    {
     "name": "stdout",
     "output_type": "stream",
     "text": [
      "Statistical Analysis for Var36:  \n",
      "\n"
     ]
    },
    {
     "name": "stderr",
     "output_type": "stream",
     "text": [
      "/usr/lib/python2.7/dist-packages/pandas/core/common.py:276: DeprecationWarning: numpy boolean negative, the `-` operator, is deprecated, use the `~` operator or the logical_not function instead.\n",
      "  return -res\n",
      "/usr/lib/python2.7/dist-packages/pandas/core/common.py:276: DeprecationWarning: numpy boolean negative, the `-` operator, is deprecated, use the `~` operator or the logical_not function instead.\n",
      "  return -res\n",
      "/usr/lib/python2.7/dist-packages/pandas/core/common.py:276: DeprecationWarning: numpy boolean negative, the `-` operator, is deprecated, use the `~` operator or the logical_not function instead.\n",
      "  return -res\n",
      "/usr/lib/python2.7/dist-packages/pandas/core/common.py:276: DeprecationWarning: numpy boolean negative, the `-` operator, is deprecated, use the `~` operator or the logical_not function instead.\n",
      "  return -res\n"
     ]
    },
    {
     "data": {
      "text/plain": [
       "count    76020.000000\n",
       "mean        40.449079\n",
       "std         47.362719\n",
       "min          0.000000\n",
       "25%          2.000000\n",
       "50%          3.000000\n",
       "75%         99.000000\n",
       "max         99.000000\n",
       "Name: var36, dtype: float64"
      ]
     },
     "execution_count": 30,
     "metadata": {},
     "output_type": "execute_result"
    }
   ],
   "source": [
    "print \"Statistical Analysis for Var36: \", '\\n'\n",
    "train['var36'].describe() "
   ]
  },
  {
   "cell_type": "code",
   "execution_count": 31,
   "metadata": {
    "collapsed": false
   },
   "outputs": [
    {
     "name": "stdout",
     "output_type": "stream",
     "text": [
      "Histogram .. \n",
      "\n"
     ]
    },
    {
     "name": "stderr",
     "output_type": "stream",
     "text": [
      "/usr/lib/python2.7/dist-packages/pandas/core/common.py:276: DeprecationWarning: numpy boolean negative, the `-` operator, is deprecated, use the `~` operator or the logical_not function instead.\n",
      "  return -res\n"
     ]
    },
    {
     "data": {
      "text/plain": [
       "<matplotlib.axes.AxesSubplot at 0x7f06d1fbd7d0>"
      ]
     },
     "execution_count": 31,
     "metadata": {},
     "output_type": "execute_result"
    },
    {
     "data": {
      "image/png": "[encoded data removed]",
      "text/plain": [
       "<matplotlib.figure.Figure at 0x7f06d1fd04d0>"
      ]
     },
     "metadata": {},
     "output_type": "display_data"
    }
   ],
   "source": [
    "print \"Histogram ..\", '\\n'\n",
    "train['var36'].hist(bins=100)"
   ]
  },
  {
   "cell_type": "markdown",
   "metadata": {},
   "source": [
    "## Comment:\n",
    "- The huge gap between the data points (either very small like 1or 2 or very large like 99) .. causes the histogram to be as resulted .. \n",
    "\n",
    "- Taking the log is not allowed here becuase of this huge difference .. \n",
    "\n",
    "- Thus, what about looking to the variable from another prespective with respect to the target variable ?!"
   ]
  },
  {
   "cell_type": "code",
   "execution_count": 32,
   "metadata": {
    "collapsed": false
   },
   "outputs": [
    {
     "name": "stderr",
     "output_type": "stream",
     "text": [
      "/usr/lib/python2.7/dist-packages/pandas/core/common.py:276: DeprecationWarning: numpy boolean negative, the `-` operator, is deprecated, use the `~` operator or the logical_not function instead.\n",
      "  return -res\n",
      "/usr/lib/python2.7/dist-packages/pandas/core/common.py:276: DeprecationWarning: numpy boolean negative, the `-` operator, is deprecated, use the `~` operator or the logical_not function instead.\n",
      "  return -res\n",
      "/usr/lib/python2.7/dist-packages/pandas/core/common.py:276: DeprecationWarning: numpy boolean negative, the `-` operator, is deprecated, use the `~` operator or the logical_not function instead.\n",
      "  return -res\n",
      "/usr/lib/python2.7/dist-packages/pandas/core/common.py:276: DeprecationWarning: numpy boolean negative, the `-` operator, is deprecated, use the `~` operator or the logical_not function instead.\n",
      "  return -res\n"
     ]
    },
    {
     "data": {
      "text/plain": [
       "array([<matplotlib.axes.AxesSubplot object at 0x7f06d2beb550>,\n",
       "       <matplotlib.axes.AxesSubplot object at 0x7f06d1c48250>], dtype=object)"
      ]
     },
     "execution_count": 32,
     "metadata": {},
     "output_type": "execute_result"
    },
    {
     "data": {
      "image/png": "[encoded data removed]",
      "text/plain": [
       "<matplotlib.figure.Figure at 0x7f06d1f9b790>"
      ]
     },
     "metadata": {},
     "output_type": "display_data"
    }
   ],
   "source": [
    "train[['var15','var36','TARGET']].boxplot(by=\"TARGET\", figsize=(12, 6))"
   ]
  },
  {
   "cell_type": "markdown",
   "metadata": {},
   "source": [
    "## Comment:\n",
    "- The plot is made for another variable as well to be able to figure out the difference and hence, more understanding will be obtained .. \n",
    "\n",
    "- The boxplot already confirms the huge difference between the data points related to var36 compared to the almost balanced var15"
   ]
  },
  {
   "cell_type": "markdown",
   "metadata": {},
   "source": [
    "## Correlation:\n",
    "What is the correlation between these significant variables ?!"
   ]
  },
  {
   "cell_type": "code",
   "execution_count": 33,
   "metadata": {
    "collapsed": false
   },
   "outputs": [
    {
     "name": "stdout",
     "output_type": "stream",
     "text": [
      "Correlation between Var36, Var38: \n",
      "\n"
     ]
    },
    {
     "data": {
      "text/plain": [
       "array([[ 1.        ,  0.02174471],\n",
       "       [ 0.02174471,  1.        ]])"
      ]
     },
     "execution_count": 33,
     "metadata": {},
     "output_type": "execute_result"
    }
   ],
   "source": [
    "print \"Correlation between Var36, Var38:\", '\\n'\n",
    "np.corrcoef(train['var36'], train['var38'])"
   ]
  },
  {
   "cell_type": "code",
   "execution_count": 34,
   "metadata": {
    "collapsed": false
   },
   "outputs": [
    {
     "name": "stdout",
     "output_type": "stream",
     "text": [
      "Correlation between Var36, Var15: \n",
      "\n"
     ]
    },
    {
     "data": {
      "text/plain": [
       "array([[ 1.        , -0.14534212],\n",
       "       [-0.14534212,  1.        ]])"
      ]
     },
     "execution_count": 34,
     "metadata": {},
     "output_type": "execute_result"
    }
   ],
   "source": [
    "print \"Correlation between Var36, Var15:\", '\\n'\n",
    "np.corrcoef(train['var36'], train['var15'])"
   ]
  },
  {
   "cell_type": "code",
   "execution_count": 35,
   "metadata": {
    "collapsed": false
   },
   "outputs": [
    {
     "name": "stdout",
     "output_type": "stream",
     "text": [
      "Correlation between Var38, Var15: \n",
      "\n"
     ]
    },
    {
     "data": {
      "text/plain": [
       "array([[ 1.        ,  0.00649659],\n",
       "       [ 0.00649659,  1.        ]])"
      ]
     },
     "execution_count": 35,
     "metadata": {},
     "output_type": "execute_result"
    }
   ],
   "source": [
    "print \"Correlation between Var38, Var15:\", '\\n'\n",
    "np.corrcoef(train['var38'], train['var15'])"
   ]
  },
  {
   "cell_type": "markdown",
   "metadata": {},
   "source": [
    "## Comment:\n",
    "- There is a weak linear relationship between Var15, Var36 .. and Var15, Var38 while there is stronger linear relationship between Var15, Var36 \n",
    "\n",
    "- A reverse relationship between Var15, Var36 which means whenever one of them increases, the other one decreases .. "
   ]
  },
  {
   "cell_type": "markdown",
   "metadata": {},
   "source": [
    "# 2. Feature Selection: \n",
    "\n",
    "Feature selection will be applied by PCA .. \n",
    "the more variance of the PC, the more rank it'll have !\n",
    "I gonna test on the most common number of PCs (10) .."
   ]
  },
  {
   "cell_type": "code",
   "execution_count": 36,
   "metadata": {
    "collapsed": false
   },
   "outputs": [
    {
     "name": "stdout",
     "output_type": "stream",
     "text": [
      "[ 0.61906992  0.15290912  0.07256307  0.06331558  0.03537318  0.02904103\n",
      "  0.00873734  0.00598033  0.00503617  0.00168048]\n"
     ]
    }
   ],
   "source": [
    "pca = PCA(n_components=10)\n",
    "pca.fit(X)\n",
    "PCA(copy=True, n_components=10, whiten=False)\n",
    "print(pca.explained_variance_ratio_) "
   ]
  },
  {
   "cell_type": "markdown",
   "metadata": {},
   "source": [
    "## - Comment: \n",
    "- It's obvious that only the 1st two principle components have the highest variance .. \n",
    "- then, this data may be represented using only two principles ! \n",
    "- These ouput numbers represent the eign values .. it indicates the level of variation of the data in each PC .. \n",
    "i.e. the 1st PC contains about 62% of the data  "
   ]
  },
  {
   "cell_type": "markdown",
   "metadata": {},
   "source": [
    "## Let's try to display this component that has the max. variance .. "
   ]
  },
  {
   "cell_type": "code",
   "execution_count": 37,
   "metadata": {
    "collapsed": false
   },
   "outputs": [
    {
     "name": "stdout",
     "output_type": "stream",
     "text": [
      "[  1.25513398e-07   1.08650106e-07   1.14136223e-09   1.65545141e-07\n",
      "  -1.60769913e-09  -4.13847619e-09   9.95983299e-11  -1.12821047e-11\n",
      "  -2.94097562e-11  -4.04064518e-11   1.04945566e-11  -1.70729746e-09\n",
      "  -4.12719409e-09  -2.86798021e-09  -5.29476528e-09  -4.59152873e-09\n",
      "  -2.89738997e-09  -5.33517173e-09  -4.58103417e-09  -3.39854278e-10\n",
      "   1.69569501e-12   3.08627054e-13   0.00000000e+00   0.00000000e+00\n",
      "  -9.40222225e-14  -5.08249472e-12  -7.09327301e-15  -1.87369950e-15\n",
      "   5.53294992e-13   8.54960613e-13   1.67947316e-11   4.33742855e-12\n",
      "   6.74565254e-11   5.14056958e-11   5.11944295e-11   1.83021448e-11\n",
      "   1.79214585e-11  -1.87369951e-15  -1.87369951e-15   6.74324664e-11\n",
      "   1.46974374e-11   3.32092724e-12   2.74727058e-13   1.06597695e-13\n",
      "  -1.87879956e-15  -1.87879956e-15   1.24341094e-12  -2.58570533e-13\n",
      "  -1.92054200e-13   2.58787808e-12   1.17857632e-12   4.37121049e-13\n",
      "   3.72641109e-13   3.56551970e-13   3.72641109e-13   4.43841690e-13\n",
      "   4.43841690e-13   0.00000000e+00   0.00000000e+00   0.00000000e+00\n",
      "   0.00000000e+00  -7.09327301e-15  -1.87369950e-15   3.20492920e-13\n",
      "   1.90116385e-11   3.27188578e-13   1.74656194e-13  -8.61901771e-14\n",
      "  -7.68216796e-14  -7.68216796e-14   1.39299960e-13  -4.41483030e-14\n",
      "  -1.87879958e-15  -1.87879958e-15  -1.28531344e-12  -1.36513658e-12\n",
      "  -1.36513658e-12   8.29938185e-12   1.69851321e-12   3.11445254e-13\n",
      "   8.21196739e-12   0.00000000e+00   3.11445254e-13   9.69434722e-14\n",
      "   1.06542838e-13   0.00000000e+00   0.00000000e+00   5.08145627e-12\n",
      "   9.23062964e-13   6.21376200e-11  -1.11248454e-12  -1.52189534e-11\n",
      "  -2.12798190e-14  -5.62109851e-15   1.65707443e-12   2.56488184e-12\n",
      "   5.09308464e-11   1.29106765e-11   2.28208000e-10   1.57647279e-10\n",
      "   1.53577667e-10   7.05663427e-11   6.60554120e-11  -5.62109852e-15\n",
      "  -5.62109852e-15   2.19627458e-10   4.39686480e-11   9.94591842e-12\n",
      "   4.42492461e-13   5.78483456e-14  -5.63639869e-15  -5.63639869e-15\n",
      "  -7.75711598e-13  -5.76162600e-13   7.73790996e-12   3.54092072e-12\n",
      "   1.61880139e-14   1.61880139e-14   3.16916784e-13   3.16916784e-13\n",
      "  -2.90462733e-13  -7.30742811e-14   8.61391069e-12   8.25037367e-12\n",
      "  -7.05555026e-11  -4.93242775e-12  -1.21140364e-10  -1.96628295e-10\n",
      "  -7.08459653e-11  -5.00550203e-12  -1.12526454e-10  -1.88377921e-10\n",
      "   0.00000000e+00   0.00000000e+00   0.00000000e+00   0.00000000e+00\n",
      "  -2.12798190e-14  -5.62109851e-15   2.79662157e-10   2.19878442e-10\n",
      "   1.13005745e-12   2.32355747e-13  -3.00728771e-13  -3.00728771e-13\n",
      "   3.99545117e-13  -1.45121112e-13  -5.63639873e-15  -5.63639873e-15\n",
      "   2.03466720e-10  -1.40036676e-12   8.18639074e-13   8.18639074e-13\n",
      "   3.11706696e-11   5.09272907e-12   9.34335761e-13   2.60422657e-11\n",
      "   0.00000000e+00   9.34335761e-13   5.14541565e-11   6.10734214e-13\n",
      "   2.88019867e-13   3.19628513e-13   0.00000000e+00   0.00000000e+00\n",
      "  -3.02181084e-09   3.69645540e-08  -2.95186367e-11   2.01585444e-08\n",
      "  -7.13124624e-08   6.48691732e-06   2.13236205e-06  -3.65371403e-11\n",
      "   8.61924283e-06   1.67357597e-08  -1.14555611e-08  -3.10001927e-09\n",
      "  -1.95137051e-09  -8.60968517e-08   3.72582384e-09   3.96411947e-09\n",
      "   0.00000000e+00   0.00000000e+00  -2.95186367e-11   8.60502395e-06\n",
      "  -1.58207470e-08  -2.38295623e-10  -8.88988026e-10  -4.79093892e-11\n",
      "  -2.90582156e-10   1.26117821e-10   0.00000000e+00  -1.42188826e-08\n",
      "  -3.47619790e-09   0.00000000e+00  -2.80952736e-09  -1.87879956e-05\n",
      "  -1.87879958e-05   7.06904740e-01   1.73783710e-03  -9.39399784e-06\n",
      "   1.65819476e-03   1.67289790e-02  -1.53687098e-04  -9.39399786e-06\n",
      "  -1.92303310e-05  -3.48032286e-05  -4.27178446e-05  -4.78001875e-06\n",
      "  -1.79025930e-04   7.06904740e-01   1.73783710e-03  -9.39399785e-06\n",
      "   1.65819476e-03   1.67289790e-02  -1.53687098e-04  -9.39399786e-06\n",
      "  -1.92303310e-05  -3.48032286e-05  -4.27178446e-05  -4.78001875e-06\n",
      "  -1.79025930e-04   0.00000000e+00  -1.65099699e-11   0.00000000e+00\n",
      "  -1.28910075e-12  -1.92521105e-07   8.38674801e-06  -7.04086275e-09\n",
      "  -7.35658190e-10  -2.12646157e-10  -3.42963512e-12  -1.93820088e-10\n",
      "   4.37975004e-07  -1.00505149e-09  -4.61918074e-09   0.00000000e+00\n",
      "   1.26927624e-07  -1.12676325e-11  -6.68313514e-10   0.00000000e+00\n",
      "  -1.12727974e-12   4.50131506e-07   4.55806285e-06  -1.33522562e-10\n",
      "  -9.54183363e-11   0.00000000e+00  -1.42223822e-10  -1.98685682e-10\n",
      "  -2.01498285e-11   0.00000000e+00  -1.43400563e-12  -2.69717309e-10\n",
      "  -3.49920962e-09  -2.81054928e-15   2.49530016e-12  -1.32040692e-12\n",
      "  -3.86401190e-13   1.01615616e-12   5.86805900e-14   7.68920006e-12\n",
      "   3.42762101e-11   7.18296642e-09   0.00000000e+00   0.00000000e+00\n",
      "  -5.16770284e-12   2.40643498e-10  -1.10112047e-13   4.41336791e-13\n",
      "  -7.58848302e-14  -2.24920443e-14  -8.43164783e-15   9.06396533e-12\n",
      "  -1.34428478e-13   2.97065568e-13   1.19936664e-11   2.42419395e-10\n",
      "   4.36703039e-11   2.69535351e-10   5.55625049e-10   1.49399291e-10\n",
      "   3.76792843e-10   2.22086694e-11   1.00573655e-12   4.18547245e-12\n",
      "   5.16759508e-11   1.12866454e-11  -3.74739901e-15   4.02603933e-15\n",
      "  -6.69174800e-15  -1.06059414e-13  -6.91937941e-12   1.82683310e-13\n",
      "  -8.31942406e-11  -1.56547803e-10   7.90945697e-12   4.08741623e-12\n",
      "  -1.77064604e-13  -2.61381082e-13  -9.11036976e-11  -1.60635219e-10\n",
      "  -2.86506342e-11  -3.99784755e-11  -2.88276989e-11  -4.02398566e-11\n",
      "   0.00000000e+00   5.01869369e-12  -2.81054926e-15  -6.55566192e-14\n",
      "   0.00000000e+00  -2.81819936e-15  -3.36405189e-13   3.56881448e-11\n",
      "   2.49597310e-10   2.40632841e-11  -8.43164777e-15  -5.76909930e-15\n",
      "   0.00000000e+00  -1.04409686e-14  -1.68632956e-14  -1.42493590e-14\n",
      "   0.00000000e+00  -1.43400563e-15  -1.12421970e-14  -1.93025755e-13\n",
      "   4.45105960e-10   7.10507717e-11   7.04076527e-10   1.22023326e-09\n",
      "   0.00000000e+00   1.54394834e-06   5.66217555e-08   1.30984484e-06\n",
      "   1.23150521e-06   6.42753693e-09  -6.72532828e-10   4.48097883e-08\n",
      "   3.88720132e-08  -1.70745035e-07  -4.20880411e-08  -1.28037095e-07\n",
      "  -4.91813279e-08  -1.09587752e-07  -3.69825431e-08   4.10898415e-06\n",
      "   4.01369273e-06   6.02335357e-08  -1.15256919e-08   6.75437788e-07\n",
      "   6.10295381e-07  -1.24864834e-11   0.00000000e+00  -3.65371403e-11\n",
      "  -2.45118400e-11  -6.45765198e-09  -2.59688305e-09  -8.33642293e-09\n",
      "  -6.85134366e-09  -1.32319147e-11  -1.36030585e-13  -1.72226580e-11\n",
      "  -1.18900060e-11  -5.64702946e-10  -9.72247684e-11  -8.66284218e-10\n",
      "  -6.23530312e-10  -1.45742492e-09  -1.34120149e-10  -2.85195169e-09\n",
      "  -2.06813455e-09   1.07943611e-06  -1.78510423e-09]\n"
     ]
    }
   ],
   "source": [
    "first_pc = pca.components_[0]\n",
    "second_pc = pca.components_[1]\n",
    "print first_pc"
   ]
  },
  {
   "cell_type": "code",
   "execution_count": 38,
   "metadata": {
    "collapsed": false
   },
   "outputs": [
    {
     "name": "stdout",
     "output_type": "stream",
     "text": [
      "The transformed data looks like :  \n",
      "[[ -6.90247887e+07  -1.54220893e+07   7.75921787e+06 ...,  -3.11853856e+04\n",
      "    3.31669881e+04   1.52940385e+02]\n",
      " [ -6.90247901e+07  -1.54220893e+07   7.75921786e+06 ...,  -3.11853794e+04\n",
      "    3.31670191e+04   1.52708512e+02]\n",
      " [ -6.90247887e+07  -1.54220893e+07   7.75921785e+06 ...,  -3.11853512e+04\n",
      "    3.31670710e+04   1.52293400e+02]\n",
      " ..., \n",
      " [ -6.90247887e+07  -1.54220893e+07   7.75921779e+06 ...,  -3.11854374e+04\n",
      "    3.31671662e+04   1.51859148e+02]\n",
      " [ -6.90247886e+07  -1.54220893e+07   7.75921778e+06 ...,  -3.11854248e+04\n",
      "    3.31671964e+04   1.51623388e+02]\n",
      " [ -6.90247886e+07  -1.54220892e+07   7.75921776e+06 ...,  -3.11853842e+04\n",
      "    3.31672936e+04   1.50863608e+02]]\n"
     ]
    }
   ],
   "source": [
    "transformed_data = pca.transform(X)  # contains the input features ..\n",
    "print \"The transformed data looks like : \", '\\n', transformed_data"
   ]
  },
  {
   "cell_type": "code",
   "execution_count": 40,
   "metadata": {
    "collapsed": false
   },
   "outputs": [
    {
     "data": {
      "image/png": "[encoded data removed]",
      "text/plain": [
       "<matplotlib.figure.Figure at 0x7f06d1aeb690>"
      ]
     },
     "metadata": {},
     "output_type": "display_data"
    }
   ],
   "source": [
    "for ii, jj in zip(transformed_data, X):\n",
    "    plt.scatter(first_pc[0]*ii[0], first_pc[1]*ii[0], color = \"r\")   \n",
    "    plt.scatter(second_pc[0]*ii[1], second_pc[1]*ii[1], color = \"c\")\n",
    "#     plt.scatter(jj[0],jj[1])"
   ]
  },
  {
   "cell_type": "markdown",
   "metadata": {},
   "source": [
    "## Comment:\n",
    "- This graph shows the direction of each of the principle components ..\n",
    "- It's obvious that they are perpendicular to each other .. \n",
    "- I wish I could plot the original features on the same plot, but it do give an error !"
   ]
  },
  {
   "cell_type": "markdown",
   "metadata": {},
   "source": [
    "## - Splitting data into training and validation .. \n",
    "\n",
    "(80, 20) Cross Validation will  be applied .. hence, 80% for training and 20% testing \n",
    "\n",
    "(50, 50) CV will also be applied and their results will be compared to check id the size of the data matters"
   ]
  },
  {
   "cell_type": "code",
   "execution_count": 41,
   "metadata": {
    "collapsed": false
   },
   "outputs": [],
   "source": [
    "indeces = np.arange(len(data))\n",
    "np.random.shuffle(indeces)\n",
    "data = data[indeces]\n",
    "training_data = data[0:int(0.7*len(data))]\n",
    "validation_data = data[int(0.7*len(data))+1:int(0.85*len(data))]\n",
    "test_data = data[int(0.85*len(data))+1:]"
   ]
  },
  {
   "cell_type": "markdown",
   "metadata": {},
   "source": [
    "The output of this split is .. "
   ]
  },
  {
   "cell_type": "code",
   "execution_count": 42,
   "metadata": {
    "collapsed": false
   },
   "outputs": [
    {
     "name": "stdout",
     "output_type": "stream",
     "text": [
      "training_data:  53214\n",
      "validation_data: 11402\n",
      "test_data:  11402\n"
     ]
    }
   ],
   "source": [
    "print \"training_data: \", len(training_data)\n",
    "print \"validation_data:\", len(validation_data)\n",
    "print \"test_data: \", len(test_data)"
   ]
  },
  {
   "cell_type": "markdown",
   "metadata": {},
   "source": [
    "## 3. Classification task ..\n",
    "\n",
    "- Goal: \n",
    "Classify the customers into (Satisfied \"0\", Unsatisfied \"1\") according to their corresponding indpendent variables values .. \n",
    "\n",
    "- Methods Used: \n",
    "    1. Logistic Regression \n",
    "    2. ANN\n",
    "    3. Decision Tree \"Random Forest\" "
   ]
  },
  {
   "cell_type": "markdown",
   "metadata": {},
   "source": [
    "## 1. Logistic Regression Classifier: "
   ]
  },
  {
   "cell_type": "code",
   "execution_count": 43,
   "metadata": {
    "collapsed": false
   },
   "outputs": [
    {
     "data": {
      "text/plain": [
       "'53214 training samples : validation accuracy = 0.960094720225, test accuracy = 0.960270128048'"
      ]
     },
     "metadata": {},
     "output_type": "display_data"
    }
   ],
   "source": [
    "logistic = LogisticRegression().fit(training_data[:,1:-1],training_data[:,-1])\n",
    "validation_error = logistic.score(validation_data[:,1:-1], validation_data[:,-1]) \n",
    "test_error = logistic.score(test_data[:,1:-1], test_data[:,-1]) #get_error(logistic)\n",
    "display(str.format(\"{} training samples : validation accuracy = {}, test accuracy = {}\",training_data.shape[0], validation_error, test_error))"
   ]
  },
  {
   "cell_type": "markdown",
   "metadata": {
    "collapsed": false
   },
   "source": [
    "## Comment:\n",
    "- This data contains skewed classes where most of the target outcome is 0 (~ 96%)\n",
    "- The classification accuracy for the validation set is (~ 96.1%) while it is (~ 96.4%) for the test set \n",
    "- So far we still need to evaluate the model differently (i.e. displying the confusion matrix, calculating Percision and recall) "
   ]
  },
  {
   "cell_type": "markdown",
   "metadata": {},
   "source": [
    "## Confusion Matrix .. "
   ]
  },
  {
   "cell_type": "code",
   "execution_count": 44,
   "metadata": {
    "collapsed": false
   },
   "outputs": [],
   "source": [
    "y_true = validation_data[:,-1]\n",
    "y_pred = logistic.predict(validation_data[:,1:-1])"
   ]
  },
  {
   "cell_type": "code",
   "execution_count": 45,
   "metadata": {
    "collapsed": false
   },
   "outputs": [
    {
     "name": "stdout",
     "output_type": "stream",
     "text": [
      "Confusion Matrix:  \n",
      "[[10947     0]\n",
      " [  455     0]]\n"
     ]
    },
    {
     "name": "stderr",
     "output_type": "stream",
     "text": [
      "/usr/local/lib/python2.7/dist-packages/numpy/core/fromnumeric.py:2645: VisibleDeprecationWarning: `rank` is deprecated; use the `ndim` attribute or function instead. To find the rank of a matrix see `numpy.linalg.matrix_rank`.\n",
      "  VisibleDeprecationWarning)\n"
     ]
    }
   ],
   "source": [
    "cm = confusion_matrix(y_true, y_pred)\n",
    "print \"Confusion Matrix: \", '\\n', cm"
   ]
  },
  {
   "cell_type": "markdown",
   "metadata": {},
   "source": [
    "## Comment:\n",
    "- The confusion matrix consists of two rows (represent the actual classes) and the two columns (represent the predicted classes) .. \n",
    "- By observing the results of the confusion matrix related to logistic regression model, we could notice that the classifier could correctly predict most of the unsatified customers but unfortunetly it couldn't predict any of the satosfied customers correctly ... \n",
    "- Yet, we still need to evaulate it using percision, recall calculations .."
   ]
  },
  {
   "cell_type": "markdown",
   "metadata": {},
   "source": [
    "## Calculating Precision / Recall\n",
    "### Percision: \n",
    "Is defined as the number of true positives over (the number of true positives plus the number of false positives)\n",
    "\n",
    "### Recall:\n",
    "Is defined as the number of true positives over (the number of true positives plus the number of false negatives)\n",
    "\n",
    "### F_score:\n",
    "It is the harmonic mean of precision and recall ..\n",
    "\n",
    "F1 = 2*[(P * R)/(P+R)]"
   ]
  },
  {
   "cell_type": "code",
   "execution_count": 46,
   "metadata": {
    "collapsed": false
   },
   "outputs": [
    {
     "data": {
      "text/plain": [
       "(0.0, 0.0, 0.0, 455)"
      ]
     },
     "execution_count": 46,
     "metadata": {},
     "output_type": "execute_result"
    }
   ],
   "source": [
    "precision_recall_fscore_support(y_true, y_pred, average='binary')"
   ]
  },
  {
   "cell_type": "markdown",
   "metadata": {},
   "source": [
    "## Comment: \n",
    "\n",
    "- Binary label: means that only report results for the class specified by pos_label\n",
    "- this ensure that logistic regression fails to predict non of the positive class \n",
    "- The last value of 441 refers to the number of observation with value 1 and predicted as zero !"
   ]
  },
  {
   "cell_type": "markdown",
   "metadata": {},
   "source": [
    "## Work on selective features .. \n",
    "- One of the solutions for this problem is to work on less dimentions that are proved to be effective in predicting the class label ..\n",
    "- For simplicity and quick check we just select features resulted from the trails of other participants in the competition .. \n",
    "- As a future work, I will try to work on the resulted features from the PCA  "
   ]
  },
  {
   "cell_type": "markdown",
   "metadata": {},
   "source": [
    "# selective features \n",
    "ind_var5 -> 27 <br>\n",
    "ind_var30 -> 64 <br>\n",
    "var15 -> 2 (categorical?)"
   ]
  },
  {
   "cell_type": "code",
   "execution_count": 47,
   "metadata": {
    "collapsed": false
   },
   "outputs": [
    {
     "data": {
      "text/plain": [
       "'53214 training samples : validation error = 0.960094720225, test error = 0.960270128048'"
      ]
     },
     "metadata": {},
     "output_type": "display_data"
    }
   ],
   "source": [
    "indeces = [2,27, 64]\n",
    "logistic = LogisticRegression().fit(training_data[:,indeces],training_data[:,-1])\n",
    "validation_error = logistic.score(validation_data[:,indeces], validation_data[:,-1]) \n",
    "test_error = logistic.score(test_data[:,indeces], test_data[:,-1]) #get_error(logistic)\n",
    "display(str.format(\"{} training samples : validation error = {}, test error = {}\",training_data.shape[0], validation_error, test_error))"
   ]
  },
  {
   "cell_type": "code",
   "execution_count": 48,
   "metadata": {
    "collapsed": false
   },
   "outputs": [
    {
     "data": {
      "text/plain": [
       "(0.0, 0.0, 0.0, 455)"
      ]
     },
     "execution_count": 48,
     "metadata": {},
     "output_type": "execute_result"
    }
   ],
   "source": [
    "y_true = validation_data[:,-1]\n",
    "y_pred = logistic.predict(validation_data[:,indeces])\n",
    "precision_recall_fscore_support(y_true, y_pred, average='binary')"
   ]
  },
  {
   "cell_type": "markdown",
   "metadata": {},
   "source": [
    "## Comment:\n",
    "- Working of the selected subset of features makes no difference .. ! \n",
    "- The 2nd step may be to try another classifier (i.e. ANN) .. "
   ]
  },
  {
   "cell_type": "markdown",
   "metadata": {},
   "source": [
    "## Summary: "
   ]
  },
  {
   "cell_type": "code",
   "execution_count": 49,
   "metadata": {
    "collapsed": false
   },
   "outputs": [
    {
     "name": "stdout",
     "output_type": "stream",
     "text": [
      "             precision    recall  f1-score   support\n",
      "\n",
      "    class 0       0.96      1.00      0.98     10947\n",
      "    class 1       0.00      0.00      0.00       455\n",
      "\n",
      "avg / total       0.92      0.96      0.94     11402\n",
      "\n"
     ]
    },
    {
     "name": "stderr",
     "output_type": "stream",
     "text": [
      "/usr/lib/python2.7/dist-packages/sklearn/metrics/metrics.py:1905: UserWarning: The sum of true positives and false positives are equal to zero for some labels. Precision is ill defined for those labels [ 1.]. The precision and recall are equal to zero for some labels. fbeta_score is ill defined for those labels [ 1.]. \n",
      "  average=None)\n"
     ]
    }
   ],
   "source": [
    "target_names = ['class 0', 'class 1']\n",
    "print(classification_report(y_true, y_pred, target_names=target_names))"
   ]
  },
  {
   "cell_type": "markdown",
   "metadata": {},
   "source": [
    "## - Plotting ROC curve and AUC"
   ]
  },
  {
   "cell_type": "code",
   "execution_count": 50,
   "metadata": {
    "collapsed": false
   },
   "outputs": [
    {
     "data": {
      "image/png": "[encoded data removed]",
      "text/plain": [
       "<matplotlib.figure.Figure at 0x7f06d1b64e10>"
      ]
     },
     "metadata": {},
     "output_type": "display_data"
    }
   ],
   "source": [
    "fpr = dict()\n",
    "tpr = dict()\n",
    "roc_auc = dict()\n",
    "for i in xrange(len(y_pred)):\n",
    "    fpr[i], tpr[i], _ = roc_curve(y_true,y_pred)\n",
    "    roc_auc[i] = auc(fpr[i], tpr[i])\n",
    "    \n",
    "plt.figure()\n",
    "plt.plot(fpr[2], tpr[2], label='ROC curve (area = %0.2f)' % roc_auc[2])\n",
    "plt.plot([0, 1], [0, 1], 'k--')\n",
    "plt.xlim([0.0, 1.0])\n",
    "plt.ylim([0.0, 1.05])\n",
    "plt.xlabel('False Positive Rate')\n",
    "plt.ylabel('True Positive Rate')\n",
    "plt.title('Receiver operating characteristic')\n",
    "plt.legend(loc=\"lower right\")\n",
    "plt.show()"
   ]
  },
  {
   "cell_type": "markdown",
   "metadata": {},
   "source": [
    "# 2. ANN"
   ]
  },
  {
   "cell_type": "code",
   "execution_count": 51,
   "metadata": {
    "collapsed": false
   },
   "outputs": [],
   "source": [
    "batch_size = 128\n",
    "hidden_layer_size = 1024\n",
    "\n",
    "nVars = len(indeces)#training_data.shape[1]-2 # 369\n",
    "num_labels = 2\n",
    "\n",
    "graph = tf.Graph()\n",
    "with graph.as_default():\n",
    "\n",
    "  # Input data. For the training data, we use a placeholder that will be fed\n",
    "  # at run time with a training minibatch.\n",
    "  tf_train_dataset = tf.placeholder(tf.float32,\n",
    "                                    shape=(batch_size, nVars))\n",
    "  tf_train_labels = tf.placeholder(tf.float32, shape=(batch_size,num_labels))\n",
    "  tf_valid_dataset = tf.constant(validation_data[:,indeces].astype(np.float32))\n",
    "  tf_valid_labels = tf.constant(validation_data[:,-1].astype(np.float32))\n",
    "  tf_test_dataset = tf.constant(test_data[:,indeces].astype(np.float32))\n",
    "  tf_test_labels = tf.constant(test_data[:,-1].astype(np.float32))\n",
    "  \n",
    "\n",
    "  # Variables.\n",
    "  weights1 = tf.Variable(\n",
    "    tf.truncated_normal([nVars, hidden_layer_size]))\n",
    "  biases1 = tf.Variable(tf.zeros([hidden_layer_size]))\n",
    "    \n",
    "  weights2 = tf.Variable(\n",
    "    tf.truncated_normal([hidden_layer_size, num_labels]))\n",
    "  biases2 = tf.Variable(tf.zeros([num_labels]))\n",
    "    \n",
    "  hidden_layer = tf.nn.relu(tf.matmul(tf_train_dataset, weights1) + biases1) \n",
    "#   hidden_layer = tf.nn.dropout(hidden_layer, 0.5)\n",
    "    \n",
    "  # Training computation.\n",
    "  logits = tf.matmul(hidden_layer, weights2) + biases2\n",
    "    #tf.nn.l2_loss(logitis- tf_train_labels)\n",
    "  loss = tf.reduce_mean(tf.nn.softmax_cross_entropy_with_logits(logits, tf_train_labels))\n",
    "\n",
    "  # L2 regularization for the fully connected parameters.\n",
    "  regularizers = (tf.nn.l2_loss(weights1) + tf.nn.l2_loss(biases1) +\n",
    "                  tf.nn.l2_loss(weights2) + tf.nn.l2_loss(biases2))\n",
    "  # Add the regularization term to the loss.\n",
    "  beta = 5e-4\n",
    "#   loss += beta * regularizers\n",
    "  \n",
    "  # Optimizer.\n",
    "  global_step = tf.Variable(0)  # count the number of steps taken.\n",
    "  learning_rate = tf.train.exponential_decay(0.01, global_step, 300, 0.96)\n",
    "  optimizer = tf.train.GradientDescentOptimizer(0.0001).minimize(loss, global_step=global_step)\n",
    "  \n",
    "  # Predictions for the training, validation, and test data.\n",
    "  train_prediction = logits\n",
    "  valid_hidden_layer = tf.nn.relu(tf.matmul(tf_valid_dataset, weights1) + biases1) \n",
    "  valid_prediction = tf.matmul(valid_hidden_layer, weights2) + biases2\n",
    "  test_hidden_layer = tf.nn.relu(tf.matmul(tf_test_dataset, weights1) + biases1) \n",
    "  test_prediction = tf.matmul(test_hidden_layer, weights2) + biases2"
   ]
  },
  {
   "cell_type": "code",
   "execution_count": 52,
   "metadata": {
    "collapsed": false
   },
   "outputs": [],
   "source": [
    "def accuracy(predictions, labels):\n",
    "  return (100.0 * np.sum(np.argmax(predictions, 1) == np.argmax(labels, 1))\n",
    "          / predictions.shape[0])"
   ]
  },
  {
   "cell_type": "code",
   "execution_count": 53,
   "metadata": {
    "collapsed": false
   },
   "outputs": [],
   "source": [
    "def run_optimizer():\n",
    "    num_steps = 4001\n",
    "    \n",
    "    validation_labels = validation_data[:,-2:].astype(np.float32)\n",
    "    validation_labels[:,0] = 1- validation_labels[:,1]\n",
    "    test_labels = validation_data[:,-2:].astype(np.float32)\n",
    "    test_labels[:,0] = 1- test_labels[:,1]\n",
    "\n",
    "    with tf.Session(graph=graph) as session:\n",
    "      tf.initialize_all_variables().run()\n",
    "      print(\"Initialized\")\n",
    "      for step in range(num_steps):\n",
    "        # Pick an offset within the training data, which has been randomized.\n",
    "        # Note: we could use better randomization across epochs.\n",
    "        offset = (step * batch_size) % (training_data.shape[0] - batch_size)\n",
    "        # Generate a minibatch.\n",
    "        batch_data = training_data[offset:(offset + batch_size),indeces].astype(np.float32)\n",
    "        batch_labels = np.reshape(training_data[offset:(offset + batch_size),-2:], [batch_size,2]).astype(np.float32)\n",
    "        batch_labels[:,0] = 1- batch_labels[:,1]\n",
    "        # Prepare a dictionary telling the session where to feed the minibatch.\n",
    "        # The key of the dictionary is the placeholder node of the graph to be fed,\n",
    "        # and the value is the numpy array to feed to it.\n",
    "        feed_dict = {tf_train_dataset : batch_data, tf_train_labels : batch_labels}\n",
    "        _, l, predictions = session.run(\n",
    "          [optimizer, loss, train_prediction], feed_dict=feed_dict)\n",
    "        if (step % 500 == 0):\n",
    "          print(\"Minibatch loss at step %d: %f\" % (step, l))\n",
    "          print(\"Minibatch accuracy: %.1f%%\" % accuracy(predictions, batch_labels))\n",
    "          print(\"Validation accuracy: %.1f%%\" % accuracy(valid_prediction.eval(), validation_labels))\n",
    "      test_pred = test_prediction.eval()\n",
    "      print(\"Test accuracy: %.1f%%\" % accuracy(test_pred, test_labels))\n",
    "      y_true = test_labels[:,1]\n",
    "      y_pred = np.argmax(test_pred, 1)\n",
    "      precision, recall, fscore, _ = precision_recall_fscore_support(y_true, y_pred, average='binary')\n",
    "      print(\"Precision: %.1f, Recall: %.1f, F-score: %.1f \" % (precision, recall, fscore))"
   ]
  },
  {
   "cell_type": "code",
   "execution_count": 54,
   "metadata": {
    "collapsed": false
   },
   "outputs": [
    {
     "name": "stdout",
     "output_type": "stream",
     "text": [
      "Initialized\n",
      "Minibatch loss at step 0: 9.395432\n",
      "Minibatch accuracy: 97.7%\n",
      "Validation accuracy: 96.0%\n",
      "Minibatch loss at step 500: 2.377729\n",
      "Minibatch accuracy: 95.3%\n",
      "Validation accuracy: 96.0%\n",
      "Minibatch loss at step 1000: 0.469960\n",
      "Minibatch accuracy: 70.3%\n",
      "Validation accuracy: 96.0%\n",
      "Minibatch loss at step 1500: 6.207842\n",
      "Minibatch accuracy: 94.5%\n",
      "Validation accuracy: 96.0%\n",
      "Minibatch loss at step 2000: 8.251621\n",
      "Minibatch accuracy: 94.5%\n",
      "Validation accuracy: 96.0%\n",
      "Minibatch loss at step 2500: 5.747937\n",
      "Minibatch accuracy: 96.1%\n",
      "Validation accuracy: 96.0%\n",
      "Minibatch loss at step 3000: 0.580570\n",
      "Minibatch accuracy: 97.7%\n",
      "Validation accuracy: 96.0%\n",
      "Minibatch loss at step 3500: 4.246640\n",
      "Minibatch accuracy: 96.1%\n",
      "Validation accuracy: 96.0%\n",
      "Minibatch loss at step 4000: 0.832232\n",
      "Minibatch accuracy: 94.5%\n",
      "Validation accuracy: 96.0%\n",
      "Test accuracy: 95.9%\n",
      "Precision: 0.0, Recall: 0.0, F-score: 0.0 \n"
     ]
    }
   ],
   "source": [
    "run_optimizer()"
   ]
  },
  {
   "cell_type": "markdown",
   "metadata": {
    "collapsed": true
   },
   "source": [
    "## Comment: \n",
    "- So far ANN is very similar to logistic regression (may be because of skewed classes in the data)\n",
    "- We need a better approach to handle this case\n",
    "- Decision tree classifier might be chosen .."
   ]
  },
  {
   "cell_type": "markdown",
   "metadata": {
    "collapsed": true
   },
   "source": [
    "## 3. Decision Tree: "
   ]
  },
  {
   "cell_type": "markdown",
   "metadata": {},
   "source": [
    "### 3.1. Training phase:"
   ]
  },
  {
   "cell_type": "code",
   "execution_count": 55,
   "metadata": {
    "collapsed": false
   },
   "outputs": [
    {
     "data": {
      "text/plain": [
       "DecisionTreeClassifier(compute_importances=None, criterion='gini',\n",
       "            max_depth=None, max_features=None, min_density=None,\n",
       "            min_samples_leaf=1, min_samples_split=2, random_state=None,\n",
       "            splitter='best')"
      ]
     },
     "execution_count": 55,
     "metadata": {},
     "output_type": "execute_result"
    }
   ],
   "source": [
    "clf = tree.DecisionTreeClassifier()\n",
    "clf = clf.fit(training_data[:,indeces],training_data[:,-1])\n",
    "clf"
   ]
  },
  {
   "cell_type": "markdown",
   "metadata": {},
   "source": [
    "### 3.2. Validation phase: "
   ]
  },
  {
   "cell_type": "code",
   "execution_count": 56,
   "metadata": {
    "collapsed": false
   },
   "outputs": [],
   "source": [
    "y_true = validation_data[:,-1]\n",
    "y_pred = clf.predict(validation_data[:,indeces])"
   ]
  },
  {
   "cell_type": "markdown",
   "metadata": {},
   "source": [
    "## - Evaluation Process .."
   ]
  },
  {
   "cell_type": "code",
   "execution_count": 57,
   "metadata": {
    "collapsed": false
   },
   "outputs": [
    {
     "data": {
      "text/plain": [
       "(0.0, 0.0, 0.0, 455)"
      ]
     },
     "execution_count": 57,
     "metadata": {},
     "output_type": "execute_result"
    }
   ],
   "source": [
    "precision_recall_fscore_support(y_true, y_pred, average='binary')"
   ]
  },
  {
   "cell_type": "code",
   "execution_count": 58,
   "metadata": {
    "collapsed": false
   },
   "outputs": [
    {
     "name": "stdout",
     "output_type": "stream",
     "text": [
      "             precision    recall  f1-score   support\n",
      "\n",
      "    class 0       0.96      1.00      0.98     10947\n",
      "    class 1       0.00      0.00      0.00       455\n",
      "\n",
      "avg / total       0.92      0.96      0.94     11402\n",
      "\n"
     ]
    }
   ],
   "source": [
    "target_names = ['class 0', 'class 1']\n",
    "print(classification_report(y_true, y_pred, target_names=target_names))"
   ]
  },
  {
   "cell_type": "code",
   "execution_count": 59,
   "metadata": {
    "collapsed": false
   },
   "outputs": [
    {
     "data": {
      "image/png": "[encoded data removed]",
      "text/plain": [
       "<matplotlib.figure.Figure at 0x7f06b1efdf90>"
      ]
     },
     "metadata": {},
     "output_type": "display_data"
    }
   ],
   "source": [
    "for i in xrange(len(y_true)):\n",
    "    fpr[i], tpr[i], _ = roc_curve(y_true, y_pred)\n",
    "    roc_auc[i] = auc(fpr[i], tpr[i])\n",
    "\n",
    "plt.figure()\n",
    "plt.plot(fpr[2], tpr[2], label='ROC curve (area = %0.2f)' % roc_auc[2])\n",
    "plt.plot([0, 1], [0, 1], 'k--')\n",
    "plt.xlim([0.0, 1.0])\n",
    "plt.ylim([0.0, 1.05])\n",
    "plt.xlabel('False Positive Rate')\n",
    "plt.ylabel('True Positive Rate')\n",
    "plt.title('Receiver operating characteristic')\n",
    "plt.legend(loc=\"lower right\")\n",
    "plt.show()"
   ]
  },
  {
   "cell_type": "markdown",
   "metadata": {},
   "source": [
    "## Comment:\n",
    "- Deicion Tree classifier could classify most of the cases correctly .. \n",
    "- Percision, Recall and F_score are calculated as evaluation methods .. \n",
    "- We still can do better by working on less number of features (effective ones) .. "
   ]
  },
  {
   "cell_type": "markdown",
   "metadata": {},
   "source": [
    "## Conclusion: \n",
    "- This problem is a classification problem for customers into (Satisfied and Unsatisfied) ones .. \n",
    "- There are about 369 input variables and only one output (two class) variable ..\n",
    "- Logistic regression, ANN, DT classifiers are applied ..\n",
    "- DT outperformed the other two methods .. and this is proved via calculating the classification accuracy, percision, recall and F_score values .. \n",
    "- So far, we can do better by applying some preprocessing steps perior to the modeling phase (i.e. solve the issue of imbalnaced dataset) .. and this can be proven by printing the count of each class"
   ]
  },
  {
   "cell_type": "code",
   "execution_count": 60,
   "metadata": {
    "collapsed": false
   },
   "outputs": [
    {
     "name": "stderr",
     "output_type": "stream",
     "text": [
      "/usr/lib/python2.7/dist-packages/pandas/core/series.py:1807: DeprecationWarning: numpy boolean negative, the `-` operator, is deprecated, use the `~` operator or the logical_not function instead.\n",
      "  good = -bad\n"
     ]
    },
    {
     "data": {
      "text/plain": [
       "0    73012\n",
       "1     3008\n",
       "dtype: int64"
      ]
     },
     "execution_count": 60,
     "metadata": {},
     "output_type": "execute_result"
    }
   ],
   "source": [
    "train.TARGET.value_counts()"
   ]
  },
  {
   "cell_type": "markdown",
   "metadata": {},
   "source": [
    "## Comment:\n",
    "There is a big difference between the count of satisfied and unstisfied customers (0,1) .. "
   ]
  },
  {
   "cell_type": "markdown",
   "metadata": {},
   "source": [
    "## Future work: \n",
    "- The analysis on certain / selected variables .. \n",
    "- Correlation between the variables .. \n",
    "- Plotting the variables vs each other as well as doing some informative plots ..\n",
    "- classification on selected features (resulted from PCA)"
   ]
  },
  {
   "cell_type": "markdown",
   "metadata": {},
   "source": [
    "# Back to Data Preporcessing phase: \n",
    "As mentioned earlier, we can improve the classification results and make them more robust by solving the problem of impbalanced dataset and focus on the relationship between the input variables .. \n",
    "\n",
    "## Imbalnced dataset - solutions:\n",
    "1. Over sampling: \n",
    "Sampling the data related to the less clasified class to increase its records ..\n",
    "\n",
    "2. Under sampling: \n",
    "Remove some records from the over classified class to decrease its records .. \n",
    "\n",
    "Asume we gonna apply Under sampling .. "
   ]
  },
  {
   "cell_type": "markdown",
   "metadata": {},
   "source": [
    "## Relationships between variables .. \n",
    "According to these trails .. \n",
    "https://www.kaggle.com/cast42/santander-customer-satisfaction/exploring-features/comments#115223\n",
    "\n",
    "We can find that some variables may sum to up other varibales .. this may justify the high corrrelation between them .. \n",
    "var05, var08, var06/29, var20, var24, var14 and var13. These sum up to var30"
   ]
  },
  {
   "cell_type": "code",
   "execution_count": 61,
   "metadata": {
    "collapsed": false
   },
   "outputs": [
    {
     "name": "stdout",
     "output_type": "stream",
     "text": [
      "Combined variables:  181146\n",
      "Equivalent variable (var30):  181146\n"
     ]
    }
   ],
   "source": [
    "combined_variables = np.sum(train.num_var5)+ np.sum(train.num_var8) + np.sum(train.num_var6) + np.sum(train.num_var20) + np.sum(train.num_var24) + np.sum(train.num_var14) + np.sum(train.num_var13) \n",
    "combined_var30 = sum(train.num_var30)\n",
    "print \"Combined variables: \", combined_variables\n",
    "print \"Equivalent variable (var30): \", combined_var30"
   ]
  },
  {
   "cell_type": "code",
   "execution_count": 62,
   "metadata": {
    "collapsed": false
   },
   "outputs": [
    {
     "name": "stdout",
     "output_type": "stream",
     "text": [
      "Combined variables:  1221\n",
      "Equivalent variable (var31):  1221\n"
     ]
    }
   ],
   "source": [
    "# var17, var44, var33. These sum up to var31\n",
    "combined_variables = np.sum(train.num_var17) + np.sum(train.num_var44) + np.sum(train.num_var33)\n",
    "combined_var31 = sum(train.num_var31)\n",
    "print \"Combined variables: \", combined_variables\n",
    "print \"Equivalent variable (var31): \", combined_var31"
   ]
  },
  {
   "cell_type": "code",
   "execution_count": 63,
   "metadata": {
    "collapsed": false
   },
   "outputs": [
    {
     "name": "stdout",
     "output_type": "stream",
     "text": [
      "Combined variables:  6795\n",
      "Equivalent variable (var26):  6795\n"
     ]
    }
   ],
   "source": [
    "# var25, var32. These sum up to var26\n",
    "\n",
    "combined_variables = np.sum(train.num_var25) + np.sum(train.num_var32)\n",
    "combined_var26 = sum(train.num_var26)\n",
    "print \"Combined variables: \", combined_variables\n",
    "print \"Equivalent variable (var26): \", combined_var26"
   ]
  },
  {
   "cell_type": "code",
   "execution_count": 64,
   "metadata": {
    "collapsed": false
   },
   "outputs": [
    {
     "name": "stdout",
     "output_type": "stream",
     "text": [
      "Combined variables:  861\n",
      "Equivalent variable (var1):  861\n"
     ]
    }
   ],
   "source": [
    "# var40, var41, var18, var34. These sum up to var01\n",
    "\n",
    "combined_variables = np.sum(train.num_var40) + np.sum(train.num_var41) + + np.sum(train.num_var34) + + np.sum(train.num_var18)\n",
    "combined_var1 = sum(train.num_var1)\n",
    "print \"Combined variables: \", combined_variables\n",
    "print \"Equivalent variable (var1): \", combined_var1"
   ]
  },
  {
   "cell_type": "code",
   "execution_count": 65,
   "metadata": {
    "collapsed": false
   },
   "outputs": [
    {
     "name": "stderr",
     "output_type": "stream",
     "text": [
      "/usr/lib/python2.7/dist-packages/pandas/core/common.py:276: DeprecationWarning: numpy boolean negative, the `-` operator, is deprecated, use the `~` operator or the logical_not function instead.\n",
      "  return -res\n"
     ]
    },
    {
     "data": {
      "text/plain": [
       "<matplotlib.axes.AxesSubplot at 0x7f06b0df0650>"
      ]
     },
     "execution_count": 65,
     "metadata": {},
     "output_type": "execute_result"
    },
    {
     "data": {
      "image/png": "[encoded data removed]",
      "text/plain": [
       "<matplotlib.figure.Figure at 0x7f06b0df0550>"
      ]
     },
     "metadata": {},
     "output_type": "display_data"
    }
   ],
   "source": [
    "train.num_var4.hist(bins=100)"
   ]
  },
  {
   "cell_type": "markdown",
   "metadata": {},
   "source": [
    "## Digging deeper in Var3 .. \n",
    "This variable contains no zeros .. hence, probably it's one of the most essential variables during the analysis ..  \n",
    "hence, we have to give it a focus .. "
   ]
  },
  {
   "cell_type": "code",
   "execution_count": 66,
   "metadata": {
    "collapsed": false
   },
   "outputs": [
    {
     "name": "stdout",
     "output_type": "stream",
     "text": [
      "Counting the occurance of values in var3:\n"
     ]
    },
    {
     "name": "stderr",
     "output_type": "stream",
     "text": [
      "/usr/lib/python2.7/dist-packages/pandas/core/series.py:1807: DeprecationWarning: numpy boolean negative, the `-` operator, is deprecated, use the `~` operator or the logical_not function instead.\n",
      "  good = -bad\n"
     ]
    },
    {
     "data": {
      "text/plain": [
       " 2         74165\n",
       " 8           138\n",
       "-999999      116\n",
       " 9           110\n",
       " 3           108\n",
       " 1           105\n",
       " 13           98\n",
       " 7            97\n",
       " 4            86\n",
       " 12           85\n",
       " 6            82\n",
       " 0            75\n",
       " 10           72\n",
       " 11           66\n",
       " 5            63\n",
       "...\n",
       "119    1\n",
       "79     1\n",
       "182    1\n",
       "181    1\n",
       "210    1\n",
       "40     1\n",
       "211    1\n",
       "84     1\n",
       "213    1\n",
       "178    1\n",
       "177    1\n",
       "87     1\n",
       "151    1\n",
       "215    1\n",
       "191    1\n",
       "Length: 208, dtype: int64"
      ]
     },
     "execution_count": 66,
     "metadata": {},
     "output_type": "execute_result"
    }
   ],
   "source": [
    "print \"Counting the occurance of values in var3:\"\n",
    "train['var3'].value_counts()"
   ]
  },
  {
   "cell_type": "markdown",
   "metadata": {},
   "source": [
    "## Comment:\n",
    "- This variable takes +ve values except the value of (-999999) .. this value might replace missing values ! .. \n",
    "\n",
    "- Hence, if we replace it with the most common value instead of this large negative number, this might help .. \n",
    "\n",
    "- Assume we gonna replace it with the value of (2) \n",
    "    - Ref: https://www.kaggle.com/cast42/santander-customer-satisfaction/debugging-var3-999999/comments\n",
    "   \n",
    "   \n",
    "- Motivation: \n",
    "var3 is probably country of residence: https://www.kaggle.com/c/santander-customer-satisfaction/forums/t/19367/var3/111169#post111169 As far I have seen, var3 is uncorrelated with the target variable. Hence, it does not improve AUC with XGBOOST or RFC. But if var3 was important , correct imputation of outliers could improve the classification i guess. But replacing the unknowns with 2 does not make it worse either ;-)"
   ]
  },
  {
   "cell_type": "code",
   "execution_count": 67,
   "metadata": {
    "collapsed": false
   },
   "outputs": [
    {
     "name": "stderr",
     "output_type": "stream",
     "text": [
      "/usr/lib/python2.7/dist-packages/pandas/core/common.py:356: DeprecationWarning: numpy boolean negative, the `-` operator, is deprecated, use the `~` operator or the logical_not function instead.\n",
      "  nonna = values_to_mask[-na_mask]\n",
      "/usr/lib/python2.7/dist-packages/pandas/core/common.py:356: DeprecationWarning: numpy boolean negative, the `-` operator, is deprecated, use the `~` operator or the logical_not function instead.\n",
      "  nonna = values_to_mask[-na_mask]\n"
     ]
    }
   ],
   "source": [
    "train = train.replace(-999999,2)"
   ]
  },
  {
   "cell_type": "code",
   "execution_count": 68,
   "metadata": {
    "collapsed": false
   },
   "outputs": [
    {
     "name": "stderr",
     "output_type": "stream",
     "text": [
      "/usr/lib/python2.7/dist-packages/pandas/core/series.py:1807: DeprecationWarning: numpy boolean negative, the `-` operator, is deprecated, use the `~` operator or the logical_not function instead.\n",
      "  good = -bad\n"
     ]
    },
    {
     "data": {
      "text/plain": [
       "2     74281\n",
       "8       138\n",
       "9       110\n",
       "3       108\n",
       "1       105\n",
       "13       98\n",
       "7        97\n",
       "4        86\n",
       "12       85\n",
       "6        82\n",
       "0        75\n",
       "10       72\n",
       "11       66\n",
       "5        63\n",
       "14       61\n",
       "...\n",
       "119    1\n",
       "79     1\n",
       "182    1\n",
       "181    1\n",
       "210    1\n",
       "40     1\n",
       "211    1\n",
       "84     1\n",
       "213    1\n",
       "178    1\n",
       "177    1\n",
       "87     1\n",
       "151    1\n",
       "215    1\n",
       "191    1\n",
       "Length: 207, dtype: int64"
      ]
     },
     "execution_count": 68,
     "metadata": {},
     "output_type": "execute_result"
    }
   ],
   "source": [
    "train['var3'].value_counts()"
   ]
  },
  {
   "cell_type": "markdown",
   "metadata": {},
   "source": [
    "## What about Var15 .. \n",
    "Probably, this variable represents the Age of the customers .. in fact, we don't care about figuring out the idenification of the variable under study but let's dig deeper in this variable .. "
   ]
  },
  {
   "cell_type": "code",
   "execution_count": 69,
   "metadata": {
    "collapsed": false
   },
   "outputs": [
    {
     "name": "stderr",
     "output_type": "stream",
     "text": [
      "/usr/lib/python2.7/dist-packages/pandas/core/common.py:276: DeprecationWarning: numpy boolean negative, the `-` operator, is deprecated, use the `~` operator or the logical_not function instead.\n",
      "  return -res\n",
      "/usr/lib/python2.7/dist-packages/pandas/core/common.py:276: DeprecationWarning: numpy boolean negative, the `-` operator, is deprecated, use the `~` operator or the logical_not function instead.\n",
      "  return -res\n",
      "/usr/lib/python2.7/dist-packages/pandas/core/common.py:276: DeprecationWarning: numpy boolean negative, the `-` operator, is deprecated, use the `~` operator or the logical_not function instead.\n",
      "  return -res\n",
      "/usr/lib/python2.7/dist-packages/pandas/core/common.py:276: DeprecationWarning: numpy boolean negative, the `-` operator, is deprecated, use the `~` operator or the logical_not function instead.\n",
      "  return -res\n"
     ]
    },
    {
     "data": {
      "text/plain": [
       "count    76020.000000\n",
       "mean        33.212865\n",
       "std         12.956486\n",
       "min          5.000000\n",
       "25%         23.000000\n",
       "50%         28.000000\n",
       "75%         40.000000\n",
       "max        105.000000\n",
       "Name: var15, dtype: float64"
      ]
     },
     "execution_count": 69,
     "metadata": {},
     "output_type": "execute_result"
    }
   ],
   "source": [
    "train['var15'].describe()"
   ]
  },
  {
   "cell_type": "code",
   "execution_count": 70,
   "metadata": {
    "collapsed": false
   },
   "outputs": [
    {
     "name": "stderr",
     "output_type": "stream",
     "text": [
      "/usr/lib/python2.7/dist-packages/pandas/core/common.py:276: DeprecationWarning: numpy boolean negative, the `-` operator, is deprecated, use the `~` operator or the logical_not function instead.\n",
      "  return -res\n"
     ]
    },
    {
     "data": {
      "text/plain": [
       "<matplotlib.axes.AxesSubplot at 0x7f06b0ff7cd0>"
      ]
     },
     "execution_count": 70,
     "metadata": {},
     "output_type": "execute_result"
    },
    {
     "data": {
      "image/png": "[encoded data removed]",
      "text/plain": [
       "<matplotlib.figure.Figure at 0x7f06b16e7cd0>"
      ]
     },
     "metadata": {},
     "output_type": "display_data"
    }
   ],
   "source": [
    "train['var15'].hist(bins=100)"
   ]
  },
  {
   "cell_type": "markdown",
   "metadata": {},
   "source": [
    "Very Skewed shape !! .. "
   ]
  },
  {
   "cell_type": "code",
   "execution_count": 71,
   "metadata": {
    "collapsed": false
   },
   "outputs": [
    {
     "data": {
      "text/plain": [
       "array([[0, 0, 0, 0],\n",
       "       [3, 0, 0, 0],\n",
       "       [3, 0, 0, 0],\n",
       "       ..., \n",
       "       [3, 0, 0, 0],\n",
       "       [3, 0, 0, 0],\n",
       "       [0, 0, 0, 0]])"
      ]
     },
     "execution_count": 71,
     "metadata": {},
     "output_type": "execute_result"
    }
   ],
   "source": [
    "input_variables = [train.num_var30, train.num_var31, train.num_var26, train.num_var1]\n",
    "np.transpose(input_variables)"
   ]
  },
  {
   "cell_type": "code",
   "execution_count": 72,
   "metadata": {
    "collapsed": false
   },
   "outputs": [
    {
     "data": {
      "text/plain": [
       "'53214 training samples : validation error = 0.959919312401, test error = 0.960270128048'"
      ]
     },
     "metadata": {},
     "output_type": "display_data"
    }
   ],
   "source": [
    "indeces = [140,142, 118, 89]\n",
    "logistic = LogisticRegression().fit(training_data[:,indeces],training_data[:,-1])\n",
    "validation_error = logistic.score(validation_data[:,indeces], validation_data[:,-1]) \n",
    "test_error = logistic.score(test_data[:,indeces], test_data[:,-1]) #get_error(logistic)\n",
    "display(str.format(\"{} training samples : validation error = {}, test error = {}\",training_data.shape[0], validation_error, test_error))"
   ]
  },
  {
   "cell_type": "code",
   "execution_count": 73,
   "metadata": {
    "collapsed": false
   },
   "outputs": [
    {
     "data": {
      "text/plain": [
       "(0.0, 0.0, 0.0, 455)"
      ]
     },
     "execution_count": 73,
     "metadata": {},
     "output_type": "execute_result"
    }
   ],
   "source": [
    "y_true = validation_data[:,-1]\n",
    "y_pred = logistic.predict(validation_data[:,indeces])\n",
    "precision_recall_fscore_support(y_true, y_pred, average='binary')"
   ]
  },
  {
   "cell_type": "code",
   "execution_count": 74,
   "metadata": {
    "collapsed": false
   },
   "outputs": [
    {
     "name": "stdout",
     "output_type": "stream",
     "text": [
      "             precision    recall  f1-score   support\n",
      "\n",
      "    class 0       0.96      1.00      0.98     10947\n",
      "    class 1       0.00      0.00      0.00       455\n",
      "\n",
      "avg / total       0.92      0.96      0.94     11402\n",
      "\n"
     ]
    },
    {
     "name": "stderr",
     "output_type": "stream",
     "text": [
      "/usr/lib/python2.7/dist-packages/sklearn/metrics/metrics.py:1905: UserWarning: The precision and recall are equal to zero for some labels. fbeta_score is ill defined for those labels [ 1.]. \n",
      "  average=None)\n"
     ]
    }
   ],
   "source": [
    "target_names = ['class 0', 'class 1']\n",
    "print(classification_report(y_true, y_pred, target_names=target_names))"
   ]
  },
  {
   "cell_type": "markdown",
   "metadata": {},
   "source": [
    "## Comment: \n",
    "- No better results have been obtained by depending on the combined variables .. !!\n",
    "- So far, the learning process has been made on the selected features from other Kaggle compitators and also by depending on some of the consolidated features ..\n",
    "- Hence, probably the problem is not in the input variables but the baisness on the output class variable that contains lots of satisfied customers .. \n",
    "- The next step is to solve the \"imbalanced classes\" problem.. "
   ]
  },
  {
   "cell_type": "markdown",
   "metadata": {},
   "source": [
    "## - Undersampling: \n",
    "which means removing data from the over classified (Biased) class such that the selected number of records from both classes are almost equal .. this will guarntee the fairness of the learning alagorithm .. "
   ]
  },
  {
   "cell_type": "code",
   "execution_count": 75,
   "metadata": {
    "collapsed": false
   },
   "outputs": [
    {
     "name": "stderr",
     "output_type": "stream",
     "text": [
      "/usr/lib/python2.7/dist-packages/pandas/core/series.py:1807: DeprecationWarning: numpy boolean negative, the `-` operator, is deprecated, use the `~` operator or the logical_not function instead.\n",
      "  good = -bad\n"
     ]
    },
    {
     "name": "stdout",
     "output_type": "stream",
     "text": [
      "        ID  var3  var15  imp_ent_var16_ult1  imp_op_var39_comer_ult1  \\\n",
      "0    81940     2     23                0.00                     0.00   \n",
      "1   114763     2     42                0.00                   194.91   \n",
      "2    53996     2     25                0.00                     0.00   \n",
      "3   138177     2     29              105.00                    61.20   \n",
      "4    68711     2     25                0.00                     0.00   \n",
      "5    87264     2     25                0.00                     0.00   \n",
      "6    82984     2     23                0.00                     0.00   \n",
      "7    26129     2     23                0.00                     0.00   \n",
      "8    69721     2     35                0.00                     0.00   \n",
      "9    13728     2     30                0.00                     0.00   \n",
      "10   62486     2     24                0.00                     0.00   \n",
      "11  102548     2     24                0.00                     0.00   \n",
      "12   41306     2     32               30.00                     0.00   \n",
      "13   16441     2     42                0.00                     0.00   \n",
      "14   48030     2     26                0.00                   126.51   \n",
      "15  104461     2     24                0.00                     0.00   \n",
      "16   91639     2     59                0.00                     0.00   \n",
      "17   11527     2     23                0.00                     0.00   \n",
      "18   18119     2     28                0.00                     0.00   \n",
      "19   22644     2     36                0.00                     0.00   \n",
      "20   39165     2     43                0.00                     0.00   \n",
      "21   62695     2     22                0.00                     0.00   \n",
      "22   73147     2     46                0.00                     0.00   \n",
      "23  114736     2     23                0.00                     0.00   \n",
      "24   94654     2     27                0.00                     0.00   \n",
      "25   80549     2     24                0.00                     0.00   \n",
      "26  142923     2     24                0.00                     0.00   \n",
      "27   14741     2     43                0.00                     0.00   \n",
      "28   53781     2     26                0.00                     0.00   \n",
      "29  122923     2     48                0.00                     0.00   \n",
      "30  110620     2     25                0.00                   683.88   \n",
      "31   86625     2     23                0.00                     0.00   \n",
      "32   37444     2     46                0.00                     0.00   \n",
      "33   10552     2     40                0.00                     0.00   \n",
      "34  114722     2     42                0.00                     0.00   \n",
      "35   39830     2     58                0.00                     0.00   \n",
      "36   59590     2     43                0.00                     0.00   \n",
      "37  149437     2     58                0.00                     0.00   \n",
      "38   42922     2     56                0.00                     0.00   \n",
      "39   18335     2     29                0.00                     0.00   \n",
      "40  115592     2     23                0.00                     0.00   \n",
      "41   17572     2     23                0.00                     0.00   \n",
      "42    2933     2     39                0.00                     0.00   \n",
      "43   84908     2     23                0.00                     0.00   \n",
      "44   32963     2     63                0.00                     0.00   \n",
      "45   55301     2     24                0.00                     0.00   \n",
      "46  145987     2     33                0.00                     0.00   \n",
      "47   26291     2     42                0.00                     0.00   \n",
      "48      54     2     54                0.00                   117.75   \n",
      "49  141830     2     24                0.00                     0.00   \n",
      "50   66646     2     23                0.00                     0.00   \n",
      "51   52178     2     23                0.00                     0.00   \n",
      "52  142390     2     26              210.00                   230.97   \n",
      "53  106716     2     23                0.00                     0.00   \n",
      "54  116683     2     31             1362.24                     0.00   \n",
      "55   45734     2     25                0.00                     0.00   \n",
      "56  134717     2     37                0.00                     0.00   \n",
      "57   55305     2     42                0.00                   185.55   \n",
      "58  148982     2     22                0.00                     0.00   \n",
      "59  118155     2     23                0.00                     0.00   \n",
      "       ...   ...    ...                 ...                      ...   \n",
      "\n",
      "    imp_op_var39_comer_ult3  imp_op_var40_comer_ult1  imp_op_var40_comer_ult3  \\\n",
      "0                      0.00                        0                        0   \n",
      "1                    341.49                        0                        0   \n",
      "2                      0.00                        0                        0   \n",
      "3                     61.20                        0                        0   \n",
      "4                      0.00                        0                        0   \n",
      "5                      0.00                        0                        0   \n",
      "6                      0.00                        0                        0   \n",
      "7                      0.00                        0                        0   \n",
      "8                      0.00                        0                        0   \n",
      "9                      0.00                        0                        0   \n",
      "10                     0.00                        0                        0   \n",
      "11                     0.00                        0                        0   \n",
      "12                     0.00                        0                        0   \n",
      "13                     0.00                        0                        0   \n",
      "14                   240.45                        0                        0   \n",
      "15                     0.00                        0                        0   \n",
      "16                     0.00                        0                        0   \n",
      "17                     0.00                        0                        0   \n",
      "18                     0.00                        0                        0   \n",
      "19                    57.99                        0                        0   \n",
      "20                     0.00                        0                        0   \n",
      "21                     0.00                        0                        0   \n",
      "22                     0.00                        0                        0   \n",
      "23                     0.00                        0                        0   \n",
      "24                     0.00                        0                        0   \n",
      "25                     0.00                        0                        0   \n",
      "26                     0.00                        0                        0   \n",
      "27                     0.00                        0                        0   \n",
      "28                     0.00                        0                        0   \n",
      "29                     0.00                        0                        0   \n",
      "30                   924.33                        0                        0   \n",
      "31                     0.00                        0                        0   \n",
      "32                     0.00                        0                        0   \n",
      "33                     0.00                        0                        0   \n",
      "34                    53.97                        0                        0   \n",
      "35                     0.00                        0                        0   \n",
      "36                     0.00                        0                        0   \n",
      "37                     0.00                        0                        0   \n",
      "38                     0.00                        0                        0   \n",
      "39                     0.00                        0                        0   \n",
      "40                     0.00                        0                        0   \n",
      "41                     0.00                        0                        0   \n",
      "42                     0.00                        0                        0   \n",
      "43                     0.00                        0                        0   \n",
      "44                     0.00                        0                        0   \n",
      "45                     0.00                        0                        0   \n",
      "46                     0.00                        0                        0   \n",
      "47                     0.00                        0                        0   \n",
      "48                   122.25                        0                        0   \n",
      "49                     0.00                        0                        0   \n",
      "50                     0.00                        0                        0   \n",
      "51                     0.00                        0                        0   \n",
      "52                   455.19                        0                        0   \n",
      "53                     0.00                        0                        0   \n",
      "54                    29.97                        0                        0   \n",
      "55                     0.00                        0                        0   \n",
      "56                     0.00                        0                        0   \n",
      "57                   483.00                        0                        0   \n",
      "58                     0.00                        0                        0   \n",
      "59                     0.00                        0                        0   \n",
      "                        ...                      ...                      ...   \n",
      "\n",
      "    imp_op_var40_efect_ult1  imp_op_var40_efect_ult3  imp_op_var40_ult1  \\\n",
      "0                         0                        0                  0   \n",
      "1                         0                        0                  0   \n",
      "2                         0                        0                  0   \n",
      "3                         0                        0                  0   \n",
      "4                         0                        0                  0   \n",
      "5                         0                        0                  0   \n",
      "6                         0                        0                  0   \n",
      "7                         0                        0                  0   \n",
      "8                         0                        0                  0   \n",
      "9                         0                        0                  0   \n",
      "10                        0                        0                  0   \n",
      "11                        0                        0                  0   \n",
      "12                        0                        0                  0   \n",
      "13                        0                        0                  0   \n",
      "14                        0                        0                  0   \n",
      "15                        0                        0                  0   \n",
      "16                        0                        0                  0   \n",
      "17                        0                        0                  0   \n",
      "18                        0                        0                  0   \n",
      "19                        0                        0                  0   \n",
      "20                        0                        0                  0   \n",
      "21                        0                        0                  0   \n",
      "22                        0                        0                  0   \n",
      "23                        0                        0                  0   \n",
      "24                        0                        0                  0   \n",
      "25                        0                        0                  0   \n",
      "26                        0                        0                  0   \n",
      "27                        0                        0                  0   \n",
      "28                        0                        0                  0   \n",
      "29                        0                        0                  0   \n",
      "30                        0                        0                  0   \n",
      "31                        0                        0                  0   \n",
      "32                        0                        0                  0   \n",
      "33                        0                        0                  0   \n",
      "34                        0                        0                  0   \n",
      "35                        0                        0                  0   \n",
      "36                        0                        0                  0   \n",
      "37                        0                        0                  0   \n",
      "38                        0                        0                  0   \n",
      "39                        0                        0                  0   \n",
      "40                        0                        0                  0   \n",
      "41                        0                        0                  0   \n",
      "42                        0                        0                  0   \n",
      "43                        0                        0                  0   \n",
      "44                        0                        0                  0   \n",
      "45                        0                        0                  0   \n",
      "46                        0                        0                  0   \n",
      "47                        0                        0                  0   \n",
      "48                        0                        0                  0   \n",
      "49                        0                        0                  0   \n",
      "50                        0                        0                  0   \n",
      "51                        0                        0                  0   \n",
      "52                        0                        0                  0   \n",
      "53                        0                        0                  0   \n",
      "54                        0                        0                  0   \n",
      "55                        0                        0                  0   \n",
      "56                        0                        0                  0   \n",
      "57                        0                        0                  0   \n",
      "58                        0                        0                  0   \n",
      "59                        0                        0                  0   \n",
      "                        ...                      ...                ...   \n",
      "\n",
      "    imp_op_var41_comer_ult1  imp_op_var41_comer_ult3  imp_op_var41_efect_ult1  \\\n",
      "0                      0.00                     0.00                        0   \n",
      "1                    194.91                   341.49                     1590   \n",
      "2                      0.00                     0.00                        0   \n",
      "3                     61.20                    61.20                        0   \n",
      "4                      0.00                     0.00                        0   \n",
      "5                      0.00                     0.00                        0   \n",
      "6                      0.00                     0.00                        0   \n",
      "7                      0.00                     0.00                        0   \n",
      "8                      0.00                     0.00                        0   \n",
      "9                      0.00                     0.00                        0   \n",
      "10                     0.00                     0.00                        0   \n",
      "11                     0.00                     0.00                        0   \n",
      "12                     0.00                     0.00                       36   \n",
      "13                     0.00                     0.00                        0   \n",
      "14                   126.51                   240.45                        0   \n",
      "15                     0.00                     0.00                        0   \n",
      "16                     0.00                     0.00                        0   \n",
      "17                     0.00                     0.00                        0   \n",
      "18                     0.00                     0.00                        0   \n",
      "19                     0.00                    57.99                        0   \n",
      "20                     0.00                     0.00                        0   \n",
      "21                     0.00                     0.00                        0   \n",
      "22                     0.00                     0.00                        0   \n",
      "23                     0.00                     0.00                        0   \n",
      "24                     0.00                     0.00                        0   \n",
      "25                     0.00                     0.00                        0   \n",
      "26                     0.00                     0.00                        0   \n",
      "27                     0.00                     0.00                        0   \n",
      "28                     0.00                     0.00                        0   \n",
      "29                     0.00                     0.00                        0   \n",
      "30                   683.88                   924.33                      120   \n",
      "31                     0.00                     0.00                        0   \n",
      "32                     0.00                     0.00                        0   \n",
      "33                     0.00                     0.00                        0   \n",
      "34                     0.00                    53.97                        0   \n",
      "35                     0.00                     0.00                        0   \n",
      "36                     0.00                     0.00                        0   \n",
      "37                     0.00                     0.00                        0   \n",
      "38                     0.00                     0.00                        0   \n",
      "39                     0.00                     0.00                        0   \n",
      "40                     0.00                     0.00                        0   \n",
      "41                     0.00                     0.00                        0   \n",
      "42                     0.00                     0.00                        0   \n",
      "43                     0.00                     0.00                        0   \n",
      "44                     0.00                     0.00                        0   \n",
      "45                     0.00                     0.00                        0   \n",
      "46                     0.00                     0.00                        0   \n",
      "47                     0.00                     0.00                        0   \n",
      "48                   117.75                   122.25                        0   \n",
      "49                     0.00                     0.00                        0   \n",
      "50                     0.00                     0.00                        0   \n",
      "51                     0.00                     0.00                        0   \n",
      "52                   230.97                   455.19                        0   \n",
      "53                     0.00                     0.00                        0   \n",
      "54                     0.00                    29.97                        0   \n",
      "55                     0.00                     0.00                        0   \n",
      "56                     0.00                     0.00                        0   \n",
      "57                   185.55                   483.00                        0   \n",
      "58                     0.00                     0.00                        0   \n",
      "59                     0.00                     0.00                        0   \n",
      "                        ...                      ...                      ...   \n",
      "\n",
      "    imp_op_var41_efect_ult3  imp_op_var41_ult1  imp_op_var39_efect_ult1  \\\n",
      "0                         0               0.00                        0   \n",
      "1                      2346            1784.91                     1590   \n",
      "2                         0               0.00                        0   \n",
      "3                         0              61.20                        0   \n",
      "4                         0               0.00                        0   \n",
      "5                         0               0.00                        0   \n",
      "6                         0               0.00                        0   \n",
      "7                         0               0.00                        0   \n",
      "8                         0               0.00                        0   \n",
      "9                         0               0.00                        0   \n",
      "10                        0               0.00                        0   \n",
      "11                        0               0.00                        0   \n",
      "12                       36              36.00                       36   \n",
      "13                        0               0.00                        0   \n",
      "14                        0             126.51                        0   \n",
      "15                        0               0.00                        0   \n",
      "16                        0               0.00                        0   \n",
      "17                        0               0.00                        0   \n",
      "18                        0               0.00                        0   \n",
      "19                        0               0.00                        0   \n",
      "20                        0               0.00                        0   \n",
      "21                        0               0.00                        0   \n",
      "22                        0               0.00                        0   \n",
      "23                        0               0.00                        0   \n",
      "24                        0               0.00                        0   \n",
      "25                        0               0.00                        0   \n",
      "26                        0               0.00                        0   \n",
      "27                        0               0.00                        0   \n",
      "28                        0               0.00                        0   \n",
      "29                        0               0.00                        0   \n",
      "30                      180             803.88                      120   \n",
      "31                        0               0.00                        0   \n",
      "32                        0               0.00                        0   \n",
      "33                        0               0.00                        0   \n",
      "34                        0               0.00                        0   \n",
      "35                        0               0.00                        0   \n",
      "36                      120               0.00                        0   \n",
      "37                        0               0.00                        0   \n",
      "38                        0               0.00                        0   \n",
      "39                        0               0.00                        0   \n",
      "40                        0               0.00                        0   \n",
      "41                        0               0.00                        0   \n",
      "42                        0               0.00                        0   \n",
      "43                        0               0.00                        0   \n",
      "44                        0               0.00                        0   \n",
      "45                        0               0.00                        0   \n",
      "46                        0               0.00                        0   \n",
      "47                        0               0.00                        0   \n",
      "48                        0             117.75                        0   \n",
      "49                        0               0.00                        0   \n",
      "50                        0               0.00                        0   \n",
      "51                        0               0.00                        0   \n",
      "52                      120             230.97                        0   \n",
      "53                        0               0.00                        0   \n",
      "54                        0               0.00                        0   \n",
      "55                        0               0.00                        0   \n",
      "56                        0               0.00                        0   \n",
      "57                        0             185.55                        0   \n",
      "58                        0               0.00                        0   \n",
      "59                        0               0.00                        0   \n",
      "                        ...                ...                      ...   \n",
      "\n",
      "    imp_op_var39_efect_ult3  imp_op_var39_ult1  imp_sal_var16_ult1      \n",
      "0                         0               0.00                   0 ...  \n",
      "1                      2346            1784.91                   0 ...  \n",
      "2                         0               0.00                   0 ...  \n",
      "3                         0              61.20                   0 ...  \n",
      "4                         0               0.00                   0 ...  \n",
      "5                         0               0.00                   0 ...  \n",
      "6                         0               0.00                   0 ...  \n",
      "7                         0               0.00                   0 ...  \n",
      "8                         0               0.00                   0 ...  \n",
      "9                         0               0.00                   0 ...  \n",
      "10                        0               0.00                   0 ...  \n",
      "11                        0               0.00                   0 ...  \n",
      "12                       36              36.00                   0 ...  \n",
      "13                        0               0.00                   0 ...  \n",
      "14                        0             126.51                   0 ...  \n",
      "15                        0               0.00                   0 ...  \n",
      "16                        0               0.00                   0 ...  \n",
      "17                        0               0.00                   0 ...  \n",
      "18                        0               0.00                   0 ...  \n",
      "19                        0               0.00                   0 ...  \n",
      "20                        0               0.00                   0 ...  \n",
      "21                        0               0.00                   0 ...  \n",
      "22                        0               0.00                   0 ...  \n",
      "23                        0               0.00                   0 ...  \n",
      "24                        0               0.00                   0 ...  \n",
      "25                        0               0.00                   0 ...  \n",
      "26                        0               0.00                   0 ...  \n",
      "27                        0               0.00                   0 ...  \n",
      "28                        0               0.00                   0 ...  \n",
      "29                        0               0.00                   0 ...  \n",
      "30                      180             803.88                   0 ...  \n",
      "31                        0               0.00                   0 ...  \n",
      "32                        0               0.00                   0 ...  \n",
      "33                        0               0.00                   0 ...  \n",
      "34                        0               0.00                   0 ...  \n",
      "35                        0               0.00                   0 ...  \n",
      "36                      120               0.00                   0 ...  \n",
      "37                        0               0.00                   0 ...  \n",
      "38                        0               0.00                   0 ...  \n",
      "39                        0               0.00                   0 ...  \n",
      "40                        0               0.00                   0 ...  \n",
      "41                        0               0.00                   0 ...  \n",
      "42                        0               0.00                   0 ...  \n",
      "43                        0               0.00                   0 ...  \n",
      "44                        0               0.00                   0 ...  \n",
      "45                        0               0.00                   0 ...  \n",
      "46                        0               0.00                   0 ...  \n",
      "47                        0               0.00                   0 ...  \n",
      "48                        0             117.75                   0 ...  \n",
      "49                        0               0.00                   0 ...  \n",
      "50                        0               0.00                   0 ...  \n",
      "51                        0               0.00                   0 ...  \n",
      "52                      120             230.97                   0 ...  \n",
      "53                        0               0.00                   0 ...  \n",
      "54                        0               0.00                   0 ...  \n",
      "55                        0               0.00                   0 ...  \n",
      "56                        0               0.00                   0 ...  \n",
      "57                        0             185.55                   0 ...  \n",
      "58                        0               0.00                   0 ...  \n",
      "59                        0               0.00                   0 ...  \n",
      "                        ...                ...                 ...      \n",
      "\n",
      "[6016 rows x 371 columns]\n"
     ]
    }
   ],
   "source": [
    "sample_size = train.TARGET.value_counts()[1]\n",
    "unsatisfied_indices = train[train.TARGET==1].index # index of zeros\n",
    "unsatisfied_sample = train.loc[train.TARGET==1] #data of unsatosfied customers\n",
    "\n",
    "Satisfied_indices = train[train.TARGET==0].index\n",
    "random_indices = np.random.choice(Satisfied_indices, sample_size, replace=False)\n",
    "Satisfied_sample = train.loc[random_indices]\n",
    "\n",
    "merged_sample = pd.concat([Satisfied_sample, unsatisfied_sample], ignore_index=True)\n",
    "print(merged_sample) "
   ]
  },
  {
   "cell_type": "markdown",
   "metadata": {},
   "source": [
    "# Learning Phase after \"Under_sampling\":\n",
    "As Logistic regression and Deicion Tree algorithms obtained the worest and best results respectvely, we gonna only reimplement them after applying the under_sampling on the data to check its effect on the learning reults "
   ]
  },
  {
   "cell_type": "markdown",
   "metadata": {},
   "source": [
    "## 1. Logistic Regression .. "
   ]
  },
  {
   "cell_type": "code",
   "execution_count": 76,
   "metadata": {
    "collapsed": false
   },
   "outputs": [],
   "source": [
    "indeces = np.arange(len(merged_sample))\n",
    "# np.random.shuffle(indeces)\n",
    "# data = data[indeces]\n",
    "training_data = merged_sample[0:int(0.7*len(merged_sample))]\n",
    "validation_data = merged_sample[int(0.7*len(merged_sample))+1:int(0.85*len(merged_sample))]\n",
    "test_data = merged_sample[int(0.85*len(merged_sample))+1:]"
   ]
  },
  {
   "cell_type": "code",
   "execution_count": 77,
   "metadata": {
    "collapsed": false
   },
   "outputs": [
    {
     "data": {
      "text/plain": [
       "'4211 training samples : validation accuracy = 0.0, test accuracy = 0.0'"
      ]
     },
     "metadata": {},
     "output_type": "display_data"
    }
   ],
   "source": [
    "logistic = LogisticRegression().fit(training_data.values, training_data.TARGET)\n",
    "validation_error = logistic.score(validation_data.values, validation_data.TARGET) \n",
    "test_error = logistic.score(test_data.values, test_data.TARGET) #get_error(logistic)\n",
    "display(str.format(\"{} training samples : validation accuracy = {}, test accuracy = {}\",training_data.shape[0], validation_error, test_error))"
   ]
  },
  {
   "cell_type": "markdown",
   "metadata": {},
   "source": [
    "## - Validation phase .. "
   ]
  },
  {
   "cell_type": "code",
   "execution_count": 78,
   "metadata": {
    "collapsed": false
   },
   "outputs": [],
   "source": [
    "y_true = validation_data.TARGET\n",
    "y_pred = logistic.predict(validation_data.values)"
   ]
  },
  {
   "cell_type": "code",
   "execution_count": 79,
   "metadata": {
    "collapsed": false
   },
   "outputs": [
    {
     "name": "stdout",
     "output_type": "stream",
     "text": [
      "Confusion Matrix:  \n",
      "[[  0   0]\n",
      " [901   0]]\n"
     ]
    }
   ],
   "source": [
    "cm = confusion_matrix(y_true, y_pred)\n",
    "print \"Confusion Matrix: \", '\\n', cm"
   ]
  },
  {
   "cell_type": "markdown",
   "metadata": {},
   "source": [
    "## Precision, Recall, and F-score .. "
   ]
  },
  {
   "cell_type": "code",
   "execution_count": 80,
   "metadata": {
    "collapsed": false
   },
   "outputs": [
    {
     "data": {
      "text/plain": [
       "(0.0, 0.0, 0.0, 901)"
      ]
     },
     "execution_count": 80,
     "metadata": {},
     "output_type": "execute_result"
    }
   ],
   "source": [
    "precision_recall_fscore_support(y_true, y_pred, average='binary')"
   ]
  },
  {
   "cell_type": "markdown",
   "metadata": {},
   "source": [
    "## Comment:\n",
    "After applying undersampling and classify the data points using Logistic regression .. The results are still bad !! .. \n",
    "The confusion matrix shows that the learning algorithm misclassified ALL the satisfied customers, although it begins to detect the unsatisfied customers correctly"
   ]
  },
  {
   "cell_type": "markdown",
   "metadata": {},
   "source": [
    "## 2. Decision Tree: \n",
    "Let's try another algorithm which is \"Decision Tree - DT\" "
   ]
  },
  {
   "cell_type": "code",
   "execution_count": 81,
   "metadata": {
    "collapsed": false
   },
   "outputs": [
    {
     "data": {
      "text/plain": [
       "DecisionTreeClassifier(compute_importances=None, criterion='gini',\n",
       "            max_depth=None, max_features=None, min_density=None,\n",
       "            min_samples_leaf=1, min_samples_split=2, random_state=None,\n",
       "            splitter='best')"
      ]
     },
     "execution_count": 81,
     "metadata": {},
     "output_type": "execute_result"
    }
   ],
   "source": [
    "clf = tree.DecisionTreeClassifier()\n",
    "clf = clf.fit(training_data.values,training_data.TARGET)\n",
    "clf"
   ]
  },
  {
   "cell_type": "code",
   "execution_count": 82,
   "metadata": {
    "collapsed": true
   },
   "outputs": [],
   "source": [
    "y_true = validation_data.TARGET\n",
    "y_pred = clf.predict(validation_data.values)"
   ]
  },
  {
   "cell_type": "code",
   "execution_count": 83,
   "metadata": {
    "collapsed": false
   },
   "outputs": [
    {
     "data": {
      "text/plain": [
       "(1.0, 1.0, 1.0, 901)"
      ]
     },
     "execution_count": 83,
     "metadata": {},
     "output_type": "execute_result"
    }
   ],
   "source": [
    "precision_recall_fscore_support(y_true, y_pred, average='binary')"
   ]
  },
  {
   "cell_type": "markdown",
   "metadata": {},
   "source": [
    "## Comment:\n",
    "\n",
    "- Applying Undersampling to the data helps enhancing the performance of Decision Tree\n",
    "\n",
    "- The results of Precision, Recall, F-score, and sample weight have been enhanced (higher values indicate better performance) \n",
    "\n",
    "- However the classification results of Logistic Regression is less than the expectations (0.001 for validation set) .. !"
   ]
  },
  {
   "cell_type": "markdown",
   "metadata": {},
   "source": [
    "# Testing Phase: \n",
    "Now, I gonna test the Decision Tree algorithm on the test set file assocaited with the challenge as it obtained the best results so far amonest (Logistic Regression and ANN) .. "
   ]
  },
  {
   "cell_type": "code",
   "execution_count": 441,
   "metadata": {
    "collapsed": false
   },
   "outputs": [],
   "source": [
    "data =np.genfromtxt('test.csv', delimiter=',',skip_header=True)"
   ]
  },
  {
   "cell_type": "code",
   "execution_count": 442,
   "metadata": {
    "collapsed": false
   },
   "outputs": [
    {
     "name": "stdout",
     "output_type": "stream",
     "text": [
      "Size of the data ..  (75818, 370)\n"
     ]
    }
   ],
   "source": [
    "print \"Size of the data .. \", data.shape"
   ]
  },
  {
   "cell_type": "code",
   "execution_count": 452,
   "metadata": {
    "collapsed": false
   },
   "outputs": [],
   "source": [
    "test = pd.read_csv(\"test.csv\")"
   ]
  },
  {
   "cell_type": "code",
   "execution_count": 453,
   "metadata": {
    "collapsed": false
   },
   "outputs": [
    {
     "data": {
      "text/html": [
       "<div style=\"max-height:1000px;max-width:1500px;overflow:auto;\">\n",
       "<table border=\"1\" class=\"dataframe\">\n",
       "  <thead>\n",
       "    <tr style=\"text-align: right;\">\n",
       "      <th></th>\n",
       "      <th>ID</th>\n",
       "      <th>var3</th>\n",
       "      <th>var15</th>\n",
       "      <th>imp_ent_var16_ult1</th>\n",
       "      <th>imp_op_var39_comer_ult1</th>\n",
       "      <th>imp_op_var39_comer_ult3</th>\n",
       "      <th>imp_op_var40_comer_ult1</th>\n",
       "      <th>imp_op_var40_comer_ult3</th>\n",
       "      <th>imp_op_var40_efect_ult1</th>\n",
       "      <th>imp_op_var40_efect_ult3</th>\n",
       "      <th>imp_op_var40_ult1</th>\n",
       "      <th>imp_op_var41_comer_ult1</th>\n",
       "      <th>imp_op_var41_comer_ult3</th>\n",
       "      <th>imp_op_var41_efect_ult1</th>\n",
       "      <th>imp_op_var41_efect_ult3</th>\n",
       "      <th>imp_op_var41_ult1</th>\n",
       "      <th>imp_op_var39_efect_ult1</th>\n",
       "      <th>imp_op_var39_efect_ult3</th>\n",
       "      <th>imp_op_var39_ult1</th>\n",
       "      <th>imp_sal_var16_ult1</th>\n",
       "      <th></th>\n",
       "    </tr>\n",
       "  </thead>\n",
       "  <tbody>\n",
       "    <tr>\n",
       "      <th>0</th>\n",
       "      <td> 2</td>\n",
       "      <td> 2</td>\n",
       "      <td> 32</td>\n",
       "      <td> 0</td>\n",
       "      <td> 0</td>\n",
       "      <td> 0</td>\n",
       "      <td> 0</td>\n",
       "      <td> 0</td>\n",
       "      <td> 0</td>\n",
       "      <td> 0</td>\n",
       "      <td> 0</td>\n",
       "      <td> 0</td>\n",
       "      <td> 0</td>\n",
       "      <td>  0</td>\n",
       "      <td>  0</td>\n",
       "      <td>  0</td>\n",
       "      <td>  0</td>\n",
       "      <td>  0</td>\n",
       "      <td>  0</td>\n",
       "      <td> 0</td>\n",
       "      <td>...</td>\n",
       "    </tr>\n",
       "    <tr>\n",
       "      <th>1</th>\n",
       "      <td> 5</td>\n",
       "      <td> 2</td>\n",
       "      <td> 35</td>\n",
       "      <td> 0</td>\n",
       "      <td> 0</td>\n",
       "      <td> 0</td>\n",
       "      <td> 0</td>\n",
       "      <td> 0</td>\n",
       "      <td> 0</td>\n",
       "      <td> 0</td>\n",
       "      <td> 0</td>\n",
       "      <td> 0</td>\n",
       "      <td> 0</td>\n",
       "      <td>  0</td>\n",
       "      <td>  0</td>\n",
       "      <td>  0</td>\n",
       "      <td>  0</td>\n",
       "      <td>  0</td>\n",
       "      <td>  0</td>\n",
       "      <td> 0</td>\n",
       "      <td>...</td>\n",
       "    </tr>\n",
       "    <tr>\n",
       "      <th>2</th>\n",
       "      <td> 6</td>\n",
       "      <td> 2</td>\n",
       "      <td> 23</td>\n",
       "      <td> 0</td>\n",
       "      <td> 0</td>\n",
       "      <td> 0</td>\n",
       "      <td> 0</td>\n",
       "      <td> 0</td>\n",
       "      <td> 0</td>\n",
       "      <td> 0</td>\n",
       "      <td> 0</td>\n",
       "      <td> 0</td>\n",
       "      <td> 0</td>\n",
       "      <td> 60</td>\n",
       "      <td> 60</td>\n",
       "      <td> 60</td>\n",
       "      <td> 60</td>\n",
       "      <td> 60</td>\n",
       "      <td> 60</td>\n",
       "      <td> 0</td>\n",
       "      <td>...</td>\n",
       "    </tr>\n",
       "    <tr>\n",
       "      <th>3</th>\n",
       "      <td> 7</td>\n",
       "      <td> 2</td>\n",
       "      <td> 24</td>\n",
       "      <td> 0</td>\n",
       "      <td> 0</td>\n",
       "      <td> 0</td>\n",
       "      <td> 0</td>\n",
       "      <td> 0</td>\n",
       "      <td> 0</td>\n",
       "      <td> 0</td>\n",
       "      <td> 0</td>\n",
       "      <td> 0</td>\n",
       "      <td> 0</td>\n",
       "      <td>  0</td>\n",
       "      <td>  0</td>\n",
       "      <td>  0</td>\n",
       "      <td>  0</td>\n",
       "      <td>  0</td>\n",
       "      <td>  0</td>\n",
       "      <td> 0</td>\n",
       "      <td>...</td>\n",
       "    </tr>\n",
       "    <tr>\n",
       "      <th>4</th>\n",
       "      <td> 9</td>\n",
       "      <td> 2</td>\n",
       "      <td> 23</td>\n",
       "      <td> 0</td>\n",
       "      <td> 0</td>\n",
       "      <td> 0</td>\n",
       "      <td> 0</td>\n",
       "      <td> 0</td>\n",
       "      <td> 0</td>\n",
       "      <td> 0</td>\n",
       "      <td> 0</td>\n",
       "      <td> 0</td>\n",
       "      <td> 0</td>\n",
       "      <td>  0</td>\n",
       "      <td>  0</td>\n",
       "      <td>  0</td>\n",
       "      <td>  0</td>\n",
       "      <td>  0</td>\n",
       "      <td>  0</td>\n",
       "      <td> 0</td>\n",
       "      <td>...</td>\n",
       "    </tr>\n",
       "  </tbody>\n",
       "</table>\n",
       "<p>5 rows × 370 columns</p>\n",
       "</div>"
      ],
      "text/plain": [
       "   ID  var3  var15  imp_ent_var16_ult1  imp_op_var39_comer_ult1  \\\n",
       "0   2     2     32                   0                        0   \n",
       "1   5     2     35                   0                        0   \n",
       "2   6     2     23                   0                        0   \n",
       "3   7     2     24                   0                        0   \n",
       "4   9     2     23                   0                        0   \n",
       "\n",
       "   imp_op_var39_comer_ult3  imp_op_var40_comer_ult1  imp_op_var40_comer_ult3  \\\n",
       "0                        0                        0                        0   \n",
       "1                        0                        0                        0   \n",
       "2                        0                        0                        0   \n",
       "3                        0                        0                        0   \n",
       "4                        0                        0                        0   \n",
       "\n",
       "   imp_op_var40_efect_ult1  imp_op_var40_efect_ult3  imp_op_var40_ult1  \\\n",
       "0                        0                        0                  0   \n",
       "1                        0                        0                  0   \n",
       "2                        0                        0                  0   \n",
       "3                        0                        0                  0   \n",
       "4                        0                        0                  0   \n",
       "\n",
       "   imp_op_var41_comer_ult1  imp_op_var41_comer_ult3  imp_op_var41_efect_ult1  \\\n",
       "0                        0                        0                        0   \n",
       "1                        0                        0                        0   \n",
       "2                        0                        0                       60   \n",
       "3                        0                        0                        0   \n",
       "4                        0                        0                        0   \n",
       "\n",
       "   imp_op_var41_efect_ult3  imp_op_var41_ult1  imp_op_var39_efect_ult1  \\\n",
       "0                        0                  0                        0   \n",
       "1                        0                  0                        0   \n",
       "2                       60                 60                       60   \n",
       "3                        0                  0                        0   \n",
       "4                        0                  0                        0   \n",
       "\n",
       "   imp_op_var39_efect_ult3  imp_op_var39_ult1  imp_sal_var16_ult1      \n",
       "0                        0                  0                   0 ...  \n",
       "1                        0                  0                   0 ...  \n",
       "2                       60                 60                   0 ...  \n",
       "3                        0                  0                   0 ...  \n",
       "4                        0                  0                   0 ...  \n",
       "\n",
       "[5 rows x 370 columns]"
      ]
     },
     "execution_count": 453,
     "metadata": {},
     "output_type": "execute_result"
    }
   ],
   "source": [
    "test.head()"
   ]
  },
  {
   "cell_type": "code",
   "execution_count": null,
   "metadata": {
    "collapsed": false
   },
   "outputs": [],
   "source": [
    "y_pred = clf.predict(test.values)"
   ]
  },
  {
   "cell_type": "code",
   "execution_count": null,
   "metadata": {
    "collapsed": true
   },
   "outputs": [],
   "source": [
    "with open('test.csv', 'a') as the_file:\n",
    "    the_file.write(y_pred)\n",
    "f.close()"
   ]
  },
  {
   "cell_type": "markdown",
   "metadata": {},
   "source": [
    "# Conclusion and Future Work:\n",
    "- This challenge is related to \"Santander Customer Satisfaction\" Kaggle Competition \n",
    "- Data preprocessing phase is applied to understand the nature of the data \n",
    "- The learning phase is applied through three learning algorithms (Logistic Regression, ANN, and Decision Tree)\n",
    "- Logistic Regression was the worest and Decision Tree with the best although the classification results are still unsatisfied (almost zero) although the results of precision and recall of Decision tree was a little bit better \n",
    "- Data Under_sampling is performed .. \n",
    "- The learning results for Decision tree became a little bit better after the under_sampling \n",
    "- Decision Tree algorithm is applied on the test data \n",
    "\n",
    "- As a future work, the alogrithms might been applied on the reduced features results from the feature reduction phase\n",
    "- This expect to enhance the classification results as the learning will be in a feature space instead of the input data space "
   ]
  }
 ],
 "metadata": {
  "kernelspec": {
   "display_name": "Python 2",
   "language": "python",
   "name": "python2"
  },
  "language_info": {
   "codemirror_mode": {
    "name": "ipython",
    "version": 2
   },
   "file_extension": ".py",
   "mimetype": "text/x-python",
   "name": "python",
   "nbconvert_exporter": "python",
   "pygments_lexer": "ipython2",
   "version": "2.7.6"
  }
 },
 "nbformat": 4,
 "nbformat_minor": 0
}
